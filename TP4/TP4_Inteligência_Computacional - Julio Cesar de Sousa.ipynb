{
  "cells": [
    {
      "cell_type": "markdown",
      "metadata": {
        "id": "DD5sjOE7c5Hf"
      },
      "source": [
        "#GERAÇÃO DE LETRAS DE RAP A PARTIR DE UMA REDE NEURAL"
      ]
    },
    {
      "cell_type": "markdown",
      "metadata": {
        "id": "5OZECm5Pc9lK"
      },
      "source": [
        "A produção musical é uma tarefa complexa e vem sendo cada vez mais aprimorada e amparada por tecnologias auxiliares. A composição de letras de músicas é um exercício lógico, além da expressividade e essência transcrita. A vertente underground, traz consigo a originalidade e um ponto de vista crítico sobre situações cotidianas e, geralmente, é marginalizado pelo vocabulário ou com temas sensíveis. Este estudo explora o treinamento de uma LSTM para geração automatizada de letras de RAP, investigando os desafios e as oportunidades associadas a essa abordagem inovadora. Para alimentar essa rede neural foram utilizadas letras de música do grupo Racionais MC's, como forma de homenagem ao símbolo marcante que o grupo representa para o RAP nacional."
      ]
    },
    {
      "cell_type": "markdown",
      "metadata": {
        "id": "ytCKhF2PHmbg"
      },
      "source": [
        "# Abordagens anteriores"
      ]
    },
    {
      "cell_type": "markdown",
      "metadata": {
        "id": "P7V8epK2H4AH"
      },
      "source": [
        "Foram utilizadas algumas abordagens diferentes para o desenvolvimento deste trabalho antes de chegar na versão final do protótipo apresentado mais abaixo. Basicamente, a intenção era aproveitar das arquiteturas prontas dos modelos já existentes para ter uma geração de texto mais refinada e robusta. Porém, a limitação de hardware e ambientes de execução trouxeram problemas para a utilização destes modelos. Isso fez com que não pudessem ser aproveitados da maneira esperado, fazendo-se necessário a troca de abordagem."
      ]
    },
    {
      "cell_type": "markdown",
      "metadata": {
        "id": "dRGde25sHDbG"
      },
      "source": [
        "## Utilização do modelo BERTimbau"
      ]
    },
    {
      "cell_type": "markdown",
      "metadata": {
        "id": "hsXh5YyRHrnF"
      },
      "source": [
        "A utilização deste modelo tinha a finalidade de geração de novas letras de RAP a partir da predição de labels [MASK] para tal. Inicialmente surgiram esperanças positivas, pois o modelo conseguia fazer a predição de palavras que completavam certas sentenças das letras contidas na base de dados. Não continham um score muito alto, mas acreditava-se que com o ajuste fino para enviesar o modelo no universo Racionais MC's este score seria maior, possibilitando a geração de novas letras coesas com a temática. Porém, a utilização deste modelo foi desencorajada pelo baixo indíce de acuráci a e todas as outras problemáticas que foram supracitadas. Seguem algumas informações visuais sobre os resultados do modelo."
      ]
    },
    {
      "cell_type": "markdown",
      "metadata": {
        "id": "4BrEvoB1M5Wo"
      },
      "source": [
        "### Testes de predição"
      ]
    },
    {
      "cell_type": "code",
      "execution_count": null,
      "metadata": {
        "colab": {
          "base_uri": "https://localhost:8080/",
          "height": 648,
          "referenced_widgets": [
            "f306edaa2f36433a838dad261830c0b8",
            "fdfb1d779897479fabea29c54ab76d45",
            "e5f759be30ad4b0d9565bf3ca6b6bfbf",
            "ac32cabb31ab410bb0c2b7840347ebdc",
            "c1ba0e4a96854e3e9a3e1af6b378b2e4",
            "2e2ef931a09043378ae51d29f7fa6b36",
            "4beb4b103a5b4a41914342f0b11e6be7",
            "4fcf3660c22e418ca71059f8e440baa0",
            "6085693745b8490da939aa3180770f96",
            "8c84c397fd7144079966b507cfb61196",
            "16ff3ea75c0449818f062db6c25dc4af",
            "1dd632218e3740f98cf37fec0d0dd83a",
            "5e3fb8604c7a440ab2cc6999d6da7301",
            "de5dca2bdda84221a20e45d201e11332",
            "c8a2cd7435874738ae3ed61088b95282",
            "d41f72e041484fcf90acf6156834150a",
            "294cc19274d14d56aaa2e1883ff14e84",
            "1f28f500ee704cf08c206c6d199c9c0c",
            "eac6eb00920b44b1abd36e31c8c9c96c",
            "6f813ff20458490d993cbbc918854559",
            "8f611282afbb43e098ef24d1b26a17d5",
            "6d67a5a9d14d46f0b97bdfb17f4ebf9b",
            "e7d03a4de8ef49d78298df4fc1630060",
            "603f0b85a24344868e96b02df02dbd12",
            "01dc2669382a4258861cc0ab6195f53b",
            "f16f7b2562a046ad95c785492add64b6",
            "b924f373ef5a452c9bb5ad7ea5d51c9b",
            "17d2344a220c45eabd2ef2762856bc95",
            "06ee4e3c012843d5bed34ab6fdaf2a40",
            "06d522266f364f3889b2a1de0c61676a",
            "97c8969cda0447ab94f67e608e9f671e",
            "6c3384f6b68d40069a037e9415a0e6bd",
            "ef7496ef33a742de8c9f4a0d0b5064a0",
            "9c5045fe40834c64856cf8526c05ee05",
            "8168da40f79e415c99d3523ab65ee453",
            "7c1990ebab2f42a4b9b78a4b05972145",
            "7fd16c3531654d709cb8f7fb6370476c",
            "1f59a78f5b714a86b5c877dd212ebfca",
            "abd2fda162ff4d73ade9c6cd87dbcbae",
            "35dbddb40f9d47a5ac0c4ad8beb93d14",
            "ecf1c21c55ca4a589c9ffb5666cddabe",
            "995fb1bdf25644338657fe89c9e4dfc2",
            "58232b6e57bc4d66b93033464a6a90ba",
            "e6b13a46af9c4d97b59e108ab5669c03",
            "16537092f1694887aaf0795753903a16",
            "7cea8f5aaf2e41c5948e6b910f9e3fb6",
            "c9fcf01831c54fe4bba70e94f3a267d2",
            "892bff3db23d4db782a734a19eb0f098",
            "2786a795ba30467cae1e098eba96d13e",
            "464cde4054d646d4994190ce0d2e5178",
            "3008303031094883bdc0634ed4ed9838",
            "4b908a2b9498422b95af889bba7a553c",
            "d13eac2aaf3e4100bedb5579406894c0",
            "c8de7443853a431a8d28f6adb2a91c28",
            "3b3c1b6184e04581aaa2eaf7292379c7"
          ]
        },
        "id": "KGtPekx2NweR",
        "outputId": "5a699e69-0f0a-4546-d02e-5c3eabfeb9ca"
      },
      "outputs": [
        {
          "name": "stderr",
          "output_type": "stream",
          "text": [
            "/usr/local/lib/python3.10/dist-packages/huggingface_hub/utils/_token.py:89: UserWarning: \n",
            "The secret `HF_TOKEN` does not exist in your Colab secrets.\n",
            "To authenticate with the Hugging Face Hub, create a token in your settings tab (https://huggingface.co/settings/tokens), set it as secret in your Google Colab and restart your session.\n",
            "You will be able to reuse this secret in all of your notebooks.\n",
            "Please note that authentication is recommended but still optional to access public models or datasets.\n",
            "  warnings.warn(\n"
          ]
        },
        {
          "data": {
            "application/vnd.jupyter.widget-view+json": {
              "model_id": "f306edaa2f36433a838dad261830c0b8",
              "version_major": 2,
              "version_minor": 0
            },
            "text/plain": [
              "tokenizer_config.json:   0%|          | 0.00/567 [00:00<?, ?B/s]"
            ]
          },
          "metadata": {},
          "output_type": "display_data"
        },
        {
          "data": {
            "application/vnd.jupyter.widget-view+json": {
              "model_id": "1dd632218e3740f98cf37fec0d0dd83a",
              "version_major": 2,
              "version_minor": 0
            },
            "text/plain": [
              "vocab.txt:   0%|          | 0.00/210k [00:00<?, ?B/s]"
            ]
          },
          "metadata": {},
          "output_type": "display_data"
        },
        {
          "data": {
            "application/vnd.jupyter.widget-view+json": {
              "model_id": "e7d03a4de8ef49d78298df4fc1630060",
              "version_major": 2,
              "version_minor": 0
            },
            "text/plain": [
              "special_tokens_map.json:   0%|          | 0.00/125 [00:00<?, ?B/s]"
            ]
          },
          "metadata": {},
          "output_type": "display_data"
        },
        {
          "data": {
            "application/vnd.jupyter.widget-view+json": {
              "model_id": "9c5045fe40834c64856cf8526c05ee05",
              "version_major": 2,
              "version_minor": 0
            },
            "text/plain": [
              "config.json:   0%|          | 0.00/863 [00:00<?, ?B/s]"
            ]
          },
          "metadata": {},
          "output_type": "display_data"
        },
        {
          "data": {
            "application/vnd.jupyter.widget-view+json": {
              "model_id": "16537092f1694887aaf0795753903a16",
              "version_major": 2,
              "version_minor": 0
            },
            "text/plain": [
              "pytorch_model.bin:   0%|          | 0.00/436M [00:00<?, ?B/s]"
            ]
          },
          "metadata": {},
          "output_type": "display_data"
        },
        {
          "data": {
            "text/plain": [
              "[{'score': 0.06270178407430649,\n",
              "  'token': 15212,\n",
              "  'token_str': 'tenho',\n",
              "  'sequence': 'Hoje eu sou ladrão, tenho 157'},\n",
              " {'score': 0.051007188856601715,\n",
              "  'token': 123,\n",
              "  'token_str': 'a',\n",
              "  'sequence': 'Hoje eu sou ladrão, a 157'},\n",
              " {'score': 0.0490175262093544,\n",
              "  'token': 712,\n",
              "  'token_str': 'aos',\n",
              "  'sequence': 'Hoje eu sou ladrão, aos 157'},\n",
              " {'score': 0.04188193008303642,\n",
              "  'token': 4319,\n",
              "  'token_str': 'artigo',\n",
              "  'sequence': 'Hoje eu sou ladrão, artigo 157'},\n",
              " {'score': 0.023356139659881592,\n",
              "  'token': 1328,\n",
              "  'token_str': 'art',\n",
              "  'sequence': 'Hoje eu sou ladrão, art 157'}]"
            ]
          },
          "execution_count": 1,
          "metadata": {},
          "output_type": "execute_result"
        }
      ],
      "source": [
        "from transformers import pipeline\n",
        "from transformers import AutoTokenizer, AutoModelForMaskedLM\n",
        "\n",
        "tokenizer = AutoTokenizer.from_pretrained(\"rufimelo/Legal-BERTimbau-base\")\n",
        "model = AutoModelForMaskedLM.from_pretrained(\"rufimelo/Legal-BERTimbau-base\")\n",
        "\n",
        "pipe = pipeline('fill-mask', model=model, tokenizer=tokenizer)\n",
        "pipe('Hoje eu sou ladrão, [MASK] 157')\n",
        "#Acertou na 4 tentativa"
      ]
    },
    {
      "cell_type": "code",
      "execution_count": null,
      "metadata": {
        "colab": {
          "base_uri": "https://localhost:8080/"
        },
        "id": "WNpCPd6MN0oJ",
        "outputId": "e3788316-63c5-4475-9073-495a383c1298"
      },
      "outputs": [
        {
          "data": {
            "text/plain": [
              "[{'score': 0.22971633076667786,\n",
              "  'token': 13943,\n",
              "  'token_str': 'lua',\n",
              "  'sequence': 'A lua cheia, clareia as ruas do Capão'},\n",
              " {'score': 0.2135608047246933,\n",
              "  'token': 1991,\n",
              "  'token_str': 'água',\n",
              "  'sequence': 'A água cheia, clareia as ruas do Capão'},\n",
              " {'score': 0.06903935968875885,\n",
              "  'token': 2954,\n",
              "  'token_str': 'noite',\n",
              "  'sequence': 'A noite cheia, clareia as ruas do Capão'},\n",
              " {'score': 0.05121872201561928,\n",
              "  'token': 596,\n",
              "  'token_str': 'tempo',\n",
              "  'sequence': 'A tempo cheia, clareia as ruas do Capão'},\n",
              " {'score': 0.04503921791911125,\n",
              "  'token': 7856,\n",
              "  'token_str': 'Lua',\n",
              "  'sequence': 'A Lua cheia, clareia as ruas do Capão'}]"
            ]
          },
          "execution_count": 2,
          "metadata": {},
          "output_type": "execute_result"
        }
      ],
      "source": [
        "pipe = pipeline('fill-mask', model=model, tokenizer=tokenizer)\n",
        "pipe('A [MASK] cheia, clareia as ruas do Capão')\n",
        "#Acertou de primeira, porém com score baixo ainda."
      ]
    },
    {
      "cell_type": "markdown",
      "metadata": {
        "id": "HsGfwXhOHmbh"
      },
      "source": [
        "## Utilização do modelo GPorTuguese-2"
      ]
    },
    {
      "cell_type": "markdown",
      "metadata": {
        "id": "RQbkFJs_Lq8k"
      },
      "source": [
        "A utilização deste modelo tinha a finalidade de geração de novas letras de RAP a partir do propósito do modelo, geração de texto longo. A ideia parecia atrativa e com grande potencial, porém a utilização deste modelo, além das problemáticas supracitadas, não foi tão efetiva. O texto gerado não fazia muita relação com o vies que era desejado (gerar novas letras com similaridade às composições da base de dados). Por já possuir um extenso corpus pré-treinado, crê-se que seria necessário também a inclusão de um corpus mais parrudo, que contivesse letras de música de outros grupos de RAP, fazendo com que fosse necessário desviar da temática central, Racionais MC's. Seguem algumas informações visuais sobre os resultados do modelo."
      ]
    },
    {
      "cell_type": "markdown",
      "metadata": {
        "id": "a6ET_Ra_NGjH"
      },
      "source": [
        "### Testes de geração de texto"
      ]
    },
    {
      "cell_type": "code",
      "execution_count": null,
      "metadata": {
        "colab": {
          "base_uri": "https://localhost:8080/",
          "height": 767,
          "referenced_widgets": [
            "508757b51aad45149a88ce23fbd172b7",
            "5c75381fad894652b7cf77329d737e16",
            "cf0096878fcf4bd0803db2b9707b6577",
            "2a3c8e748751441f88e83c8774388e0f",
            "28735aaaaabf4a17ba226c7ecdf2d37a",
            "539723ab190f4cdc9f52801dc89e620a",
            "abaedeeb017c498cb46bb4c67ff34f4e",
            "8acd2364facf4a38803a09c439647165",
            "b67efc5629654c12b3f70b40b90efa34",
            "038538d284f74a37a483fc2f89383e3b",
            "86416b45431248c3860f7f3ebc3d9969",
            "d6297e4451944e07af1a380b399551dc",
            "03d1ac1eb029428b91c1b22a3b15c5d1",
            "806d3bbd5dcf4ace932972f139f985cd",
            "fafa5753809c4d05b423bc1462d1ebdd",
            "f5f712a18fd646d2ba1411f0cbac8fa1",
            "321f8f4370214418b4b9db8048cd56b2",
            "cacf10d8e33344e3ba4ced13b82d0aed",
            "fc1f75fe856f485d8d242a108c3e653a",
            "438d9b1974334298a3faca8b02986371",
            "22e15ed9768b46e1875e6711b89e3082",
            "f6c21273e22943828af385bd82f7e3d8",
            "45c22c357bbd4fb4915a130f6142e8bf",
            "2d0fe8bbd190490a8e27a309dbe81616",
            "90ac4e1d6a53471db2c0082cd53b3063",
            "b0a44806a2754b5a80b9deaf1ae50301",
            "21ff816ea6924c7ca54fe275c5a98f28",
            "36376a583cb34d1ab65d9b09844014d2",
            "4bcf94f8853f473cba631153c5a10add",
            "20706a96163e448abb5ba5d7b4438630",
            "bcb3e0d816e34919beb9e97f681212c3",
            "608914d589a24f239639227f259b68f1",
            "adc43c57488547238b17f96c51d94efa",
            "f0d43e65a4d84b49a50036c1dc07a436",
            "c11f87d7cf8b4132b085497c7829376f",
            "d8f047c8cf29492485949f319d608d28",
            "6ab7c958591048448633dca50491d001",
            "f259eb1a7ad44ca7805c6b3b1eadcf4b",
            "79f217e070484dde9e61e19f65ec323a",
            "71ade01521454180b709f6e320f45c28",
            "2f828516bf7e4cdeaeb5b9168ac7065a",
            "a18e7b04076e461f8d206ff8434ae2ce",
            "1e68d34306f345a988a06e1ba8f46e95",
            "5af1651a05df425da14338be9bc60044",
            "b30111161cfc4f9293ed9be7fc7f602e",
            "3c28978cd7eb46b7b2809925251ab4ed",
            "05945af5a3d245eebc9474759f36cf84",
            "d82a81a0bcc144cb9d908956711bb4e4",
            "e8c0c4ced02f4d6184ffe4c1f56ea80e",
            "33257da740c1431fa9e107fbeff1c728",
            "b491cd96f61245898c51e1fe4430219e",
            "c6afd162d4a041dd898b0d19c432fc16",
            "7b516854c6974a24ac1cba0ee2261d68",
            "b7752a995dcf4b61be71a0a2cd35669c",
            "873bcf0d9daa4616986f963eb4a08b55",
            "2b3d7f3d4c02411cb50b0d01340e30ee",
            "1ecc4368d9394a8fb5ac8dd20abc2e6a",
            "ed07f257a84c4c92a8bc3af1d1e9d1e1",
            "c6354fe39eaa4c9697aa47fdf9a1f3b3",
            "8b8e6353931f4bd1ac794a868f72af69",
            "c5f51fe59e374d65b43ee3900348c1c0",
            "84f8d0b412ce410aa5f1413658414322",
            "6f5f1f5105944ea9abcceae1989ef4a4",
            "ffe077cf91f24e2587bf1d3088a44bad",
            "a1c9ed66535648aa98de33b22513693d",
            "a90254f4ca9a4c5890156e216dec06f7"
          ]
        },
        "id": "PY2pJ5X6N-TB",
        "outputId": "603700c6-7246-4dcf-86f3-d1fc798cce84"
      },
      "outputs": [
        {
          "data": {
            "application/vnd.jupyter.widget-view+json": {
              "model_id": "508757b51aad45149a88ce23fbd172b7",
              "version_major": 2,
              "version_minor": 0
            },
            "text/plain": [
              "tokenizer_config.json:   0%|          | 0.00/92.0 [00:00<?, ?B/s]"
            ]
          },
          "metadata": {},
          "output_type": "display_data"
        },
        {
          "name": "stderr",
          "output_type": "stream",
          "text": [
            "/usr/local/lib/python3.10/dist-packages/huggingface_hub/file_download.py:1132: FutureWarning: `resume_download` is deprecated and will be removed in version 1.0.0. Downloads always resume when possible. If you want to force a new download, use `force_download=True`.\n",
            "  warnings.warn(\n"
          ]
        },
        {
          "data": {
            "application/vnd.jupyter.widget-view+json": {
              "model_id": "d6297e4451944e07af1a380b399551dc",
              "version_major": 2,
              "version_minor": 0
            },
            "text/plain": [
              "config.json:   0%|          | 0.00/666 [00:00<?, ?B/s]"
            ]
          },
          "metadata": {},
          "output_type": "display_data"
        },
        {
          "data": {
            "application/vnd.jupyter.widget-view+json": {
              "model_id": "45c22c357bbd4fb4915a130f6142e8bf",
              "version_major": 2,
              "version_minor": 0
            },
            "text/plain": [
              "vocab.json:   0%|          | 0.00/850k [00:00<?, ?B/s]"
            ]
          },
          "metadata": {},
          "output_type": "display_data"
        },
        {
          "data": {
            "application/vnd.jupyter.widget-view+json": {
              "model_id": "f0d43e65a4d84b49a50036c1dc07a436",
              "version_major": 2,
              "version_minor": 0
            },
            "text/plain": [
              "merges.txt:   0%|          | 0.00/508k [00:00<?, ?B/s]"
            ]
          },
          "metadata": {},
          "output_type": "display_data"
        },
        {
          "data": {
            "application/vnd.jupyter.widget-view+json": {
              "model_id": "b30111161cfc4f9293ed9be7fc7f602e",
              "version_major": 2,
              "version_minor": 0
            },
            "text/plain": [
              "special_tokens_map.json:   0%|          | 0.00/120 [00:00<?, ?B/s]"
            ]
          },
          "metadata": {},
          "output_type": "display_data"
        },
        {
          "name": "stderr",
          "output_type": "stream",
          "text": [
            "/usr/local/lib/python3.10/dist-packages/transformers/models/auto/modeling_auto.py:1712: FutureWarning: The class `AutoModelWithLMHead` is deprecated and will be removed in a future version. Please use `AutoModelForCausalLM` for causal language models, `AutoModelForMaskedLM` for masked language models and `AutoModelForSeq2SeqLM` for encoder-decoder models.\n",
            "  warnings.warn(\n"
          ]
        },
        {
          "data": {
            "application/vnd.jupyter.widget-view+json": {
              "model_id": "2b3d7f3d4c02411cb50b0d01340e30ee",
              "version_major": 2,
              "version_minor": 0
            },
            "text/plain": [
              "pytorch_model.bin:   0%|          | 0.00/510M [00:00<?, ?B/s]"
            ]
          },
          "metadata": {},
          "output_type": "display_data"
        },
        {
          "data": {
            "text/plain": [
              "GPT2LMHeadModel(\n",
              "  (transformer): GPT2Model(\n",
              "    (wte): Embedding(50257, 768)\n",
              "    (wpe): Embedding(1024, 768)\n",
              "    (drop): Dropout(p=0.1, inplace=False)\n",
              "    (h): ModuleList(\n",
              "      (0-11): 12 x GPT2Block(\n",
              "        (ln_1): LayerNorm((768,), eps=1e-05, elementwise_affine=True)\n",
              "        (attn): GPT2Attention(\n",
              "          (c_attn): Conv1D()\n",
              "          (c_proj): Conv1D()\n",
              "          (attn_dropout): Dropout(p=0.1, inplace=False)\n",
              "          (resid_dropout): Dropout(p=0.1, inplace=False)\n",
              "        )\n",
              "        (ln_2): LayerNorm((768,), eps=1e-05, elementwise_affine=True)\n",
              "        (mlp): GPT2MLP(\n",
              "          (c_fc): Conv1D()\n",
              "          (c_proj): Conv1D()\n",
              "          (act): NewGELUActivation()\n",
              "          (dropout): Dropout(p=0.1, inplace=False)\n",
              "        )\n",
              "      )\n",
              "    )\n",
              "    (ln_f): LayerNorm((768,), eps=1e-05, elementwise_affine=True)\n",
              "  )\n",
              "  (lm_head): Linear(in_features=768, out_features=50257, bias=False)\n",
              ")"
            ]
          },
          "execution_count": 3,
          "metadata": {},
          "output_type": "execute_result"
        }
      ],
      "source": [
        "from transformers import AutoTokenizer, AutoModelWithLMHead\n",
        "import torch\n",
        "\n",
        "tokenizer = AutoTokenizer.from_pretrained(\"pierreguillou/gpt2-small-portuguese\")\n",
        "model = AutoModelWithLMHead.from_pretrained(\"pierreguillou/gpt2-small-portuguese\")\n",
        "\n",
        "model.eval()"
      ]
    },
    {
      "cell_type": "code",
      "execution_count": null,
      "metadata": {
        "id": "H1R1IDx4OBPY"
      },
      "outputs": [],
      "source": [
        "def format_output(output_tokens, tokenizer, tokens_per_line=8):\n",
        "    decoded_text = tokenizer.decode(output_tokens.tolist(), skip_special_tokens=True)\n",
        "    tokens = decoded_text.split()\n",
        "    lines = [' '.join(tokens[i:i+tokens_per_line]) for i in range(0, len(tokens), tokens_per_line)]\n",
        "    return '\\n'.join(lines)"
      ]
    },
    {
      "cell_type": "code",
      "execution_count": null,
      "metadata": {
        "colab": {
          "base_uri": "https://localhost:8080/"
        },
        "id": "9ZC4uDZXOEIR",
        "outputId": "776bfa16-fd99-470a-f1c4-3da922fdca6b"
      },
      "outputs": [
        {
          "name": "stdout",
          "output_type": "stream",
          "text": [
            ">> Generated text 1\n",
            "\n",
            "Tem que ser, tem que pá de sua\n",
            "própria, se contar em um lado e se\n",
            "aproxime de dila o outro, quando o morta\n",
            "se vê na cidade ser a sua al\n",
            ">> Generated text 2\n",
            "\n",
            "Tem que ser, tem que pá! e se\n",
            "chamar \"A.L.A.\" Não se sabe onde o clipe\n",
            "foi filmado. As cópias lançadas foram lançadas pela\n",
            "Sony em 7 de abril de 2016, e\n",
            "foram oficialmente lançadas em 5\n"
          ]
        }
      ],
      "source": [
        "device = torch.device(\"cuda\" if torch.cuda.is_available() else \"cpu\")\n",
        "model.to(device)\n",
        "text = \"Tem que ser, tem que pá \"\n",
        "inputs = tokenizer(text, return_tensors=\"pt\").to(device)\n",
        "\n",
        "sample_outputs = model.generate(\n",
        "    inputs.input_ids,\n",
        "    pad_token_id=50256,\n",
        "    do_sample=True,\n",
        "    max_length=50,\n",
        "    top_k=40,\n",
        "    num_return_sequences=2\n",
        ")\n",
        "\n",
        "for i, sample_output in enumerate(sample_outputs):\n",
        "    formatted_output = format_output(sample_output, tokenizer)\n",
        "    print(\">> Generated text {}\\n\\n{}\".format(i+1, formatted_output))"
      ]
    },
    {
      "cell_type": "code",
      "execution_count": null,
      "metadata": {
        "colab": {
          "base_uri": "https://localhost:8080/"
        },
        "id": "LGx7Ks2yONXA",
        "outputId": "0238f46d-2468-4807-b2f0-5272779b3123"
      },
      "outputs": [
        {
          "name": "stdout",
          "output_type": "stream",
          "text": [
            ">> Generated text 1\n",
            "\n",
            "Cotidiano na periferia da cidade do Porto e,\n",
            "mais tarde, no Bairro do Almada, onde se\n",
            "encontram os cafés, cafés, hotéis, lojas, clubes e\n",
            "casas comerciais dos concelhos portugueses de Almada e\n",
            "Santo Tirso. O conjunto de espaços públicos\n",
            ">> Generated text 2\n",
            "\n",
            "Cotidiano na periferia da \"Goula da Villa\". A\n",
            "partir daqui, muitos autores passaram a tratar o\n",
            "enredo da \"Goula da Villa\". A sua história\n",
            "de criação era que da família de Francisco\n",
            "Gomes de Sequeira, um\n"
          ]
        }
      ],
      "source": [
        "device = torch.device(\"cuda\" if torch.cuda.is_available() else \"cpu\")\n",
        "model.to(device)\n",
        "text = \"Cotidiano na periferia\"\n",
        "inputs = tokenizer(text, return_tensors=\"pt\").to(device)\n",
        "\n",
        "sample_outputs = model.generate(\n",
        "    inputs.input_ids,\n",
        "    pad_token_id=50256,\n",
        "    do_sample=True,\n",
        "    max_length=50,\n",
        "    top_k=40,\n",
        "    num_return_sequences=2\n",
        ")\n",
        "\n",
        "for i, sample_output in enumerate(sample_outputs):\n",
        "    formatted_output = format_output(sample_output, tokenizer)\n",
        "    print(\">> Generated text {}\\n\\n{}\".format(i+1, formatted_output))"
      ]
    },
    {
      "cell_type": "code",
      "execution_count": null,
      "metadata": {
        "colab": {
          "base_uri": "https://localhost:8080/"
        },
        "id": "1X44IfzfOQai",
        "outputId": "108fdc14-6d55-4458-b05c-46b9ebaaf26b"
      },
      "outputs": [
        {
          "name": "stdout",
          "output_type": "stream",
          "text": [
            ">> Generated text 1\n",
            "\n",
            "A lua cheia, clareia as ruas do Capão,\n",
            "que é a primeira cidade de Minas Gerais,\n",
            "a ter suas terras e o maior porto\n",
            "do país (sendo três das mais importantes do\n",
            "mundo). A capital das Minas foi em 1843,\n",
            "por\n",
            ">> Generated text 2\n",
            "\n",
            "A lua cheia, clareia as ruas do Capão\n",
            "da Canoa, em meio a muitos tiros a\n",
            "que seus rivais gritaram. Durante o jogo seguinte\n",
            "os clubes se enfrentaram com as torcidas rivais,\n",
            "se tornando: Galondo é uma\n"
          ]
        }
      ],
      "source": [
        "device = torch.device(\"cuda\" if torch.cuda.is_available() else \"cpu\")\n",
        "model.to(device)\n",
        "text = \"A lua cheia, clareia as ruas do Capão\"\n",
        "inputs = tokenizer(text, return_tensors=\"pt\").to(device)\n",
        "\n",
        "sample_outputs = model.generate(\n",
        "    inputs.input_ids,\n",
        "    pad_token_id=50256,\n",
        "    do_sample=True,\n",
        "    max_length=50,\n",
        "    top_k=40,\n",
        "    num_return_sequences=2\n",
        ")\n",
        "\n",
        "for i, sample_output in enumerate(sample_outputs):\n",
        "    formatted_output = format_output(sample_output, tokenizer)\n",
        "    print(\">> Generated text {}\\n\\n{}\".format(i+1, formatted_output))"
      ]
    },
    {
      "cell_type": "markdown",
      "metadata": {
        "id": "WbqZBltGhVFR"
      },
      "source": [
        "# Base de dados"
      ]
    },
    {
      "cell_type": "markdown",
      "metadata": {
        "id": "abarqeMsPCew"
      },
      "source": [
        "Importando bibliotecas que vão ser úteis neste estudo."
      ]
    },
    {
      "cell_type": "code",
      "execution_count": null,
      "metadata": {
        "id": "rmX-Ho-5-HNo"
      },
      "outputs": [],
      "source": [
        "import requests\n",
        "from bs4 import BeautifulSoup\n",
        "import re\n",
        "import gc"
      ]
    },
    {
      "cell_type": "markdown",
      "metadata": {
        "id": "zfPU0HDJdPFA"
      },
      "source": [
        "## Baixando a base de dados"
      ]
    },
    {
      "cell_type": "code",
      "execution_count": null,
      "metadata": {
        "id": "0q0-aziW-XxN"
      },
      "outputs": [],
      "source": [
        "url_arquivo = 'https://raw.githubusercontent.com/JotaChina/Computer-intelligence/update%231/TP2/RacionaisLyrics.raw'\n",
        "\n",
        "response = requests.get(url_arquivo)\n",
        "if response.status_code == 200:    \n",
        "    texto_raw = response.text\n",
        "else:\n",
        "    print(\"Falha ao fazer solicitação HTTP\")"
      ]
    },
    {
      "cell_type": "markdown",
      "metadata": {
        "id": "YzHeXxLvdRw_"
      },
      "source": [
        "## Pré-processando a base de dados.\n",
        "\n",
        "\n",
        "*   Deixar o texto em minúsculo;\n",
        "*   Remover caracteres não alfanuméricos.\n",
        "\n"
      ]
    },
    {
      "cell_type": "code",
      "execution_count": null,
      "metadata": {
        "id": "ROeneMUb-Y5U"
      },
      "outputs": [],
      "source": [
        "def preprocess_text(text):\n",
        "    text = text.lower()\n",
        "    text = re.sub(r'[^\\w\\sáéíóúàèìòùâêîôûãõç]', '', text)\n",
        "\n",
        "    lines = text.split('\\n')\n",
        "    lines = [line for line in lines if line.strip()]\n",
        "    preprocessed_text = '\\n'.join(lines)\n",
        "\n",
        "    return preprocessed_text"
      ]
    },
    {
      "cell_type": "markdown",
      "metadata": {
        "id": "A4hgW9SVdb73"
      },
      "source": [
        "Salvando o texto pré-processado em um arquivo txt e tornando-o em uma única string para manipular as sequências de entrada."
      ]
    },
    {
      "cell_type": "code",
      "execution_count": null,
      "metadata": {
        "colab": {
          "base_uri": "https://localhost:8080/"
        },
        "id": "t3SDv7WZAoEX",
        "outputId": "0d536e2f-1b70-440c-ce5b-201237c4b582"
      },
      "outputs": [
        {
          "name": "stdout",
          "output_type": "stream",
          "text": [
            "Corpus salvo em letras.txt\n"
          ]
        }
      ],
      "source": [
        "texto = preprocess_text(texto_raw)\n",
        "palavras = texto.split()\n",
        "corpus = \" \".join(palavras)\n",
        "\n",
        "with open('letras.txt', 'w', encoding='utf-8') as f:\n",
        "    f.write(texto)\n",
        "\n",
        "print(\"Corpus salvo em letras.txt\")"
      ]
    },
    {
      "cell_type": "markdown",
      "metadata": {
        "id": "XMyqBbbYdnF_"
      },
      "source": [
        "Utilizando o tokenizador do Keras (TensorFlow) para tokenizar o vocabulário."
      ]
    },
    {
      "cell_type": "code",
      "execution_count": null,
      "metadata": {
        "colab": {
          "base_uri": "https://localhost:8080/"
        },
        "id": "2ualHfkYA_6A",
        "outputId": "4e0ae67b-7183-49e1-a48b-b271e13dd1f4"
      },
      "outputs": [
        {
          "name": "stdout",
          "output_type": "stream",
          "text": [
            "7799\n"
          ]
        }
      ],
      "source": [
        "from tensorflow.keras.preprocessing.text import Tokenizer\n",
        "\n",
        "tokenizer = Tokenizer()\n",
        "tokenizer.fit_on_texts([corpus])\n",
        "total_words = len(tokenizer.word_index) + 1\n",
        "print(total_words)"
      ]
    },
    {
      "cell_type": "markdown",
      "metadata": {
        "id": "Ji0unAMJdvdn"
      },
      "source": [
        "Criando as sequências de entrada"
      ]
    },
    {
      "cell_type": "code",
      "execution_count": null,
      "metadata": {
        "colab": {
          "base_uri": "https://localhost:8080/"
        },
        "id": "arfOIm6ABSK6",
        "outputId": "717223d1-c46c-4f6f-c4c0-b09379ef04fe"
      },
      "outputs": [
        {
          "data": {
            "text/plain": [
              "0"
            ]
          },
          "execution_count": 9,
          "metadata": {},
          "output_type": "execute_result"
        }
      ],
      "source": [
        "import numpy as np\n",
        "from tensorflow.keras.preprocessing.sequence import pad_sequences\n",
        "import tensorflow as tf\n",
        "\n",
        "#Converter o corpus em sequências de tokens\n",
        "token_list = tokenizer.texts_to_sequences([corpus])[0]\n",
        "\n",
        "#Criar input_sequences a partir do token_list\n",
        "input_sequences = []\n",
        "for i in range(1, int(len(token_list)*0.8)): #80% do corpus porque estava estourando a memória do colab\n",
        "    n_gram_sequence = token_list[:i+1]\n",
        "    input_sequences.append(n_gram_sequence)\n",
        "\n",
        "#Pad sequences\n",
        "max_sequence_len = 8  #Máximo de 8 tokens por linha\n",
        "input_sequences = np.array(pad_sequences(input_sequences, maxlen=max_sequence_len, padding='pre'))\n",
        "\n",
        "#Salvar n-grams em um arquivo de texto\n",
        "with open('input_sequences.txt', 'w') as f:\n",
        "    for seq in input_sequences:\n",
        "        f.write(' '.join(map(str, seq)) + '\\n')\n",
        "\n",
        "#Liberar memória\n",
        "del token_list\n",
        "del input_sequences\n",
        "del n_gram_sequence\n",
        "gc.collect()"
      ]
    },
    {
      "cell_type": "markdown",
      "metadata": {
        "id": "Yu31qdU2d0mW"
      },
      "source": [
        "Criação das n-grams e fazendo one-hot encoding para y.\n",
        "X será cada linha do texto pré-processado, exceto sua última palavra. Por sua vez, o conjunto y terá as últimas palavras de cada linha do texto."
      ]
    },
    {
      "cell_type": "code",
      "execution_count": null,
      "metadata": {
        "colab": {
          "base_uri": "https://localhost:8080/"
        },
        "id": "eazTMgJEBVCw",
        "outputId": "149b176c-27dc-4d19-b946-9a8cf5883048"
      },
      "outputs": [
        {
          "name": "stdout",
          "output_type": "stream",
          "text": [
            "Shape de X: (43172, 7)\n",
            "Shape de y: (43172, 7799)\n"
          ]
        }
      ],
      "source": [
        "import numpy as np\n",
        "from tensorflow.keras.utils import to_categorical\n",
        "\n",
        "#Carregar n-grams de um arquivo de texto\n",
        "loaded_sequences = []\n",
        "with open('input_sequences.txt', 'r') as f:\n",
        "    for line in f:\n",
        "        loaded_sequences.append(list(map(int, line.strip().split())))\n",
        "\n",
        "#Converter para array numpy\n",
        "input_sequences = np.array(loaded_sequences)\n",
        "\n",
        "#Definir X e y\n",
        "X = input_sequences[:, :-1]\n",
        "y = input_sequences[:, -1]\n",
        "\n",
        "#Converter y para one-hot encoding (ajustando para o treinamento)\n",
        "y = to_categorical(y, num_classes=total_words)\n",
        "\n",
        "print(\"Shape de X:\", X.shape)\n",
        "print(\"Shape de y:\", y.shape)\n"
      ]
    },
    {
      "cell_type": "markdown",
      "metadata": {
        "id": "weH9el3hdJI4"
      },
      "source": [
        "Fazendo a importação das bibliotecas necessárias para a manipulação da base de dados"
      ]
    },
    {
      "cell_type": "markdown",
      "metadata": {
        "id": "R4DM0MXKhoRp"
      },
      "source": [
        "# LSTM"
      ]
    },
    {
      "cell_type": "markdown",
      "metadata": {
        "id": "hjeGoJYweM0Q"
      },
      "source": [
        "Importando as bibliotecas para modelar e treinar a LSTM"
      ]
    },
    {
      "cell_type": "code",
      "execution_count": null,
      "metadata": {
        "id": "gMjEJ6UIxsA3"
      },
      "outputs": [],
      "source": [
        "from tensorflow.keras.models import Sequential\n",
        "from tensorflow.keras.layers import Embedding, LSTM, Dense"
      ]
    },
    {
      "cell_type": "markdown",
      "metadata": {
        "id": "eonQuCtseRDv"
      },
      "source": [
        "## Criação da rede\n",
        "\n",
        "Esta rede é composta de 4 camadas, onde a primeira delas é a camada de embedding, responsável por transformar os números inteiros (representando palavras) em vetores densos de tamanho 250, onde a saída desta camada será um tensor tridimensional.\n",
        "A segunda camada é LSTM e possui 200 neurônios e retorna sequências completas em vez de apenas a saída do último passo de tempo e também tem como saída um tensor tridimensional.\n",
        "A terceira camada é uma outra camada LSTM, porém com 100 neurônios, esta camada retorna apenas a saída do último passo de tempo, resultando em um tensor bidimensional.\n",
        "Por fim, a quarta camada é uma camada densa, possuindo a quantidade de neurônios relativa à quantidade de palavras únicas disponíveis no texto e usa a função de ativação softmax para calcular as probabilidades de cada palavra no vocabulário ser a próxima palavra na sequência gerada."
      ]
    },
    {
      "cell_type": "code",
      "execution_count": null,
      "metadata": {
        "colab": {
          "base_uri": "https://localhost:8080/"
        },
        "id": "vNDaZgi9BX14",
        "outputId": "0436cc47-2c9c-4d24-9a87-53b23cd56588"
      },
      "outputs": [
        {
          "name": "stdout",
          "output_type": "stream",
          "text": [
            "Model: \"sequential_1\"\n",
            "_________________________________________________________________\n",
            " Layer (type)                Output Shape              Param #   \n",
            "=================================================================\n",
            " embedding_1 (Embedding)     (None, 7, 250)            1949750   \n",
            "                                                                 \n",
            " lstm_2 (LSTM)               (None, 7, 200)            360800    \n",
            "                                                                 \n",
            " lstm_3 (LSTM)               (None, 100)               120400    \n",
            "                                                                 \n",
            " dense_1 (Dense)             (None, 7799)              787699    \n",
            "                                                                 \n",
            "=================================================================\n",
            "Total params: 3218649 (12.28 MB)\n",
            "Trainable params: 3218649 (12.28 MB)\n",
            "Non-trainable params: 0 (0.00 Byte)\n",
            "_________________________________________________________________\n",
            "Num GPUs Available:  1\n"
          ]
        }
      ],
      "source": [
        "model = Sequential()\n",
        "model.add(Embedding(total_words, 250, input_length=max_sequence_len-1))\n",
        "model.add(LSTM(200, return_sequences=True))\n",
        "model.add(LSTM(100))\n",
        "model.add(Dense(total_words, activation='softmax'))\n",
        "model.compile(loss='categorical_crossentropy', optimizer='adam', metrics=['accuracy'])\n",
        "model.summary()\n",
        "\n",
        "import tensorflow as tf\n",
        "print(\"Num GPUs Available: \", len(tf.config.experimental.list_physical_devices('GPU')))"
      ]
    },
    {
      "cell_type": "markdown",
      "metadata": {
        "id": "HmY8RvQyflXp"
      },
      "source": [
        "## Treinamento do modelo"
      ]
    },
    {
      "cell_type": "code",
      "execution_count": null,
      "metadata": {
        "colab": {
          "base_uri": "https://localhost:8080/"
        },
        "id": "6cMI-MDOBclv",
        "outputId": "3ea73a42-5d14-44b8-ebbd-b6a2e26e8175"
      },
      "outputs": [
        {
          "name": "stdout",
          "output_type": "stream",
          "text": [
            "Epoch 1/100\n",
            "338/338 [==============================] - 25s 62ms/step - loss: 7.3148 - accuracy: 0.0270 - val_loss: 6.8632 - val_accuracy: 0.0278\n",
            "Epoch 2/100\n",
            "338/338 [==============================] - 9s 27ms/step - loss: 6.9075 - accuracy: 0.0272 - val_loss: 6.7722 - val_accuracy: 0.0287\n",
            "Epoch 3/100\n",
            "338/338 [==============================] - 10s 30ms/step - loss: 6.7942 - accuracy: 0.0303 - val_loss: 6.6319 - val_accuracy: 0.0309\n",
            "Epoch 4/100\n",
            "338/338 [==============================] - 8s 23ms/step - loss: 6.6365 - accuracy: 0.0367 - val_loss: 6.4360 - val_accuracy: 0.0416\n",
            "Epoch 5/100\n",
            "338/338 [==============================] - 8s 25ms/step - loss: 6.4393 - accuracy: 0.0437 - val_loss: 6.2161 - val_accuracy: 0.0510\n",
            "Epoch 6/100\n",
            "338/338 [==============================] - 10s 30ms/step - loss: 6.2460 - accuracy: 0.0508 - val_loss: 6.0301 - val_accuracy: 0.0580\n",
            "Epoch 7/100\n",
            "338/338 [==============================] - 10s 29ms/step - loss: 6.0621 - accuracy: 0.0586 - val_loss: 5.8394 - val_accuracy: 0.0652\n",
            "Epoch 8/100\n",
            "338/338 [==============================] - 10s 29ms/step - loss: 5.8763 - accuracy: 0.0700 - val_loss: 5.6352 - val_accuracy: 0.0844\n",
            "Epoch 9/100\n",
            "338/338 [==============================] - 8s 25ms/step - loss: 5.6910 - accuracy: 0.0821 - val_loss: 5.4551 - val_accuracy: 0.0993\n",
            "Epoch 10/100\n",
            "338/338 [==============================] - 9s 26ms/step - loss: 5.5129 - accuracy: 0.0965 - val_loss: 5.2751 - val_accuracy: 0.1113\n",
            "Epoch 11/100\n",
            "338/338 [==============================] - 7s 22ms/step - loss: 5.3366 - accuracy: 0.1116 - val_loss: 5.1002 - val_accuracy: 0.1306\n",
            "Epoch 12/100\n",
            "338/338 [==============================] - 10s 30ms/step - loss: 5.1638 - accuracy: 0.1272 - val_loss: 4.9322 - val_accuracy: 0.1528\n",
            "Epoch 13/100\n",
            "338/338 [==============================] - 10s 29ms/step - loss: 4.9906 - accuracy: 0.1437 - val_loss: 4.7440 - val_accuracy: 0.1663\n",
            "Epoch 14/100\n",
            "338/338 [==============================] - 8s 23ms/step - loss: 4.8186 - accuracy: 0.1613 - val_loss: 4.5791 - val_accuracy: 0.1869\n",
            "Epoch 15/100\n",
            "338/338 [==============================] - 8s 23ms/step - loss: 4.6449 - accuracy: 0.1823 - val_loss: 4.4031 - val_accuracy: 0.2133\n",
            "Epoch 16/100\n",
            "338/338 [==============================] - 10s 29ms/step - loss: 4.4698 - accuracy: 0.2058 - val_loss: 4.2291 - val_accuracy: 0.2418\n",
            "Epoch 17/100\n",
            "338/338 [==============================] - 8s 23ms/step - loss: 4.2992 - accuracy: 0.2268 - val_loss: 4.0554 - val_accuracy: 0.2587\n",
            "Epoch 18/100\n",
            "338/338 [==============================] - 10s 29ms/step - loss: 4.1278 - accuracy: 0.2512 - val_loss: 3.8929 - val_accuracy: 0.2897\n",
            "Epoch 19/100\n",
            "338/338 [==============================] - 8s 23ms/step - loss: 3.9581 - accuracy: 0.2750 - val_loss: 3.7161 - val_accuracy: 0.3146\n",
            "Epoch 20/100\n",
            "338/338 [==============================] - 8s 23ms/step - loss: 3.7937 - accuracy: 0.2991 - val_loss: 3.5430 - val_accuracy: 0.3421\n",
            "Epoch 21/100\n",
            "338/338 [==============================] - 10s 28ms/step - loss: 3.6239 - accuracy: 0.3267 - val_loss: 3.3844 - val_accuracy: 0.3720\n",
            "Epoch 22/100\n",
            "338/338 [==============================] - 8s 23ms/step - loss: 3.4662 - accuracy: 0.3514 - val_loss: 3.2360 - val_accuracy: 0.3952\n",
            "Epoch 23/100\n",
            "338/338 [==============================] - 10s 29ms/step - loss: 3.3085 - accuracy: 0.3769 - val_loss: 3.0722 - val_accuracy: 0.4249\n",
            "Epoch 24/100\n",
            "338/338 [==============================] - 8s 24ms/step - loss: 3.1525 - accuracy: 0.4060 - val_loss: 2.9266 - val_accuracy: 0.4465\n",
            "Epoch 25/100\n",
            "338/338 [==============================] - 8s 22ms/step - loss: 3.0000 - accuracy: 0.4334 - val_loss: 2.7843 - val_accuracy: 0.4707\n",
            "Epoch 26/100\n",
            "338/338 [==============================] - 8s 23ms/step - loss: 2.8481 - accuracy: 0.4586 - val_loss: 2.6352 - val_accuracy: 0.5095\n",
            "Epoch 27/100\n",
            "338/338 [==============================] - 8s 23ms/step - loss: 2.7070 - accuracy: 0.4887 - val_loss: 2.5158 - val_accuracy: 0.5253\n",
            "Epoch 28/100\n",
            "338/338 [==============================] - 10s 28ms/step - loss: 2.5674 - accuracy: 0.5129 - val_loss: 2.3632 - val_accuracy: 0.5634\n",
            "Epoch 29/100\n",
            "338/338 [==============================] - 10s 29ms/step - loss: 2.4359 - accuracy: 0.5409 - val_loss: 2.2483 - val_accuracy: 0.5827\n",
            "Epoch 30/100\n",
            "338/338 [==============================] - 8s 24ms/step - loss: 2.3108 - accuracy: 0.5626 - val_loss: 2.1101 - val_accuracy: 0.6142\n",
            "Epoch 31/100\n",
            "338/338 [==============================] - 8s 23ms/step - loss: 2.1821 - accuracy: 0.5913 - val_loss: 1.9944 - val_accuracy: 0.6392\n",
            "Epoch 32/100\n",
            "338/338 [==============================] - 10s 29ms/step - loss: 2.0606 - accuracy: 0.6170 - val_loss: 1.8818 - val_accuracy: 0.6606\n",
            "Epoch 33/100\n",
            "338/338 [==============================] - 8s 23ms/step - loss: 1.9415 - accuracy: 0.6424 - val_loss: 1.7633 - val_accuracy: 0.6810\n",
            "Epoch 34/100\n",
            "338/338 [==============================] - 8s 22ms/step - loss: 1.8289 - accuracy: 0.6636 - val_loss: 1.6615 - val_accuracy: 0.7001\n",
            "Epoch 35/100\n",
            "338/338 [==============================] - 8s 23ms/step - loss: 1.7248 - accuracy: 0.6823 - val_loss: 1.5693 - val_accuracy: 0.7194\n",
            "Epoch 36/100\n",
            "338/338 [==============================] - 8s 24ms/step - loss: 1.6250 - accuracy: 0.7028 - val_loss: 1.4641 - val_accuracy: 0.7394\n",
            "Epoch 37/100\n",
            "338/338 [==============================] - 7s 22ms/step - loss: 1.5225 - accuracy: 0.7232 - val_loss: 1.3700 - val_accuracy: 0.7574\n",
            "Epoch 38/100\n",
            "338/338 [==============================] - 10s 29ms/step - loss: 1.4323 - accuracy: 0.7407 - val_loss: 1.2965 - val_accuracy: 0.7736\n",
            "Epoch 39/100\n",
            "338/338 [==============================] - 8s 24ms/step - loss: 1.3512 - accuracy: 0.7540 - val_loss: 1.2208 - val_accuracy: 0.7781\n",
            "Epoch 40/100\n",
            "338/338 [==============================] - 8s 22ms/step - loss: 1.2725 - accuracy: 0.7690 - val_loss: 1.1421 - val_accuracy: 0.7998\n",
            "Epoch 41/100\n",
            "338/338 [==============================] - 10s 29ms/step - loss: 1.1908 - accuracy: 0.7857 - val_loss: 1.0742 - val_accuracy: 0.8140\n",
            "Epoch 42/100\n",
            "338/338 [==============================] - 10s 30ms/step - loss: 1.1194 - accuracy: 0.7996 - val_loss: 1.0041 - val_accuracy: 0.8258\n",
            "Epoch 43/100\n",
            "338/338 [==============================] - 8s 23ms/step - loss: 1.0578 - accuracy: 0.8111 - val_loss: 0.9473 - val_accuracy: 0.8335\n",
            "Epoch 44/100\n",
            "338/338 [==============================] - 9s 28ms/step - loss: 0.9924 - accuracy: 0.8241 - val_loss: 0.8856 - val_accuracy: 0.8471\n",
            "Epoch 45/100\n",
            "338/338 [==============================] - 10s 29ms/step - loss: 0.9288 - accuracy: 0.8359 - val_loss: 0.8257 - val_accuracy: 0.8588\n",
            "Epoch 46/100\n",
            "338/338 [==============================] - 8s 23ms/step - loss: 0.8689 - accuracy: 0.8475 - val_loss: 0.7699 - val_accuracy: 0.8701\n",
            "Epoch 47/100\n",
            "338/338 [==============================] - 9s 28ms/step - loss: 0.8137 - accuracy: 0.8568 - val_loss: 0.7162 - val_accuracy: 0.8807\n",
            "Epoch 48/100\n",
            "338/338 [==============================] - 8s 22ms/step - loss: 0.7580 - accuracy: 0.8702 - val_loss: 0.6693 - val_accuracy: 0.8890\n",
            "Epoch 49/100\n",
            "338/338 [==============================] - 8s 23ms/step - loss: 0.7165 - accuracy: 0.8758 - val_loss: 0.6395 - val_accuracy: 0.8938\n",
            "Epoch 50/100\n",
            "338/338 [==============================] - 10s 28ms/step - loss: 0.6762 - accuracy: 0.8853 - val_loss: 0.5944 - val_accuracy: 0.9028\n",
            "Epoch 51/100\n",
            "338/338 [==============================] - 8s 22ms/step - loss: 0.6313 - accuracy: 0.8916 - val_loss: 0.5589 - val_accuracy: 0.9070\n",
            "Epoch 52/100\n",
            "338/338 [==============================] - 8s 24ms/step - loss: 0.5886 - accuracy: 0.9007 - val_loss: 0.5140 - val_accuracy: 0.9151\n",
            "Epoch 53/100\n",
            "338/338 [==============================] - 10s 29ms/step - loss: 0.5465 - accuracy: 0.9081 - val_loss: 0.4813 - val_accuracy: 0.9225\n",
            "Epoch 54/100\n",
            "338/338 [==============================] - 7s 22ms/step - loss: 0.5165 - accuracy: 0.9129 - val_loss: 0.4547 - val_accuracy: 0.9271\n",
            "Epoch 55/100\n",
            "338/338 [==============================] - 8s 23ms/step - loss: 0.4875 - accuracy: 0.9200 - val_loss: 0.4354 - val_accuracy: 0.9305\n",
            "Epoch 56/100\n",
            "338/338 [==============================] - 10s 28ms/step - loss: 0.4636 - accuracy: 0.9234 - val_loss: 0.3985 - val_accuracy: 0.9374\n",
            "Epoch 57/100\n",
            "338/338 [==============================] - 7s 22ms/step - loss: 0.4270 - accuracy: 0.9298 - val_loss: 0.3718 - val_accuracy: 0.9414\n",
            "Epoch 58/100\n",
            "338/338 [==============================] - 10s 29ms/step - loss: 0.3966 - accuracy: 0.9370 - val_loss: 0.3493 - val_accuracy: 0.9461\n",
            "Epoch 59/100\n",
            "338/338 [==============================] - 10s 30ms/step - loss: 0.3732 - accuracy: 0.9403 - val_loss: 0.3203 - val_accuracy: 0.9509\n",
            "Epoch 60/100\n",
            "338/338 [==============================] - 8s 23ms/step - loss: 0.3479 - accuracy: 0.9454 - val_loss: 0.2963 - val_accuracy: 0.9571\n",
            "Epoch 61/100\n",
            "338/338 [==============================] - 7s 22ms/step - loss: 0.3205 - accuracy: 0.9501 - val_loss: 0.2762 - val_accuracy: 0.9585\n",
            "Epoch 62/100\n",
            "338/338 [==============================] - 10s 29ms/step - loss: 0.3058 - accuracy: 0.9525 - val_loss: 0.2683 - val_accuracy: 0.9583\n",
            "Epoch 63/100\n",
            "338/338 [==============================] - 10s 29ms/step - loss: 0.2980 - accuracy: 0.9526 - val_loss: 0.2594 - val_accuracy: 0.9608\n",
            "Epoch 64/100\n",
            "338/338 [==============================] - 10s 29ms/step - loss: 0.2837 - accuracy: 0.9552 - val_loss: 0.2476 - val_accuracy: 0.9623\n",
            "Epoch 65/100\n",
            "338/338 [==============================] - 8s 22ms/step - loss: 0.2678 - accuracy: 0.9584 - val_loss: 0.2357 - val_accuracy: 0.9632\n",
            "Epoch 66/100\n",
            "338/338 [==============================] - 8s 24ms/step - loss: 0.2559 - accuracy: 0.9600 - val_loss: 0.2162 - val_accuracy: 0.9675\n",
            "Epoch 67/100\n",
            "338/338 [==============================] - 8s 24ms/step - loss: 0.2303 - accuracy: 0.9640 - val_loss: 0.1931 - val_accuracy: 0.9713\n",
            "Epoch 68/100\n",
            "338/338 [==============================] - 8s 23ms/step - loss: 0.2138 - accuracy: 0.9674 - val_loss: 0.1748 - val_accuracy: 0.9743\n",
            "Epoch 69/100\n",
            "338/338 [==============================] - 8s 23ms/step - loss: 0.1955 - accuracy: 0.9713 - val_loss: 0.1618 - val_accuracy: 0.9767\n",
            "Epoch 70/100\n",
            "338/338 [==============================] - 10s 28ms/step - loss: 0.1775 - accuracy: 0.9738 - val_loss: 0.1499 - val_accuracy: 0.9790\n",
            "Epoch 71/100\n",
            "338/338 [==============================] - 10s 28ms/step - loss: 0.1709 - accuracy: 0.9745 - val_loss: 0.1605 - val_accuracy: 0.9756\n",
            "Epoch 72/100\n",
            "338/338 [==============================] - 8s 23ms/step - loss: 0.1781 - accuracy: 0.9734 - val_loss: 0.1624 - val_accuracy: 0.9749\n",
            "Epoch 73/100\n",
            "338/338 [==============================] - 8s 23ms/step - loss: 0.1927 - accuracy: 0.9691 - val_loss: 0.1820 - val_accuracy: 0.9700\n",
            "Epoch 74/100\n",
            "338/338 [==============================] - 9s 28ms/step - loss: 0.1983 - accuracy: 0.9660 - val_loss: 0.1619 - val_accuracy: 0.9750\n",
            "Epoch 75/100\n",
            "338/338 [==============================] - 10s 28ms/step - loss: 0.1807 - accuracy: 0.9710 - val_loss: 0.1557 - val_accuracy: 0.9755\n",
            "Epoch 76/100\n",
            "338/338 [==============================] - 8s 23ms/step - loss: 0.1577 - accuracy: 0.9743 - val_loss: 0.1185 - val_accuracy: 0.9835\n",
            "Epoch 77/100\n",
            "338/338 [==============================] - 8s 23ms/step - loss: 0.1309 - accuracy: 0.9805 - val_loss: 0.1000 - val_accuracy: 0.9858\n",
            "Epoch 78/100\n",
            "338/338 [==============================] - 9s 28ms/step - loss: 0.1075 - accuracy: 0.9838 - val_loss: 0.0853 - val_accuracy: 0.9887\n",
            "Epoch 79/100\n",
            "338/338 [==============================] - 10s 29ms/step - loss: 0.0900 - accuracy: 0.9872 - val_loss: 0.0714 - val_accuracy: 0.9904\n",
            "Epoch 80/100\n",
            "338/338 [==============================] - 10s 30ms/step - loss: 0.0788 - accuracy: 0.9888 - val_loss: 0.0647 - val_accuracy: 0.9912\n",
            "Epoch 81/100\n",
            "338/338 [==============================] - 8s 23ms/step - loss: 0.0812 - accuracy: 0.9879 - val_loss: 0.0929 - val_accuracy: 0.9860\n",
            "Epoch 82/100\n",
            "338/338 [==============================] - 8s 24ms/step - loss: 0.1581 - accuracy: 0.9725 - val_loss: 0.1969 - val_accuracy: 0.9619\n",
            "Epoch 83/100\n",
            "338/338 [==============================] - 10s 28ms/step - loss: 0.2880 - accuracy: 0.9351 - val_loss: 0.2418 - val_accuracy: 0.9488\n",
            "Epoch 84/100\n",
            "338/338 [==============================] - 8s 24ms/step - loss: 0.2494 - accuracy: 0.9467 - val_loss: 0.1545 - val_accuracy: 0.9730\n",
            "Epoch 85/100\n",
            "338/338 [==============================] - 8s 23ms/step - loss: 0.1470 - accuracy: 0.9733 - val_loss: 0.0852 - val_accuracy: 0.9874\n",
            "Epoch 86/100\n",
            "338/338 [==============================] - 8s 22ms/step - loss: 0.0824 - accuracy: 0.9872 - val_loss: 0.0533 - val_accuracy: 0.9926\n",
            "Epoch 87/100\n",
            "338/338 [==============================] - 8s 24ms/step - loss: 0.0565 - accuracy: 0.9907 - val_loss: 0.0428 - val_accuracy: 0.9934\n",
            "Epoch 88/100\n",
            "338/338 [==============================] - 8s 23ms/step - loss: 0.0455 - accuracy: 0.9921 - val_loss: 0.0362 - val_accuracy: 0.9942\n",
            "Epoch 89/100\n",
            "338/338 [==============================] - 10s 29ms/step - loss: 0.0400 - accuracy: 0.9923 - val_loss: 0.0332 - val_accuracy: 0.9943\n",
            "Epoch 90/100\n",
            "338/338 [==============================] - 8s 23ms/step - loss: 0.0371 - accuracy: 0.9930 - val_loss: 0.0314 - val_accuracy: 0.9944\n",
            "Epoch 91/100\n",
            "338/338 [==============================] - 10s 29ms/step - loss: 0.0358 - accuracy: 0.9927 - val_loss: 0.0295 - val_accuracy: 0.9944\n",
            "Epoch 92/100\n",
            "338/338 [==============================] - 10s 29ms/step - loss: 0.0340 - accuracy: 0.9927 - val_loss: 0.0299 - val_accuracy: 0.9941\n",
            "Epoch 93/100\n",
            "338/338 [==============================] - 10s 29ms/step - loss: 0.0367 - accuracy: 0.9926 - val_loss: 0.0331 - val_accuracy: 0.9938\n",
            "Epoch 94/100\n",
            "338/338 [==============================] - 10s 29ms/step - loss: 0.2563 - accuracy: 0.9376 - val_loss: 0.5011 - val_accuracy: 0.8772\n",
            "Epoch 95/100\n",
            "338/338 [==============================] - 8s 24ms/step - loss: 0.4843 - accuracy: 0.8799 - val_loss: 0.2283 - val_accuracy: 0.9501\n",
            "Epoch 96/100\n",
            "338/338 [==============================] - 10s 28ms/step - loss: 0.2101 - accuracy: 0.9522 - val_loss: 0.0939 - val_accuracy: 0.9846\n",
            "Epoch 97/100\n",
            "338/338 [==============================] - 10s 28ms/step - loss: 0.0924 - accuracy: 0.9838 - val_loss: 0.0511 - val_accuracy: 0.9923\n",
            "Epoch 98/100\n",
            "338/338 [==============================] - 8s 23ms/step - loss: 0.0524 - accuracy: 0.9910 - val_loss: 0.0366 - val_accuracy: 0.9942\n",
            "Epoch 99/100\n",
            "338/338 [==============================] - 8s 23ms/step - loss: 0.0382 - accuracy: 0.9928 - val_loss: 0.0303 - val_accuracy: 0.9945\n",
            "Epoch 100/100\n",
            "338/338 [==============================] - 10s 29ms/step - loss: 0.0336 - accuracy: 0.9927 - val_loss: 0.0269 - val_accuracy: 0.9947\n"
          ]
        }
      ],
      "source": [
        "history = model.fit(X, y, epochs=100, batch_size=128, validation_data=(X, y))"
      ]
    },
    {
      "cell_type": "markdown",
      "metadata": {
        "id": "Z-e5ru9wfwgQ"
      },
      "source": [
        "## Salvando o modelo"
      ]
    },
    {
      "cell_type": "code",
      "execution_count": null,
      "metadata": {
        "colab": {
          "base_uri": "https://localhost:8080/"
        },
        "id": "EqelmZX10Rd6",
        "outputId": "b8f218b8-ce31-493c-f215-2b9824cfb022"
      },
      "outputs": [
        {
          "name": "stdout",
          "output_type": "stream",
          "text": [
            "Modelo salvo com sucesso.\n"
          ]
        },
        {
          "name": "stderr",
          "output_type": "stream",
          "text": [
            "/usr/local/lib/python3.10/dist-packages/keras/src/engine/training.py:3103: UserWarning: You are saving your model as an HDF5 file via `model.save()`. This file format is considered legacy. We recommend using instead the native Keras format, e.g. `model.save('my_model.keras')`.\n",
            "  saving_api.save_model(\n"
          ]
        }
      ],
      "source": [
        "model.save('racionais_model.h5')\n",
        "print(\"Modelo salvo com sucesso.\")"
      ]
    },
    {
      "cell_type": "markdown",
      "metadata": {
        "id": "Oy2VrMzQf0Dg"
      },
      "source": [
        "## Gráficos sobre acurácia e perda"
      ]
    },
    {
      "cell_type": "code",
      "execution_count": null,
      "metadata": {
        "colab": {
          "base_uri": "https://localhost:8080/",
          "height": 927
        },
        "id": "mRzqv_Wfqh_O",
        "outputId": "3d06c49f-7b86-4d0d-8f48-49ba6ee924f8"
      },
      "outputs": [
        {
          "data": {
            "image/png": "[encoded data removed]",
            "text/plain": [
              "<Figure size 640x480 with 1 Axes>"
            ]
          },
          "metadata": {},
          "output_type": "display_data"
        },
        {
          "data": {
            "image/png": "[encoded data removed]",
            "text/plain": [
              "<Figure size 640x480 with 1 Axes>"
            ]
          },
          "metadata": {},
          "output_type": "display_data"
        }
      ],
      "source": [
        "import matplotlib.pyplot as plt\n",
        "\n",
        "plt.plot(history.history['accuracy'])\n",
        "plt.plot(history.history['val_accuracy'])\n",
        "plt.title('Model accuracy')\n",
        "plt.xlabel('Epoch')\n",
        "plt.ylabel('Accuracy')\n",
        "plt.legend(['Train', 'Validation'], loc='upper left')\n",
        "plt.show()\n",
        "\n",
        "plt.plot(history.history['loss'])\n",
        "plt.plot(history.history['val_loss'])\n",
        "plt.title('Model loss')\n",
        "plt.xlabel('Epoch')\n",
        "plt.ylabel('Loss')\n",
        "plt.legend(['Train', 'Validation'], loc='upper left')\n",
        "plt.show()"
      ]
    },
    {
      "cell_type": "markdown",
      "metadata": {
        "id": "PbTrHibgge6w"
      },
      "source": [
        "## Identificando as rimas presentes no texto"
      ]
    },
    {
      "cell_type": "code",
      "execution_count": null,
      "metadata": {
        "colab": {
          "base_uri": "https://localhost:8080/"
        },
        "id": "6Bglhg5x1rEU",
        "outputId": "096f0440-5d1e-4d32-ae2a-2895a286e573"
      },
      "outputs": [
        {
          "name": "stderr",
          "output_type": "stream",
          "text": [
            "[nltk_data] Downloading package punkt to /root/nltk_data...\n",
            "[nltk_data]   Unzipping tokenizers/punkt.zip.\n"
          ]
        },
        {
          "name": "stdout",
          "output_type": "stream",
          "text": [
            "Rimas encontradas:\n",
            "{'ei': ['ei'], 'sil': ['brasil'], 'ndo': ['ouvindo', 'gorando', 'andando', 'agonizando', 'esgotando', 'preparando', 'acabando', 'melhorando', 'quando', 'sorrindo', 'vendo', 'xingando', 'chegando', 'executando', 'vivendo', 'entrando', 'entendo', 'falando', 'arrebentando', 'guiando', 'traindo', 'chapando', 'abrindo', 'falhando', 'indo', 'pensando', 'vagabundo', 'expressando', 'rindo', 'matando', 'lucrando', 'nascendo', 'lutando', 'vindo', 'clareando', 'esperando', 'trincando', 'amando', 'comprando', 'valendo', 'jurando', 'viajando', 'orando', 'desfilando', 'morrendo', 'olhando', 'aparentando', 'rimando', 'observando', 'ligando', 'rezando', 'filmando', 'segundo', 'desprezando', 'firmando', 'fundo', 'roubando', 'mundo'], 'igo': ['antigo', 'perigo', 'abrigo', 'inimigo', 'comigo', 'amigo'], 'sso': ['posso', 'isso', 'rifasso', 'processo', 'disso', 'fracasso', 'osso', 'escasso', 'passo', 'compromisso', 'nosso'], 'uer': ['quer', 'sauer', 'heuer', 'qualquer'], 'eta': ['planeta', 'poeta', 'bombeta', 'profeta', 'capeta', 'treta', 'buceta', 'discreta', 'roleta', 'atleta', 'etiqueta', 'meta', 'reta', 'caneta', 'predileta'], 'bra': ['assombra', 'vibra', 'cobra', 'mãodeobra', 'sombra', 'lembra', 'obra', 'sobra', 'quebra'], 'hão': ['canhão', 'milhão', 'chão', 'galachão'], 'eme': ['treme', 'teme', 'creme'], 'm': ['m'], 'bom': ['bom'], 'gar': ['pagar', 'chegar', 'brigar', 'vulgar', 'sossegar', 'pegar', 'ligar', 'devagar', 'julgar', 'lugar', 'fisgar', 'jogar', 'vingar', 'desligar'], 'caô': ['caô'], 'vem': ['vem', 'comvem', 'nuvem'], 'sor': ['retrovisor', 'sensor'], 'réu': ['réu'], 'bam': ['bam'], 'pam': ['pam'], 'ual': ['sexual', 'qual', 'sensual', 'igual', 'atual'], 'oso': ['odioso', 'preconceituoso', 'pegajoso', 'cabuloso', 'doloroso', 'vicioso', 'criminoso', 'cavernoso'], 'udo': ['iludo', 'tudo'], 'rra': ['gomorra', 'porra', 'morra', 'terra', 'serra', 'erra', 'guerra'], 'gem': ['massagem', 'bobagem', 'coragem', 'passagem', 'imagem', 'miragem', 'selvagem', 'garagem', 'trairagem', 'pilantragem', 'voltagem', 'desvantagem', 'malandragem', 'piolhagem', 'viagem'], 'zum': ['zum'], 'çou': ['começou', 'embaraçou', 'embarçou', 'abraçou', 'balançou', 'embaçou'], 'xxi': ['xxi'], 'um': ['um'], 'é': ['é'], 'fé': ['fé'], 'ato': ['pacato', 'mulato', 'chato', 'barato', 'nato', 'mato', 'fato'], 'nos': ['manos', 'malignos', 'planos', 'anos', 'cassinos'], 'afé': ['café'], 'ção': ['restrição', 'solução', 'atração', 'disposição', 'salvação', 'intuição', 'exploração', 'ostentação', 'reputação', 'constituição', 'discriminação', 'superação', 'satisfação', 'população', 'condição', 'revolução', 'frustração', 'coração', 'reação', 'descrição', 'destruição', 'lotação', 'função', 'munição', 'refeição', 'tentação', 'atenção', 'ambição', 'cotação', 'bênção', 'ação', 'infecção', 'lição', 'oposição', 'oração', 'feição', 'cabeção', 'decepção', 'organização', 'autovalorização', 'situação', 'premonição', 'traição', 'informação', 'prestenção', 'educação', 'proteção', 'perfeição', 'apelação', 'indignação', 'direção', 'curtição', 'movimentação', 'partilhação'], 'jão': ['jão'], 'mor': ['desamor', 'temor', 'amor'], 'iro': ['carniceiro', 'dinheiro', 'inteiro', 'artilheiro', 'financeiro', 'ponteiro', 'companheiro', 'janeiro', 'verdadeiro', 'roteiro', 'herdeiro', 'formigueiro', 'guerreiro', 'ribeiro', 'parceiro', 'morteiro', 'ligeiro', 'admiro', 'cruzeiro', 'primeiro', 'banheiro', 'tiro'], 'ica': ['zica', 'química', 'américa', 'transamérica', 'histérica', 'música', 'ética', 'itapecirica', 'automática', 'mística', 'fica', 'áfrica', 'católica', 'identifica', 'prejudica', 'itapecerica', 'política', 'numérica', 'prática', 'estatística', 'elétrica'], 'rar': ['desesperar', 'cobrar', 'pararparar', 'chorar', 'amarrar', 'respirar', 'errar', 'lembrar', 'comemorar', 'encontrar', 'esperar', 'procurar', 'parar', 'desdobrar', 'atirar', 'tirar', 'desonrar', 'superar'], 'lar': ['colar', 'falar', 'dólar', 'popular', 'jugular', 'rolar', 'particular', 'calar', 'manipular', 'lar', 'ocular', 'celular', 'pular', 'fuzilar'], 'ore': ['mármore', 'chore', 'decore'], 'sim': ['assim', 'sim', 'comovesim'], 'mim': ['carmim', 'mim'], 'que': ['moleque', 'porque', 'parque', 'pique', 'indique', 'toque', 'breque', 'tanque', 'muleque', 'oque', 'choque', 'destaque', 'que', 'desfalque', 'ataque', 'conhaque', 'cheque'], 'ais': ['reais', 'originaisanormais', 'morais', 'racionais', 'banais', 'jamais', 'iguais', 'demais', 'rivais', 'medicinais', 'cais', 'pais', 'desleais', 'jornais', 'sociais', 'ancestrais', 'ideais', 'criminais', 'imparciais', 'mais'], 'nho': ['proponho', 'junho', 'punho', 'edinho', 'sonho', 'moderninho', 'ganho', 'estranho', 'sapatinho', 'carinho', 'mauricinho', 'baixinho', 'caminho', 'serginho', 'irmãozinho', 'ratinho', 'bolinho', 'sozinho', 'vinho', 'carrinho', 'tenho', 'neguinho', 'valcinho'], 'léu': ['léu'], 'nal': ['marginal', 'condicional', 'racional', 'penal', 'carnal', 'jornal', 'tribunal', 'criminal', 'multinacional', 'profissional', 'sensacional', 'final', 'banal', 'original', 'sinal', 'nacional'], 'nto': ['represento', 'tormento', 'alimento', 'vento', 'atento', 'sentimento', 'assunto', 'santo', 'momento', 'conto', 'bento', 'labirinto', 'depoimento', 'sofrimento', 'juramento', 'pensamento', 'malpressentimento', 'lento', 'epronto', 'desconto', 'lamento', 'detento', 'pronto', 'pressentimento', 'cento', 'ponto', 'conhecimento', 'cinzento', 'confronto', 'violento', 'elemento', 'junto'], 'nte': ['frente', 'pente', 'suficiente', 'realmente', 'incidente', 'naturalmente', 'horizonte', 'mente', 'amante', 'tente', 'paciente', 'decadente', 'gente', 'conveniente', 'consciente', 'recente', 'instante', 'tranquilamente', 'sobrevivente', 'quente', 'corrente', 'seguinte', 'repente', 'carente', 'volante', 'subconsciente', 'consequentemente', 'absolutamente', 'doente', 'brilhante', 'presente', 'procedente', 'importante', 'sorridente', 'diferente', 'distante', 'influente', 'asinuante', 'infelizmente', 'bastante', 'altofalante', 'inconsequente', 'monte', 'reluzente', 'permanente', 'novamente', 'iniciante', 'remetente', 'principalmente', 'atraente', 'perseverante', 'intransigente'], 'ida': ['batida', 'vida', 'bandida', 'falida', 'homicida', 'erguida', 'ida', 'unida', 'suicida', 'sofrida', 'grávida', 'perdida'], 'luz': ['luz'], 'unk': ['funk'], 'ias': ['várias', 'famílias', 'notícias', 'vazias', 'danceterias', 'dias', 'idéias', 'artérias', 'messias', 'golias', 'covardias', 'vadias', 'precárias', 'glórias'], 'atu': ['natu'], 'sul': ['sul'], 'tar': ['lutar', 'catar', 'gastar', 'tentar', 'estar', 'evitar', 'arrastar', 'comentar', 'notar', 'sustentar', 'contar', 'aumentar', 'star', 'constar', 'arrebentar', 'acertar', 'superstar', 'faltar', 'plantar', 'voltar', 'resgatar', 'acreditar', 'matar', 'cantar', 'representar', 'conquistar', 'libertar', 'adiantar', 'gangstar', 'protestar', 'alertar', 'escutar'], 'rer': ['morrer', 'crer', 'correr', 'sofrer', 'querer'], 'mpo': ['tempo', 'passatempo', 'campo'], 'rmo': ['mermo', 'enfermo', 'durmo'], 'ere': ['fere', 'supere'], 'ege': ['protege', 'bege', 'entrege'], 'ror': ['terror'], 'gou': ['chegou', 'jogou', 'pregou', 'desligou', 'ligou', 'negou'], 'ulo': ['paulo', 'título', 'trêmulo', 'versículo', 'escrúpulo'], 'ala': ['fala', 'estala', 'vala', 'estrala', 'opala', 'bala', 'sala', 'senzala'], 'ena': ['obscena', 'pena', 'condena', 'hiena', 'arena', 'cena'], 'oop': ['inocoop'], 'rta': ['curta', 'importa', 'porta', 'certa'], 'qsj': ['qsj'], '50': ['50'], 'bei': ['bei'], 'era': ['provera', 'desespera', 'vera', 'colera', 'sera', 'itaquera', 'atmosfera', 'espera', 'impera', 'opera', 'carrera', 'acelera', 'eticetera', 'era', 'fera', 'dera', 'galera'], 'diz': ['diz'], 'liz': ['feliz', 'infeliz'], 'dia': ['média', 'misericórdia', 'gozolândia', 'abadia', 'brasilândia', 'ceilândia', 'pedia', 'disneylândia', 'discórdia', 'tragédia', 'dia'], 'nda': ['funda', 'prateanda', 'desanda', 'encomenda', 'vagabunda', 'onda', 'afunda', 'segunda', 'manda', 'holanda', 'ainda', 'venda'], 'cem': ['aparecem', 'parecem', 'cem', 'alcancem', 'favorecem'], 'oen': ['citroen'], 'tal': ['digital', 'total', 'tal', 'quintal', 'brutal', 'pentecostal', 'fundamental', 'natal', 'hospital', 'fatal', 'imortal', 'distrital', 'metal', 'oriental'], 'ola': ['cola', 'patola', 'esmola', 'bola', 'escola', 'rola', 'decola'], 'dom': ['dom'], 'iva': ['definitiva', 'alternativa', 'viva', 'vivaviva', 'ativa', 'negativa', 'tentativa'], 'ima': ['lágrima', 'legítima', 'vítima', 'rima', 'mínima', 'lima', 'autoestima', 'cima'], 'dir': ['aplaudir', 'decidir', 'invadir', 'explodir', 'despedir'], 'air': ['clair', 'suflair', 'cair', 'sair'], 'ada': ['desequilibrada', 'safada', 'prayboyzada', 'ressecada', 'tonelada', 'paulada', 'apaixonada', 'camarada', 'morada', 'dominada', 'escada', 'cilada', 'sossegada', 'alcançada', 'ofuscada', 'cada', 'estuprada', 'entrada', 'completada', 'iluminada', 'rapaziada', 'playboyzada', 'assassinada', 'risada', 'nada', 'guardada', 'surrada', 'virada', 'calçada', 'filmada', 'molecada', 'cansada', 'quebrada', 'violentada', 'estrada', 'baixada', 'empregada', 'salgada', 'contada', 'madrugada', 'danificada', 'rasgada', 'vacilada', 'mastigada', 'acabada', 'assustada', 'ensolarada', 'caminhada', 'quadrada', 'articulada', 'roubada', 'parada', 'influenciada', 'fechada', 'mulecada', 'porrada', 'agitada', 'carregada', 'enrugada', 'criada', 'balada', 'calada', 'pelada'], 'ito': ['espírito', 'bonito', 'jeito', 'muito', 'direito', 'acredito', 'propósito', 'preconceito', 'peito', 'respeito', 'óbito', 'escrito', 'mito', 'inquérito'], 'uém': ['ninguém', 'alguém'], 'nem': ['nem'], 'ora': ['simbora', 'agora', 'demora', 'comemora', 'sonora', 'apavora', 'senhora', 'sora', 'chora', 'embora', 'hora', 'criadora', 'fora', 'povora', 'adora'], 'tem': ['partem', 'tem', 'arrebentem', 'assistem'], 'mão': ['contramão', 'mermão', 'irmão', 'pulmão', 'mão', 'firmão'], 'ara': ['cara', 'sahara', 'elogiara', 'para', 'pirajussara', 'dara', 'outrocara', 'pirajuçara', 'guevara', 'orgulhara', 'rara'], '001': ['2001'], 'nça': ['lembrança', 'alcança', 'crença', 'sentença', 'cobrança', 'mudança', 'esperança', 'confiança', 'doença', 'dança', 'licença', 'vingança', 'herança', 'vizinhança', 'presença', 'indiferença', 'segurança', 'criança', 'balança'], 'ria': ['maioria', 'solidária', 'queria', 'missionária', 'maria', 'necessária', 'periferia', 'bibliotecária', 'otaria', 'fria', 'imaginária', 'luxúria', 'reviria', 'minoria', 'sabedoria', 'diretoria', 'miséria', 'vitória', 'melhoria', 'malária', 'cavalaria', 'solitária', 'valquiria', 'autoritária', 'glória', 'correria', 'predatória', 'história', 'cria', 'teoria', 'memória', 'universitária'], 'sta': ['feminista', 'lista', 'vista', 'passista', 'nazista', 'conquista', 'testa', 'gangsta', 'persista', 'pista', 'resta', 'esta', 'moralista', 'aposta', 'festa', 'racista', 'exista', 'resposta', 'gosta', 'presta'], 'lá': ['lá'], 'aré': ['maré'], 'rme': ['guilherme', 'perseguirme', 'conforme', 'firme'], 'soa': ['pessoa'], 'ano': ['australiano', 'latinoamericano', 'plano', 'humano', 'andano', 'ano', 'urbano', 'mano', 'corintiano', 'baiano', 'oceano', 'pano', 'troiano', 'sicrano', 'fulano'], 'ado': ['embriagado', 'cansado', 'cadeado', 'preparado', 'lado', 'pesado', 'ligado', 'considerado', 'errado', 'assustado', 'sábado', 'vingado', 'inchado', 'parado', 'engraçado', 'respeitado', 'resultado', 'ensanguentado', 'passado', 'enganado', 'descriminado', 'abandonado', 'deformado', 'safado', 'ditado', 'jogado', 'amado', 'atrofiado', 'condenado', 'gelado', 'atrasado', 'concentrado', 'recado', 'finado', 'aliado', 'declarado', 'lotado', 'humilhado', 'formado', 'amaldiçoado', 'chegado', 'pósgraduado', 'lembrado', 'derrubado', 'acabado', 'armado', 'libertado', 'minado', 'encerrado', 'desperdiçado', 'importado', 'limitado', 'arrombado', 'embaçado', 'preocupado', 'marcado', 'complicado', 'quadrado', 'rasgado', 'trancafiado', 'voado', 'exagerado', 'culpado', 'desabado', 'falado', 'coroado', 'roubado', 'dedicado', 'traçado', 'sossegado', 'evitado', 'revoltado', 'atormentado', 'inspirado', 'cuidado', 'furado', 'julgado', 'estufado', 'coitado', 'quebrado', 'solicitado', 'desfigurado', 'ferrado'], 'bém': ['também'], 'ina': ['domina', 'regina', 'guina', 'piscina', 'esquina', 'adrenalina', 'fina', 'página', 'vacina', 'mina', 'neblina', 'catarina'], 'tro': ['neutro', 'centro', 'monstro', 'quatro', 'entro', 'dentro', 'outro', 'sinistro'], 'car': ['buscar', 'traficar', 'brincar', 'bancar', 'trocar', 'marcar', 'provocar', 'explicar', 'multiplicar', 'arriscar', 'tocar'], 'lei': ['lei', 'falei'], 'cês': ['vocês'], 'ogo': ['jogo', 'fogo'], 'ele': ['aquele', 'pele', 'ele', 'dele'], 'mãe': ['mãe'], 'tei': ['cagüetei', 'perguntei', 'respeitei', 'contei', 'matei', 'escutei', 'gostei', 'adaptei'], 'eto': ['afeto', 'neto', 'bebeto', 'direto', 'dialeto', 'objeto', 'guineto', 'quieto', 'gueto'], 'lou': ['colou', 'falou'], 'oje': ['hoje'], 'não': ['não', 'panão'], 'ela': ['amarela', 'favela', 'janela', 'rosangela', 'vela', 'mandela', 'esfarela', 'gela', 'novela', 'cela', 'ruela', 'viela', 'estrela', 'ela', 'bela', 'goela', 'guela', 'daniela', 'ângela', 'marcela', 'naquela', 'elisângela', 'cadela', 'nela', 'revela', 'dela'], 'tra': ['pilantra', 'nostra', 'outra'], 'dio': ['ódio', 'presídio', 'médio', 'remédio', 'claudio'], 'pô': ['pô'], 'sou': ['sou', 'pensou', 'casou', 'ultrapassou', 'causou', 'passou', 'atrasou'], 'cia': ['crescia', 'influência', 'perícia', 'coerência', 'noticia', 'indolência', 'capadócia', 'sequência', 'audiência', 'incompetência', 'urgência', 'ganância', 'aparência', 'polícia', 'decência', 'violência', 'patrícia', 'policia', 'distancia', 'paciência', 'procedência', 'advocacia', 'sobrevivência', 'tendência', 'sobrevivencia', 'milícia', 'providência', 'consciência', 'precedência', 'penitência', 'malícia', 'ignorância', 'consequência', 'ambulância', 'notícia'], 'ade': ['liberdade', 'atualidade', 'criminalidade', 'amizade', 'maldade', 'felicidade', 'rivalidade', 'vaidade', 'dignidade', 'ingenuidade', 'tempestade', 'humanidade', 'desigualdade', 'cidade', 'eternidade', 'novidade', 'realidade', 'dificuldade', 'simplicidade', 'unanimidade', 'igualdade', 'vontade', 'maternidade', 'idade', 'saudade', 'oportunidade', 'verdade', 'personalidade', 'rotatividade', 'mentalidade', 'mediocridade', 'irmandade', 'grade', 'sociedade'], 'ero': ['desespero', 'número', 'espero', 'sincero', 'zero', 'morrero', 'quero'], 'sto': ['encosto', 'previsto', 'gesto', 'posto', 'cristo', 'agosto', 'justo', 'gosto', 'desgosto', 'susto', 'existo'], 'eia': ['cadeia', 'teia', 'feia', 'ideia', 'areia', 'sereia', 'meia'], 'daí': ['daí'], 'deu': ['entendeu', 'perdeu', 'judeu', 'deu', 'tempoentendeu', 'fudeu', 'fodeu'], 'são': ['televisão', 'são', 'mansão', 'prisão', 'expressão', 'camisão', 'precisão', 'reclusão', 'visão', 'busão', 'depressão', 'ascensão', 'profissão', 'diversão', 'ilusão', 'desilusão', 'pretensão', 'confusão', 'conclusão', 'missão', 'explosão', 'impressão'], 'bem': ['febem', 'bem'], 'rdo': ['absurdo', 'gordo', 'bernardo', 'eduardo'], 'dão': ['doidão', 'perdão', 'mundão', 'escravidão', 'solidão', 'bandidão', 'multidão', 'escuridão'], 'ier': ['vier'], 'uma': ['fuma', 'puma', 'nenhuma', 'uma'], 'só': ['só'], 'lta': ['ribalta', 'revolta', 'solta', 'oculta', 'falta', 'volta'], 'zão': ['firmezão', 'cuzão', 'friozão', 'razão', 'irmãozão'], 'ido': ['acontecido', 'rápido', 'doido', 'falido', 'divertido', 'prevenido', 'merecido', 'arrependido', 'iludido', 'fudido', 'envolvido', 'parecido', 'desprotegido', 'sucedido', 'sentido', 'compreendido', 'esquecido', 'reduzido', 'bandido', 'perdido'], 'nha': ['tinha', 'sabinha', 'ganha', 'vergonha', 'rainha', 'saldanha', 'piranha', 'noronha', 'maconha', 'escovinha', 'farinha', 'minha', 'novinha'], 'esa': ['princesa', 'surpresa', 'presa', 'firmesa', 'acesa', 'mesa'], '3': ['3'], 'vez': ['talvez', 'vez'], 'eço': ['peço', 'começo', 'conheço', 'preço'], 'tão': ['portão', 'oitão', 'então', 'estão', 'bonitão', 'cristão', 'montão', 'questão'], 'ema': ['dilema', 'ecossistema', 'telefonema', 'diadema', 'sistema', 'cinema', 'paranapanema', 'algema', 'problema', 'lema', 'esquema'], 'dou': ['azedou', 'estudou', 'afundou', 'mudou'], 'aça': ['fumaça', 'graça', 'praça', 'embaça', 'taça', 'raça', 'palhaça', 'caça', 'ameaça'], 'dor': ['computador', 'sonhador', 'redor', 'vencedor', 'jogador', 'traidor', 'dor', 'embaixador', 'corredor', 'conquistador', 'sofredor', 'predador', 'salvador', 'trabalhador', 'desesperador', 'pagador', 'merecedor', 'ventilador'], 'dvd': ['dvd'], 'fém': ['refém'], 'ocê': ['procê', 'você'], 'e': ['e'], 'rão': ['negrão', 'patrão', 'padrão', 'serão', 'alcançarão', 'refrão', 'ladrão', 'drão', 'carrão', 'mutirão', 'verão'], 'ler': ['valer', 'ler', 'rotivailler'], 'ali': ['cali', 'ali'], 'ata': ['carreata', 'magnata', 'trata', 'gravata', 'ata', 'ingrata', 'diplomata', 'mata', 'prata'], 'ens': ['homens', 'queens', 'bens'], 'mar': ['desanimar', 'amar', 'rimar', 'aproximar', 'reclamar', 'ribamar', 'chamar', 'intimar', 'confirmar', 'ademar', 'arrumar', 'mar'], 'upa': ['preocupa', 'roupa'], 'iar': ['aguiar', 'confiar', 'variar', 'peculiar', 'influenciar', 'remediar', 'arrepiar', 'desconfiar'], 'tes': ['amantes', 'pivetes', 'antes', 'combates', 'mortes', 'correntes', 'antecedentes', 'delinquentes', 'quentes', 'brilhantes', 'crentes', 'contratantes', 'insinuantes', 'adjacentes', 'diferentes', 'parentes', 'cientes', 'presentes', 'repugnantes', 'serpentes', 'chutes', 'quilates', 'doentes'], 'ios': ['negócios', 'negocios', 'sábios', 'estelionatários', 'vários', 'indícios', 'prédios', 'otários', 'sacrifícios', 'índios', 'desafios', 'otarios'], 'cio': ['sacrifício', 'benefício', 'oficio', 'negócio', 'precipício', 'anuncio', 'ócio', 'sócio', 'desperdício', 'vicio', 'inicio', 'oscio', 'divorcio'], 'fiz': ['fiz'], 'giz': ['giz'], 'hei': ['ganhei', 'olhei'], 'rei': ['entrei', 'terei', 'preparei', 'rei', 'esperei', 'inspirei', 'errei', 'enquadrei', 'encontrei'], 'ixa': ['encaixa', 'deixa', 'queixa'], 'dá': ['dá'], 'des': ['saudades', 'mercedes', 'qualidades', 'necessidades', 'grades', 'responsabilidades', 'humildes', 'compatibilidades'], 'rio': ['sóbrio', 'frio', 'salário', 'entinerário', 'expresidiário', 'necessário', 'operário', 'adversário', 'solitário', 'otário', 'sério', 'ilusório', 'primário', 'desnecessário', 'romário', 'emissário', 'contrário', 'calafrio', 'itinerário', 'otario', 'mercúrio', 'carcerário', 'rio', 'milionário', 'sanguefrio'], 'sar': ['pensar', 'passar', 'avisar', 'precisar', 'descansar', 'brisar', 'usar'], 'oto': ['moto', 'foto', 'esgoto'], 'lho': ['trabalho', 'trilho', 'barulho', 'velho', 'atalho', 'filho', 'gatilho', 'milho', 'orgulho', 'vermelho', 'joelho', 'bagulho', 'falho', 'caralho'], 'mas': ['problemas', 'lágrimas', 'extremas', 'dimas', 'damas', 'esquemas', 'mas'], 'paz': ['capaz', 'incapaz', 'rapaz', 'paz'], 'ceu': ['reconheceu', 'enfraqueceu', 'nasceu', 'aconteceu'], 'har': ['brilhar', 'humilhar', 'engatilhar', 'sonhar', 'olhar', 'ganhar'], 'nde': ['onde', 'grande', 'intende', 'aonde', 'aprende', 'esconde', 'entende', 'depende'], 'a': ['a'], 'rno': ['inferno', 'governo', 'eterno', 'terno', 'interno', 'saturno', 'inverno'], 'odo': ['todo'], 'ime': ['crime', 'time'], 'q': ['q'], 'tv': ['tv'], 'se': ['se'], 'o': ['o'], 'pra': ['pra'], 'do': ['do'], 'ock': ['glock', 'ock', 'rock', 'edyrock'], 'na': ['na'], 'ine': ['vitrine', 'machine'], 'mcs': ['mcs'], 'cha': ['borracha', 'rocha'], 'cá': ['cá'], 'nio': ['dominio', 'raciocínio', 'antônio', 'latrocínio', 'lacrimogênio'], 'rto': ['morto', 'aberto', 'aborto', 'deserto', 'perto', 'esperto', 'certo'], 'oas': ['pessoas'], 'ura': ['prefeitura', 'ditadura', 'armadura', 'viatura', 'cultura', 'moldura', 'dura', 'formatura', 'tontura', 'loucura', 'insegura', 'escura', 'sepultura', 'cura', 'tortura', 'segura', 'pura', 'fatura', 'altura'], 'ram': ['presenciaram', 'mudaram', 'desistiram', 'contaram', 'foram', 'assistiram', 'erraram', 'trouxeram', 'detonaram', 'passaram', 'melhoraram', 'morreram', 'lutaram', 'vixeembaçaram', 'colaboram'], 'pim': ['estopim'], 'sia': ['solsommaresia', 'demasia'], 'nia': ['pneumonia', 'agonia', 'insônia', 'goiânia', 'ironia', 'babilônia', 'monotonia', 'harmonia', 'colônia'], 'mal': ['mal', 'normal', 'animal'], 'eal': ['desleal', 'ideal', 'real', 'leal'], 'pau': ['pau'], 'trô': ['metrô'], 'ho': ['ho'], 'das': ['facadas', 'perdidas', 'fadas', 'calçadas', 'compromissadas', 'ensaiadas', 'distorcidas', 'vidas', 'amontoadas', 'cordas', 'consideradas', 'feridas', 'camaradas', 'das', 'baladas', 'andas', 'dividas', 'saídas'], 'ral': ['rural', 'varal', 'cultural', 'central', 'moral', 'general', 'geral', 'natural'], 'bnk': ['bnk'], 'nta': ['ponta', 'apresenta', 'lamenta', 'garganta', 'levanta', 'quinta', 'senta', 'sangrenta', 'benta', 'guenta', 'fraudulenta', 'polenta', 'tenta', 'aumenta', 'conta', 'lenta', 'pergunta', 'violenta', 'acorrenta', 'junta', 'representa', 'espanta'], 'ané': ['mané'], 'né': ['né'], 'ivo': ['poliesportivo', 'motivo', 'sobrevivo', 'arquivo', 'incentivo', 'vivo', 'inofensivo', 'objetivo'], 'rma': ['forma', 'firma', 'transforma', 'conforma', 'arma'], 'ver': ['envolver', 'escrever', 'ouver', 'chover', 'ver', 'viver', 'revólver', 'sobreviver', 'resolver', 'tiver'], 'ico': ['problemático', 'prático', 'fantástico', 'diabólico', 'metabólico', 'tráfico', 'lógico', 'polêmico', 'lunático', 'periférico', 'plástico', 'pânico', 'tático', 'psicológico', 'rico', 'mágico', 'elétrico', 'crônico', 'público', 'ecológico', 'pacífico', 'acadêmico', 'estratégico', 'lírico', 'zoológico'], 'umo': ['fumo', 'consumo'], 'ava': ['trava', 'importava', 'sonhava', 'comentava', 'gastava', 'tava', 'estava', 'começava', 'aloprava', 'aumentava', 'continuava'], 'ish': ['vish'], 'oco': ['sufoco', 'coco', 'loco', 'pipoco', 'troco', 'soco'], 'vel': ['vulnerável', 'nível', 'imprevisível', 'lamentável', 'acessivel', 'invisivel', 'implacável', 'possível', 'imbatível', 'confortável', 'horrível', 'dedoconversivel', 'impossivel', 'favoravel', 'cascavel', 'insuportável', 'notável', 'inevitável', 'incurável', 'vulneravel'], 'ase': ['fase', 'frase'], 'der': ['entender', 'vender', 'aprender', 'defender', 'esconder', 'responder', 'foder', 'puder', 'autodefender', 'fuder', 'proceder', 'poder', 'perder', 'compreender'], 'her': ['mulher'], 'una': ['fortuna', 'fauna'], 'ião': ['damião', 'pião', 'união', 'opinião', 'lampião', 'reunião', 'helião'], 'fio': ['desafio'], 'çar': ['balançar', 'embaçar', 'abraçar', 'dançar'], 'iso': ['preciso', 'aviso'], 'vos': ['vivos', 'povos', 'motivos'], 'cos': ['melancólicos', 'trágicos', 'policos', 'eletrônicos', 'barracos', 'católicos', 'poucos', 'loucos'], 'uim': ['ruim'], 'bol': ['futebol', 'basquetebol'], 'rém': ['porém'], 'uco': ['pouco', 'louco'], 'eco': ['boteco', 'beco', 'pacheco', 'xaveco'], 'uro': ['procuro', 'puro', 'couro', 'escuro', 'estouro', 'futuro', 'muro', 'inseguro', 'impuro', 'duro', 'tesouro', 'seguro', 'ouro'], 'eju': ['preju'], 'lam': ['falam'], 'tam': ['matam', 'completam', 'delatam', 'gostam'], 'boa': ['boa'], 'ega': ['chega', 'entrega', 'pega'], 'alô': ['alô', 'falô'], 'ões': ['reuniões', 'transmissões', 'imposições', 'contradições', 'ladrões', 'condenações', 'multidões', 'eniões', 'milhões', 'condições', 'emoções'], 'res': ['vulgares', 'melhores', 'ares', 'horrores', 'dólares', 'valores', 'calibres', 'favores', 'cores', 'lugares', 'piores', 'populares', 'elementares', 'sabores', 'flores', 'dores', 'pobres', 'nucleares'], 'aim': ['itaim', 'caim'], 'orô': ['morô', 'demorô'], 'ste': ['peste', 'lacoste', 'reste', 'oeste', 'triste', 'teste', 'nordeste', 'existe'], 'rir': ['interferir', 'conferir', 'rir', 'ferir', 'abrir', 'sorrir'], 'nhã': ['manhã', 'amanhã'], 'aí': ['aí'], 'ham': ['aham', 'ham', 'trabalham'], 'até': ['até'], 'ó': ['ó'], 'ixe': ['haxixe', 'vixe'], '94': ['94'], 'nco': ['banco', 'branco'], 'gal': ['legal'], 'pé': ['pé'], 'oda': ['foda', 'toda', 'moda', 'incomoda', 'roda'], 'qui': ['aqui', 'daqui'], 'tir': ['divertir', 'sentir', 'omitir', 'admitir', 'insistir', 'resistir', 'transmitir', 'discutir', 'curtir'], 'rde': ['morde', 'acorde', 'tarde', 'covarde', 'perde'], 'reu': ['morreu'], 'lma': ['calma', 'alma'], 'tou': ['estou', 'insultou', 'representou', 'plantou', 'matou', 'adotou', 'ressuscitou', 'voltou'], 'mou': ['amou', 'armou', 'formou', 'inflamou'], 'rte': ['norte', 'morte', 'sorte', 'forte', 'curte', 'esporte', 'diverte', 'parte'], 'cão': ['cocão', 'cão', 'malucão'], 'ixo': ['crucifixo', 'encaixo', 'abaixo', 'baixo'], 'cho': ['acho', 'bicho', 'cacho', 'riacho'], 'mbé': ['tremembé', 'gambé', 'imbé'], 'ede': ['parede', 'sede', 'cede'], 'tá': ['tá'], 'oão': ['joão'], 'pai': ['papai', 'pai'], 'dar': ['comandar', 'liquidar', 'ajudar', 'desandar', 'lidar', 'acomodar', 'andar', 'dar', 'nadar', 'mudar', 'mandar', 'acordar', 'estudar'], 'vai': ['vai'], 'imo': ['acréscimo', 'íntimo', 'máximo', 'péssimo', 'ótimo'], 'rau': ['degrau', 'grau'], 'viu': ['ouviu', 'viu'], 'ote': ['pacote', 'malote', 'holofote', 'papelote', 'pixote', 'boicote'], 'eio': ['freio', 'cheio', 'meio', 'feio', 'veio', 'alheio'], 'ein': ['frankestein', 'hein'], 'crê': ['crê'], 'bua': ['tábua'], 'ãos': ['mãos', 'irmãos', 'cidadãos', 'grãos'], 'vre': ['livre'], 'xx': ['xx'], 'cas': ['científicas'], 'ber': ['saber', 'perceber'], 'gia': ['demagogia', 'contagia', 'energia', 'vigia', 'magia'], 'und': ['playground'], 'uar': ['tomultuar', 'jaguar', 'continuar', 'cultuar'], 'meu': ['tremeu', 'meu'], 'eu': ['eu'], 'seu': ['museu', 'fariseu', 'seu'], 'eus': ['adeus', 'deus', 'seus', 'meus'], 'eh': ['eh'], 'cor': ['cor', 'licor', 'rancor'], 'mos': ['somos', 'mesmos', 'fazemos', 'começamos', 'encontraremos', 'próximos', 'mentimos', 'vamos', 'conversamos', 'tivemos'], 'zer': ['prazer', 'dizer', 'fizer', 'fazer', 'lazer'], 'ger': ['danger', 'ranger', 'proteger'], 'ior': ['maior', 'superior', 'anterior', 'inferior', 'consequênciamaior', 'pior'], 'uei': ['neguei', 'pequei', 'enxerguei', 'cheguei'], 'sos': ['ossos', 'escassos', 'mentirosos', 'diversos', 'nossos', 'famosos'], 'jus': ['jus'], 'sei': ['pensei', 'passei', 'sei'], 'uir': ['incluir', 'destruir', 'usufruir', 'seguir'], 'gim': ['gim'], 'vém': ['convém'], 'nou': ['ensinou', 'enganou', 'explanou', 'terminou'], 'amo': ['convenhamo', 'amo'], 'ves': ['naves'], 'rco': ['circo', 'marco', 'porco'], 'on': ['on'], 'ilo': ['sigilo', 'aquilo', 'quilo', 'estilo'], '157': ['157'], 'ete': ['repete', 'colete', 'sorvete', 'capacete', 'pivete', 'mete', 'tapete', 'bilhete', 'sete', 'promete', 'derrete'], 'ego': ['cego', 'ego', 'desemprego', 'chego', 'dinheironego', 'emprego', 'nego'], 'ace': ['versace'], 'ght': ['light'], 'oia': ['troia'], 'aio': ['caraio'], 'ebi': ['percebi'], 'uem': ['quem', 'toquem'], 'aiu': ['atraiu', 'caiu', 'saiu'], 'jes': ['trajes'], 'elo': ['gelo', 'belo', 'pesadelo', 'modelo', 'castelo', 'chinelo'], 'bir': ['subir'], 'gti': ['gti'], 'ssa': ['nossa', 'dessa', 'pressa', 'nessa', 'essa', 'massa', 'raissa', 'estressa', 'passa'], 'rsa': ['viceversa', 'conversa', 'versa'], 'jou': ['fraquejou', 'sujou'], 'eça': ['aconteça', 'cabeça', 'esqueça'], 'há': ['há'], 'fre': ['cofre', 'sofre'], 'taz': ['cartaz'], 'rom': ['marrom'], 'pom': ['crepom'], 'fia': ['confia', 'fotografia'], 'vão': ['vão', 'galvão', 'vivão'], 'ir': ['ir'], 'ode': ['pode', 'explode'], 'dem': ['mudem', 'entendem', 'ordem'], 'rou': ['apavorou', 'chorou', 'aventurou', 'sobrou', 'morou', 'demorou', 'tirou'], 'gué': ['migué'], 'azu': ['kazu'], 'zul': ['azul'], 'ixi': ['vixi'], 'uuu': ['pfuuu'], 'rol': ['prol', 'farol'], 'sol': ['sol'], 'boy': ['motoboy', 'playboy', 'boy'], 'óis': ['nóis', 'lençóis'], 'mil': ['mil'], 'óio': ['zóio'], 'dói': ['dói'], 'rês': ['três'], 'mem': ['homem', 'consomem', 'temem'], 'lor': ['valor', 'flor', 'incolor'], 'cil': ['difícil', 'dificil', 'fácil'], 'plo': ['exemplo'], 'dos': ['cruzados', 'pecados', 'todos', 'convertidosconvertidos', 'desapercebidos', 'desnorteados', 'êxodos', 'finados', 'retorcidos', 'oprimidos', 'conhecidos', 'desorientados', 'movidos', 'bandidos', 'aliados', 'imundos', 'esclarecidos', 'contados', 'trocados', 'sofridos', 'prejudicados', 'feridos', 'estourados', 'respeitados', 'lados', 'convidados', 'unidos', 'fardados', 'jogados', 'acabados', 'espelhados', 'coitados', 'autorizados', 'ouvidos'], 'ças': ['crenças', 'rebouças', 'crianças'], 'rre': ['morre', 'corre'], 'ída': ['subtraída', 'saída'], 'rem': ['querem', 'tiverem', 'quebrem', 'puderem', 'morrem'], 'xem': ['mexem'], 'ros': ['erros', 'metros', 'malandros', 'negros', 'parceiros', 'muros', 'tiros', 'parelheiros', 'carros'], 'iza': ['agoniza', 'valoriza', 'generaliza', 'joaniza', 'satiriza', 'ironiza'], 'sma': ['mesma'], 'hor': ['melhor', 'senhor', 'penhor'], 'lpa': ['culpa', 'desculpa'], 'sua': ['sua'], 'tas': ['portas', 'machistas', 'idiotas', 'motocicletas', 'custas', 'perguntas', 'suspeitas', 'patriotas', 'trutas', 'aflitas', 'dantas', 'fitas', 'costas', 'bicicletas', 'tretas'], 'bre': ['febre', 'nobre', 'descobre', 'pobre'], 'eza': ['riqueza', 'firmeza', 'natureza', 'medespreza', 'pobreza', 'beleza', 'nobreza', 'certeza', 'tereza', 'alteza'], 'var': ['levar', 'incentivar', 'salvar'], 'nar': ['relacionar', 'revolucionar', 'condenar', 'enganar', 'exterminar', 'milenar', 'raciocinar'], 'cór': ['cór'], 'has': ['canalhas', 'falhas'], 'dra': ['pedra'], 'si': ['si'], 'smo': ['mesmo', 'egoísmo', 'abismo', 'terrorismo', 'esmo', 'machismo', 'conformismo'], 'rea': ['area', 'área'], 'sce': ['desce', 'nasce', 'cresce'], 'ece': ['escurece', 'acontece', 'merece', 'esquece', 'estremece', 'oferece', 'conhece', 'desaparece', 'agradece'], 'à': ['à'], 'hos': ['filhos', 'caminhos', 'sonhos', 'olhos'], 'edo': ['brinquedo', 'segredo', 'medo', 'cedo'], 'tos': ['escritos', 'preconceitos', 'lamentos', 'cantos', 'mortos', 'defeitos', 'pontos', 'direitos', 'juntos', 'atos', 'santos', 'momentos', 'muitos', 'canhotos', 'pretos', 'mandamentos'], '1': ['1'], 'da': ['da'], 'clã': ['clã'], 'de': ['de'], 'as': ['as'], 'por': ['vapor', 'por'], 'imã': ['imã'], 'com': ['com'], 'iga': ['diga', 'liga', 'veiga', 'intriga'], 'rpo': ['corpo'], 'tb': ['tb'], 'nsa': ['extensa', 'cansa', 'pensa', 'intensa', 'recompensa', 'responsa'], 'nca': ['branca', 'banca', 'nunca'], 'blá': ['blá'], 'cou': ['marcou', 'ficou', 'modificou'], 'no': ['no'], '4': ['4'], 'vc': ['vc'], 'te': ['te'], 'vir': ['vir', 'ouvir'], 'toa': ['atoa', 'toa'], 'voa': ['avoa', 'voa'], 'ude': ['atitude', 'ilude', 'pude'], 'las': ['velas', 'cancelas', 'favelas', 'vielas', 'perolas', 'pelas', 'delas', 'telas'], 'ial': ['mundial', 'policial'], 'ras': ['palavras', 'negras', 'pedras', 'sobras', 'feras', 'alturas', 'torturas', 'asperas', 'horas'], 'eno': ['pequeno', 'sereno', 'fenômeno', 'veneno'], 'lém': ['além', 'jerusalém'], 'njo': ['anjo'], 'rso': ['verso'], 'neo': ['sanguíneo', 'lacrimogêneo'], 'pt': ['pt'], 'uia': ['aleluia', 'guia'], 'pá': ['pá'], 'tom': ['moletom', 'batom'], 'som': ['som'], 'di': ['di'], 'inó': ['dominó'], 'ans': ['jeans'], 'lto': ['salto', 'alto', 'asfalto', 'assalto', 'adulto'], 'lso': ['celso', 'bolso'], 'riz': ['diretriz', 'triz', 'nariz'], 'olê': ['rolê'], 'ope': ['ibope'], 'ing': ['shopping', 'breitling', 'king'], 'ink': ['drink'], 'oor': ['outdoor'], 'ah': ['ah'], 'leo': ['óleo'], 'gol': ['gol', 'homemgol'], 'bou': ['roubou', 'acabou'], 'quê': ['quê', 'oquê', 'porquê'], 'ína': ['cocaína'], 'blê': ['dublê'], 'aro': ['caro', 'claro', 'amaro'], 'uxa': ['trouxa'], 'oça': ['moça'], 'lsa': ['bolsa'], 'uca': ['touca', 'louca', 'pouca'], 'oca': ['boca', 'troca', 'toca'], 'ana': ['cana', 'adriana', 'santana', 'campana', 'humana', 'fulana', 'semana', 'engana', 'havaiana'], 'ama': ['ama', 'fama', 'drama', 'cama', 'chama', 'lama'], 'duz': ['seduz'], 'uis': ['quis', 'azuis'], 'fez': ['fez'], 'ono': ['monótono'], 'xal': ['paradoxal'], 'sal': ['futsal', 'universal'], 'uão': ['sanguão'], 'gau': ['mingau'], 'ues': ['destaques', 'saques', 'loques'], 'nós': ['nós'], 'one': ['microfone', 'pressione', 'telefone'], 'vê': ['vê'], 'own': ['baguiobrown', 'brown'], 'in': ['in'], 'bin': ['sabin'], 'dim': ['verdim'], 'mme': ['acompanhamme'], 'eis': ['difíceis', 'seis', 'reis', 'leis'], 'uxo': ['fluxo', 'luxo'], 'lue': ['blue'], 'gue': ['bangue', 'gangue', 'sangue', 'prossegue', 'vermelhosangue', 'segue'], 'exe': ['mexe'], 'usa': ['acusa', 'usa', 'confusa', 'blusa', 'causa', 'abusa'], 'rez': ['xadrez'], 'net': ['hornet'], 'fim': ['fim', 'enfim', 'afim'], 'zin': ['tiozin'], 'for': ['for'], 'rro': ['bairro', 'cigarro', 'cachorro', 'socorro', 'ferro', 'erro', 'morro', 'carro'], 'nso': ['manso', 'ganso', 'tenso', 'penso'], 'ovo': ['novo', 'povo'], 'ae': ['ae'], 'ota': ['gota', 'bota', 'cota'], 'lia': ['família', 'familia', 'amélia'], 'lha': ['ovelha', 'canalha', 'vermelha', 'escolha', 'guerrilha', 'toalha', 'maravilha', 'ilha', 'baunilha', 'trilha', 'olha', 'batalha', 'filha', 'navalha', 'brilha', 'falha'], 'ave': ['nave', 'chave', 'trave', 'palavrachave'], 'pó': ['pó'], 'uio': ['baguio'], 'lão': ['vacilão', 'vilão', 'salão', 'fivelão'], 'isa': ['brisa', 'camisa', 'precisa', 'avisa'], 'lme': ['filme'], 'fel': ['fel'], 'bel': ['babel'], 'sic': ['music'], 'ezé': ['zezé'], 'apo': ['sapo'], 'adí': ['sadí'], 'aco': ['opaco', 'fraco', 'buraco', 'bombojaco'], 'pão': ['coreiajapão', 'capão', 'tempão', 'pão', 'chapão', 'campão'], 'ará': ['mudará'], 'ar': ['ar'], 'apa': ['rapa', 'mapa'], 'tti': ['tuttifrutti'], 'ant': ['bonvivant'], 'ai': ['ai'], 'ise': ['análise', 'analise', 'crise'], 'pôr': ['pôr'], 'agô': ['nagô'], 'gno': ['digno', 'indigno', 'maligno'], 'ame': ['videogame', 'vídeogame', 'game', 'infame'], 'ane': ['lausane', 'kane'], 'mum': ['comum'], 'uça': ['carapuça'], 'rça': ['barça', 'camurça'], 'osé': ['josé'], 'vaz': ['vaz'], 'aha': ['haha'], 'ápá': ['pápápá'], 'tru': ['tru'], 'alo': ['embalo', 'falo', 'vândalo', 'escândalo', 'talo', 'alo'], 'ow': ['ow'], 'how': ['show'], 'jow': ['jow'], 'puz': ['capuz'], 'jb': ['jb'], 'dp': ['dp'], 'pac': ['2pac'], 'son': ['bronson', 'emerson'], 'osa': ['cabulosa', 'nervosa', 'luxuriosa', 'ambiciosa', 'rosa'], 'atá': ['tataratatatatá'], 'rge': ['jorge'], 'nce': ['dance', 'chance', 'romance', 'vence', 'lance'], 'ooo': ['oooo'], 'cer': ['acontecer', 'enlouquecer', 'crescer', 'amanhecer', 'vencer', 'conhecer', 'nascer', 'adormecer', 'retorcer', 'aparecer', 'esquecer', 'exercer', 'renascer', 'oferecer'], 'bis': ['bis'], 'hé': ['hé'], 'cai': ['cai'], 'abe': ['sabe'], 'aby': ['baby'], 'vou': ['vou', 'levou'], 'amô': ['vamô'], 'ark': ['dark'], 'ael': ['israel', 'michael', 'rafael'], 'ate': ['debate', 'abacate', 'combate', 'resgate', 'mate', 'colgate'], 'em': ['em'], 'vra': ['palavra'], 'voz': ['voz'], 'oka': ['loka'], 'mer': ['tremer', 'comer', 'summer'], 'ruz': ['cruz'], 'hk': ['hk'], 'pel': ['papel'], 'ejo': ['vejo', 'desejo'], 'pés': ['pés'], '10': ['10'], 'tio': ['tio', 'titio', 'pátio'], 'hã': ['hã'], '40': ['40'], 'ita': ['direita', 'dita', 'acredita', 'fita', 'hipócrita', 'hesita', 'perfeita', 'imita', 'muita', 'respeita', 'grita'], 'aca': ['quiaca', 'fraca'], 'çol': ['lençol'], 'abo': ['diabo', 'rabo'], 'fer': ['lúcifer'], 'lis': ['paraisópolis'], 'ree': ['free'], 'nor': ['menor'], 'pum': ['pum'], '121': ['121'], 'bro': ['dezembro', 'outubro', 'bro', 'dobro', 'lembro'], 'mbo': ['mulambo', 'chumbo', 'jumbo', 'cachimbo'], 'bia': ['sabia'], 'nhe': ['champanhe'], 'mio': ['prêmio'], 'ril': ['bombril'], 'gua': ['água', 'língua'], 'tor': ['autor', 'doutor', 'pastor'], '23': ['23'], 'ter': ['dexter', 'repórter', 'ter', 'bater'], 'ira': ['passageira', 'madureira', 'verdadeira', 'maneira', 'olheira', 'brasileira', 'inteira', 'sujeira', 'segundafeira', 'fogueira', 'sextafeira', 'guerreira', 'mentira', 'rasteira', 'inspira', 'feira', 'zoeira', 'tira', 'safira'], 'lua': ['lua'], 'rua': ['rua'], 'ron': ['hebron'], 'iço': ['mestiço'], 'nze': ['onze'], 'ome': ['fome', 'nome'], 'léa': ['léa'], 'uta': ['truta', 'puta', 'escuta', 'prostituta'], 'beu': ['plebeu'], 'nga': ['restinga', 'chinga', 'longa', 'pitanga', 'impunga'], 'mba': ['homembomba', 'camba', 'bamba', 'samba'], 'ile': ['baile'], 'ale': ['vale', 'finale'], 'van': ['djavan'], 'riu': ['pariu'], 'ose': ['pose', 'neurose'], 'já': ['já'], 'sai': ['sai'], 'exo': ['complexo', 'sexo'], 'cal': ['local', 'tropical'], 'aje': ['laje'], 'sa': ['sa'], 'jar': ['viajar'], 'ife': ['patife', 'rife', 'grife'], 'uto': ['minuto', 'puto', 'luto', 'escuto'], 'nes': ['telefones'], 'mes': ['pêsames', 'nomes'], 'ino': ['imagino', 'sino', 'nordestino', 'destino', 'menino', 'pequenino'], 'hou': ['hou'], 'ila': ['vila', 'dalila'], 'sam': ['pensam', 'precisam'], 'apê': ['apê'], 'ppe': ['philippe'], 'los': ['séculos'], 'pro': ['compro'], 'ite': ['acredite', 'luteacredite', 'noite', 'omite', 'apetite', 'elite', 'madeirite', 'limite'], 'ent': ['cent'], 'sse': ['classe', 'desse', 'disse', 'esse'], 'mir': ['dormir'], 'lac': ['cadillac'], 'oow': ['ooow'], 'vim': ['vim'], 'lhe': ['colhe', 'mergulhe'], 'ti': ['ti'], 'mel': ['mel'], 'fui': ['fui'], 'erá': ['será', 'verá'], 'nge': ['longe', 'monge', 'finge'], 'aço': ['aço', 'braço', 'abraço', 'palhaço', 'faço'], 'eda': ['moeda', 'seda'], 'rás': ['trás', 'atrás'], 'vi': ['vi'], 'bar': ['derrubar', 'roubar', 'acabar', 'bar'], 'ô': ['ô'], 'aiz': ['raiz'], 'zil': ['fuzil'], 'rda': ['acorda', 'aguarda', 'concorda', 'merda'], 'oro': ['moro', 'demoro'], 'jay': ['jay', 'kljay'], 'nua': ['continua'], 'ulu': ['zulu'], 'tpo': ['crescimentpo'], 'zzz': ['pazzzzzz'], 'aís': ['país'], 'pre': ['sempre'], 'ujá': ['guarujá'], 'ser': ['ser', 'quiser'], 'les': ['eles', 'daqueles', 'deles'], 'gir': ['dirigir', 'surgir'], 'gos': ['pagos', 'inimigos', 'artigos', 'amigos'], 'ari': ['campari'], 'cis': ['imbecis'], 'ipê': ['ipê'], 'ool': ['álcool'], 'ngá': ['ingá'], 'uin': ['neguin'], 'ide': ['coincide'], 'eve': ['breve', 'neve', 'deve', 'leve'], 'óh': ['óh'], 'óte': ['molekóte'], 'eah': ['yeah'], 'top': ['top'], 'pei': ['pararapapapapei'], 'hey': ['hey'], 'ngo': ['domingo'], 'ole': ['role'], 'eim': ['beim'], 'rca': ['marca'], 'aum': ['bejaum'], 'hau': ['tchau'], 'la': ['la'], 'x': ['x'], 'xás': ['orixás'], 'jaz': ['jaz'], 'bor': ['tambor'], 'par': ['par', 'preocupar'], 'sem': ['sem'], 'ben': ['ben', 'feben'], 'lça': ['calça'], 'gra': ['negra', 'regra'], 'til': ['gentil', 'inútil'], 'hum': ['nenhum'], 'sus': ['jesus'], 'íso': ['paraíso'], 'nó': ['nó'], '72': ['72'], 'stá': ['está'], 'aga': ['paga', 'vaga'], 'vor': ['favor'], 'cam': ['cercam', 'rocam'], 'nas': ['fortunas', 'mundanas', 'minas', 'colinas'], 'ezo': ['desprezo'], 'eso': ['surpreso'], 'ris': ['paris', 'cris', 'arcoíris'], 'oam': ['voam'], 'rzo': ['rzo'], 'uso': ['confuso'], 'lah': ['hezbollah'], 'ula': ['crédula', 'cédula', 'fabula'], 'ois': ['dois', 'pois', 'depois'], 'ujo': ['sujo'], 'gio': ['colégio', 'relógio', 'refúgio', 'elogio'], 'sça': ['cresça'], 'aus': ['graus'], 'dó': ['dó'], 'gas': ['drogas'], 'lmo': ['palmo'], 'ack': ['black', 'quixoteblack', 'crack'], 'iça': ['justiça', 'carniça'], 'ixá': ['orixá'], 'ang': ['bang', 'tang'], 'omo': ['como'], 'nts': ['avonts', 'vonts'], 'eão': ['leão', 'campeão', 'peão'], 'dao': ['cidao'], 'xto': ['pretexto'], 'hao': ['jhao'], 'guá': ['jaraguá'], 'x2': ['x2'], 'péu': ['chapéu'], 'véu': ['véu'], 'éis': ['cruéis'], 'emo': ['memo'], 'ços': ['destroços', 'cortiços', 'descalços', 'braços'], 'nti': ['senti'], 'peu': ['corrompeu'], 'pia': ['pia'], '2': ['2'], 'rái': ['carái'], 'cê': ['cê'], 'ugo': ['alugo'], 'lgo': ['vulgo'], 'céu': ['arranhacéu', 'céu'], 'tmo': ['ritmo'], 'rai': ['carai'], 'aye': ['gaye'], 'ley': ['marley'], 'boi': ['boi'], 'hia': ['companhia'], 'pas': ['etapas', 'roupas', 'taipas'], 'jam': ['vejam'], '2x': ['2x'], 'lee': ['lee'], 'uas': ['ruas', 'suas'], 'oz': ['oz'], '12': ['12'], 'che': ['revanche'], 'zei': ['mazzei'], 'diu': ['pediu'], 'uba': ['rouba'], 'uja': ['suja'], 'eri': ['peri'], 'uvi': ['tucuruvi'], 'tia': ['doentia', 'estia', 'existia'], 'don': ['chandon', 'optalidon'], 'ute': ['nocaute'], 'lte': ['esmalte'], 'anc': ['blanc'], 'éus': ['réus', 'céus'], 'féu': ['troféu'], 'mbá': ['cambá'], 'vam': ['tavam', 'levam'], 'sas': ['empresas', 'amorosas', 'rosas', 'coisas'], 'asa': ['casa', 'brasa'], 'aia': ['saia', 'faia', 'laia'], 'spy': ['spy'], 'nao': ['nao'], 'sco': ['risco'], 'tó': ['tó'], 'tan': ['comprimentan'], 'oce': ['voce'], 'sao': ['televisao', 'ilusao'], 'pal': ['principal'], 'raê': ['peraê'], 'nks': ['bronks'], 'ães': ['magalhães'], 'nço': ['lenço', 'balanço', 'lanço'], 'zen': ['zen'], 'ken': ['ken'], 'dez': ['dez'], 'tnã': ['vietnã'], 'lan': ['kukluxklan'], 'oze': ['doze'], 'vã': ['vã'], 'ivã': ['divã'], 'irá': ['ouvirá'], 'lla': ['marighella'], '16': ['16'], 'aê': ['aê'], 'vá': ['vá'], 'doa': ['perdoa'], 'mém': ['amém'], 'uns': ['alguns'], 'aso': ['caso', 'atraso'], 'ich': ['vich', 'tretavich'], 'rço': ['berço'], 'ago': ['pago', 'trago'], 'os': ['os'], '4x': ['4x'], 'lts': ['volts'], 'zou': ['hipinotizou'], 'bo': ['bo'], 'our': ['glamour'], 'ou': ['ou'], 'zl': ['zl'], 'raí': ['peraí'], 'lec': ['plec'], 'éia': ['idéia'], 'opa': ['supercopa', 'europa', 'copa'], 'nse': ['suspense'], 'rdi': ['perdi'], 'nci': ['venci'], 'ára': ['pára'], 'átá': ['rátátátá'], 'ood': ['hood'], 'rgo': ['amargo'], 'zia': ['dúzia', 'vazia', 'dizia'], 'uza': ['yakuza'], 'eja': ['bandeja', 'veja'], 'ash': ['flash'], 'oko': ['loko'], 'tiu': ['desistiu', 'existiu', 'partiu'], 'val': ['carnaval'], 'biu': ['subiu'], 'kit': ['kit'], 'obá': ['obá'], 'ijo': ['beijo', 'dirijo'], 'rap': ['rap'], 'sti': ['assisti', 'resisti'], 'zas': ['cinzas'], 'rg': ['rg'], 'vro': ['livro'], 'faz': ['faz'], 'caz': ['eficaz'], 'leu': ['valeu'], 'd2': ['d2'], 'uço': ['ouço'], '5x': ['5x'], 'ta': ['ta'], 'pua': ['arapua'], 'mc': ['mc'], 'ca': ['ca'], 'ces': ['voces', 'tolices'], 'tok': ['oktok'], 'lin': ['blin'], 'nny': ['jhonny'], 'min': ['min'], 'ort': ['short'], 'jáh': ['jáh'], 'oga': ['joga'], 'vo': ['vo'], 'íde': ['decíde'], 'ibi': ['inibi'], 'jó': ['jó'], '0': ['0'], 'vés': ['revés'], 'rmi': ['durmi'], 'hek': ['shek'], 'ona': ['lona', 'tona', 'abandona'], '83': ['83'], '100': ['1100', '100'], 'fal': ['fal', 'triunfal'], 'mau': ['mau'], 'zio': ['vazio'], 'zar': ['rezar', 'organizar', 'azar'], 'foi': ['foi'], 'uel': ['cruel', 'miguel'], 'oom': ['doom'], 'uri': ['juri'], 'ure': ['cure'], 'ean': ['dean', 'jean'], 'rói': ['superherói', 'herói'], 'via': ['via'], 'oía': ['oía'], 'sós': ['sós'], 'duo': ['indivíduo'], 'edy': ['edy'], '3x': ['3x'], 'he': ['he'], 'hê': ['hê'], 'uga': ['suga'], 'me': ['me'], 'lva': ['selva'], 'avo': ['centavo', 'conchavo'], 'raz': ['traz'], 'ait': ['faroait'], 'uli': ['patchouli'], 'ops': ['tops'], 'pop': ['pop'], 'pso': ['colapso'], 'fi': ['fi'], 'fes': ['grifes'], 'tif': ['sportif'], 'rti': ['curti'], '87': ['87'], 'éh': ['éh'], 'paw': ['paw'], 'xão': ['paixão', 'flexão', 'caixão'], 'eem': ['veem'], 'ha': ['ha'], 'uor': ['suor'], 'bum': ['bum'], 'psv': ['psv'], '97': ['97'], 'êlo': ['vêlo'], 'r9': ['r9'], '006': ['2006'], 'ses': ['franceses'], 'ols': ['gols'], 'ati': ['iaracati'], 'bh': ['bh'], 'tre': ['entre'], 'nás': ['satanás'], 'jos': ['dosanjos'], 'dus': ['êxodus'], 'lap': ['clap'], 'aja': ['viaja', 'haja'], 'iou': ['criou'], 'êlê': ['lêlê'], 'jum': ['jejum'], 'oon': ['platoon'], 'num': ['num'], 'gro': ['negro'], 'bão': ['bão'], 'aah': ['aaaaah'], 'tóa': ['tóa'], 'roa': ['coroa'], 'gão': ['negão'], 'ini': ['vitrini'], 'go': ['go'], 'are': ['prepare', 'pare'], 'dei': ['dei', 'andei'], 'nei': ['abandonei'], 'zé': ['zé'], 'ons': ['bons'], 'uía': ['distribuía'], '380': ['380'], '22': ['22'], 'eci': ['reconheci'], 'goa': ['mágoa'], 'zes': ['vozes'], 'dré': ['andré'], 'hop': ['hiphop'], 'tum': ['vutum'], 'dre': ['alexandre'], 'oab': ['coab'], 'páá': ['páá'], 'ene': ['irene'], 'ndô': ['corocondô'], 'erê': ['tererê'], 'apá': ['papá'], 'ove': ['move'], 'gre': ['bagre', 'milagre'], 'li': ['li'], 'tri': ['tri'], '27': ['27'], '002': ['2002'], 'xar': ['pixar'], 'omi': ['comi'], 'hab': ['cohab'], '20': ['20'], 'ofá': ['sofá'], 'dro': ['malandro'], 'obo': ['bobo'], 'omb': ['lomb'], 'món': ['pokemón'], 'uti': ['uti'], 'öen': ['citröen'], 'uiz': ['juiz'], 'ese': ['preparese'], 'mam': ['conformam'], '26': ['26'], 'emu': ['memu'], 'fra': ['chifra'], 'iii': ['shiiiiii'], '21': ['21'], 'lve': ['resolve'], 'alk': ['walktalk'], 'lim': ['plimplim', 'blimblim'], 'nam': ['descriminam'], 'dmn': ['dmn'], 'çam': ['façam']}\n"
          ]
        }
      ],
      "source": [
        "import re\n",
        "import nltk\n",
        "from nltk.tokenize import word_tokenize\n",
        "\n",
        "nltk.download('punkt')\n",
        "\n",
        "#Define uma expressão regular para encontrar a última palavra de cada linha\n",
        "padrao_ultima_palavra = re.compile(r'\\b(\\w+)\\s*$')\n",
        "\n",
        "#Dicionário para armazenar as rimas por palavra final de linha\n",
        "rimas_encontradas = {}\n",
        "\n",
        "#Função para obter os 3 últimos caracteres de uma palavra\n",
        "def obter_ultimos_tres_caracteres(palavra):\n",
        "    return palavra[-3:]\n",
        "\n",
        "#Ler o texto do arquivo letras.txt (texto pré-processado)\n",
        "with open('letras.txt', 'r', encoding='utf-8') as file:\n",
        "    corpus = file.read()\n",
        "\n",
        "#Dividir o corpus em linhas\n",
        "linhas = corpus.split('\\n')\n",
        "\n",
        "#Para cada linha no corpus, encontra a última palavra e tokeniza as rimas\n",
        "for linha in linhas:\n",
        "    match = padrao_ultima_palavra.search(linha.lower())\n",
        "    if match:\n",
        "        ultima_palavra = match.group(1)\n",
        "        #Obter os 3 últimos caracteres da última palavra\n",
        "        ultimos_tres_caracteres = obter_ultimos_tres_caracteres(ultima_palavra)\n",
        "        #Adiciona a rima tokenizada ao dicionário de rimas usando a lógica dos 3 últimos caracteres\n",
        "        if ultimos_tres_caracteres in rimas_encontradas:\n",
        "            rimas_encontradas[ultimos_tres_caracteres].add(ultima_palavra.lower())\n",
        "        else:\n",
        "            rimas_encontradas[ultimos_tres_caracteres] = {ultima_palavra.lower()}\n",
        "\n",
        "#Converter os conjuntos de rimas de volta para listas (se necessário)\n",
        "for rima, palavras in rimas_encontradas.items():\n",
        "    rimas_encontradas[rima] = list(palavras)\n",
        "\n",
        "print(\"Rimas encontradas:\")\n",
        "print(rimas_encontradas)"
      ]
    },
    {
      "cell_type": "markdown",
      "metadata": {
        "id": "heCaMJwfgj9Y"
      },
      "source": [
        "Biblioteca utilizada para corrigir palavras que possam estar incorretas na geração"
      ]
    },
    {
      "cell_type": "code",
      "execution_count": null,
      "metadata": {
        "colab": {
          "base_uri": "https://localhost:8080/"
        },
        "id": "XCZq1lkkPAUx",
        "outputId": "de423faf-6e00-43cc-9745-e4ff6f6304e0"
      },
      "outputs": [
        {
          "name": "stdout",
          "output_type": "stream",
          "text": [
            "Collecting pyspellchecker\n",
            "  Downloading pyspellchecker-0.8.1-py3-none-any.whl (6.8 MB)\n",
            "\u001b[2K     \u001b[90m━━━━━━━━━━━━━━━━━━━━━━━━━━━━━━━━━━━━━━━━\u001b[0m \u001b[32m6.8/6.8 MB\u001b[0m \u001b[31m40.8 MB/s\u001b[0m eta \u001b[36m0:00:00\u001b[0m\n",
            "\u001b[?25hInstalling collected packages: pyspellchecker\n",
            "Successfully installed pyspellchecker-0.8.1\n"
          ]
        }
      ],
      "source": [
        "!pip install pyspellchecker"
      ]
    },
    {
      "cell_type": "markdown",
      "metadata": {
        "id": "kRWlXWi3gsVI"
      },
      "source": [
        "## Função para gerar novas letras de RAP"
      ]
    },
    {
      "cell_type": "code",
      "execution_count": null,
      "metadata": {
        "id": "INbKnK9NBgxP"
      },
      "outputs": [],
      "source": [
        "import numpy as np\n",
        "from tensorflow.keras.preprocessing.sequence import pad_sequences\n",
        "from spellchecker import SpellChecker\n",
        "\n",
        "#Função para gerar texto rimando com base nas rimas encontradas\n",
        "def generate_text(seed_text, next_words, model, max_sequence_len, grupo_rimas):\n",
        "    spell_checker = SpellChecker(language='pt')\n",
        "    generated_text = seed_text.strip()  #Inicializa o texto gerado com o seed_text e remove espaços extras\n",
        "    words_generated = 0  #Contador para controlar o número de palavras geradas\n",
        "    last_word = \"\"  #Variável para armazenar a última palavra gerada em cada iteração\n",
        "    last_line_last_word = \"\"  #Variável para armazenar a última palavra da linha anterior\n",
        "    line_count = 0  #Contador de linhas geradas\n",
        "\n",
        "    while words_generated < next_words:\n",
        "        if words_generated == 0:\n",
        "            generated_text += \"\\n\"\n",
        "\n",
        "        token_list = tokenizer.texts_to_sequences([seed_text])[0]\n",
        "        token_list = pad_sequences([token_list], maxlen=max_sequence_len-1, padding='pre')\n",
        "        \n",
        "        #probabibilidades de predição\n",
        "        predicted_probs = model.predict(token_list, verbose=0)[0]        \n",
        "        predicted_index = np.argmax(predicted_probs)\n",
        "\n",
        "        #Buscando palavra correspondente\n",
        "        output_word = \"\"\n",
        "        for word, index in tokenizer.word_index.items():\n",
        "            if index == predicted_index:\n",
        "                output_word = word\n",
        "                break\n",
        "\n",
        "        #Encontra a palavra corrigida, se estiver incorreta\n",
        "        corrected_word = spell_checker.correction(output_word)\n",
        "\n",
        "        #Adiciona a palavra corrigida ao texto gerado e à semente\n",
        "        seed_text += \" \" + corrected_word\n",
        "        generated_text += \" \" + corrected_word\n",
        "        words_generated += 1\n",
        "\n",
        "        #Atualiza a última palavra gerada\n",
        "        last_word = output_word\n",
        "\n",
        "        #Se atingir o limite de palavras por linha, \n",
        "        #quebra a linha e atualiza a contagem de linhas\n",
        "        if words_generated % 8 == 0:\n",
        "            generated_text += \"\\n\"\n",
        "            line_count += 1\n",
        "\n",
        "            #Verifica se é a primeira iteração para gerar apenas três linhas\n",
        "            if words_generated == 8:\n",
        "                line_count = 2\n",
        "\n",
        "            #Pular uma linha a cada quatro linhas geradas\n",
        "            if line_count % 4 == 0:\n",
        "                generated_text += \"\\n\"\n",
        "\n",
        "            #Última palavra da linha atual\n",
        "            last_line_words = generated_text.splitlines()[-1].split()\n",
        "            last_line_last_word = last_line_words[-1].lower() if last_line_words else \"\"\n",
        "\n",
        "            #Última palavra da linha anterior\n",
        "            previous_line_words = generated_text.splitlines()[-2].split() if len(generated_text.splitlines()) > 1 else []\n",
        "            previous_line_last_word = previous_line_words[-1].lower() if previous_line_words else \"\"\n",
        "\n",
        "            #Há rimas disponíveis para a última palavra da linha anterior?\n",
        "            if previous_line_last_word in grupo_rimas:\n",
        "                available_rhymes = [rhyme for rhyme in grupo_rimas[previous_line_last_word] if rhyme.endswith(last_line_last_word)]\n",
        "                if available_rhymes:\n",
        "                    rhyme_word = np.random.choice(available_rhymes)\n",
        "                    generated_text += \" \" + rhyme_word\n",
        "                    seed_text += \" \" + rhyme_word\n",
        "                else:\n",
        "                    generated_text += \" \" + output_word\n",
        "                    seed_text += \" \" + output_word\n",
        "            else:\n",
        "                generated_text += \" \" + output_word\n",
        "                seed_text += \" \" + output_word\n",
        "\n",
        "    return generated_text"
      ]
    },
    {
      "cell_type": "markdown",
      "metadata": {
        "id": "sZa3dFaBgxhw"
      },
      "source": [
        "# Exemplos de utilização"
      ]
    },
    {
      "cell_type": "code",
      "execution_count": null,
      "metadata": {
        "colab": {
          "base_uri": "https://localhost:8080/"
        },
        "id": "ZN9caXyIxDXc",
        "outputId": "114e6ec5-972e-486f-8ab2-5def3a2637ed"
      },
      "outputs": [
        {
          "name": "stdout",
          "output_type": "stream",
          "text": [
            "A lua cheia, clareia as ruas do capão\n",
            " acima de nós só deus humilde é nós\n",
            " nós fica perdida mulheres ligado vive se têm a\n",
            " a vida subiu a boca eu tive meu corpo\n",
            "\n",
            " corpo a testemunha é calada de asfalto te imita\n",
            " imita desprezo então o seu osso eu sou pôr\n",
            " pôr na sarjeta no barril barril barril barril barril\n",
            " brasil aí é se errei para você gosta de\n",
            "\n",
            " de meu pai tá as flores da ponte para\n",
            " pra ser não vou encontrar o cá agora precisa\n",
            " precisa não vou dizer ninguém ninguém tá na rua\n",
            " rua não foi embalado embalado embalado embalado embalado embalado\n",
            "\n",
            " embaçado por ceguinho ceguinho ceguinho ceguinho ceguinho ceguinho ceguinho\n",
            " neguinho na selva mais o que vinho acha que\n",
            " que é bem ganharam aqui você vai sabe o\n",
            " o tempo será de lá vai ser a fita\n",
            "\n",
            " fita ao problema será de justiça irmão meu rei\n",
            " rei a lua escura no homem para to no\n",
            " no coração uma próprias lágrimas la uma viela em\n",
            " em seu todas de novo do barril barril barril\n",
            "\n",
            " brasil broca broca broca broca broca broca broca broca\n",
            " brown eu toda droga será jesus vão muda em\n",
            " em problemas aparecida sem não vai mano fez eu\n",
            " eu te acreditar e o limite para que mó\n",
            "\n",
            " mó vela sem querer ele vai vai mesmo foi\n",
            " foi um belo 100 raça toca direito já era\n",
            " era frio ele era no\n"
          ]
        }
      ],
      "source": [
        "generated_text = generate_text(\"A lua cheia, clareia as ruas do capão\", 204, model, max_sequence_len-1, rimas_encontradas)\n",
        "print(generated_text)"
      ]
    },
    {
      "cell_type": "code",
      "execution_count": null,
      "metadata": {
        "colab": {
          "base_uri": "https://localhost:8080/"
        },
        "id": "4aDlDPAC-kYF",
        "outputId": "0f9d01a8-b9c1-4633-cfc3-6074c381a344"
      },
      "outputs": [
        {
          "name": "stdout",
          "output_type": "stream",
          "text": [
            "Tem que ser, tem que pa\n",
            " é pouco dia periferia é desabado muito mano\n",
            " mano então nem já não acho que você tá\n",
            " tá tudo se tocar só isso 3 pagando de\n",
            "\n",
            " de quem não sei responder todo celular não conhece\n",
            " conhece todos esse faz mano aqui os aliado foi\n",
            " foi grana mas ela tem que você viu nessa\n",
            " nessa que diz que só roubar em dinheiro igual\n",
            "\n",
            " igual de sócio o dia que é mano firmeza\n",
            " firmeza vamos sempre vive fica fica nem aí é\n",
            " né a favela na área assim se lembre ao\n",
            " ao lado cada um dois puro para dinheiro pelo\n",
            "\n",
            " pelo júri é periferia já diz meu mestre parece\n",
            " parece uma doença não é rico em cupão cupão\n",
            " cuzão na esquina as deixem em sol local e\n",
            " e veja seu som para que as conquistas metralhado\n",
            "\n",
            " metralhado 4 branca e carente o mundo é má\n",
            " má sem dez dos trevas tradição de sina lenta\n",
            " lenta uma nossa sangue onde é muito uma vida\n",
            " vida sem si não é mulher mas ele ainda\n",
            "\n",
            " ainda tá entre o bane bane bane bane bane\n",
            " bang pique e seis de monte por ódio hã\n",
            " hã da bala só do dia de pensar ele\n",
            " ele tá com o crime vem vamos os homem\n",
            "\n",
            " home quase te levou vários forma então fez que\n",
            " que não me entende se para a fita mas\n",
            " mas não vai falar ninguém\n"
          ]
        }
      ],
      "source": [
        "generated_text = generate_text(\"Tem que ser, tem que pa\", 204, model, max_sequence_len-1, rimas_encontradas)\n",
        "print(generated_text)"
      ]
    },
    {
      "cell_type": "code",
      "execution_count": null,
      "metadata": {
        "colab": {
          "base_uri": "https://localhost:8080/"
        },
        "id": "MmCrCmc9-unt",
        "outputId": "9d1bc466-53a8-4ab0-f961-7633346a9ffb"
      },
      "outputs": [
        {
          "name": "stdout",
          "output_type": "stream",
          "text": [
            "Cotidiano na periferia e as dificuldades\n",
            " a cadeia e alguém hã nego te deixa\n",
            " deixa porque que e ontem eu quero esse xá\n",
            " x2 igual o frio ele era os manos na\n",
            "\n",
            " na lado do outro for ele vai em onde\n",
            " onde para um monstro e da lei da selva\n",
            " selva é necessário aqui não sabe disso se não\n",
            " não vivo qual lá é hoje cê tem mais\n",
            "\n",
            " mais que ninguém quer ter mais dólar e sair\n",
            " sair os sério qualquer pior do capão cinco na\n",
            " na esquina no remetente e ele morre o minha\n",
            " minha mão não quer mais as famílias dinheiro eu\n",
            "\n",
            " eu conseguir um corre por você e os manos\n",
            " manos mas sem gamba gamba gamba gamba gamba gamba\n",
            " gambé vem no chão tem continuar se vale a\n",
            " a cara é o sangue dele perde a madrugada\n",
            "\n",
            " madrugada na distância nível a alma me mostra a\n",
            " a ingrata vela hoje a noite era hoje que\n",
            " que não cachimbar de lutar complexo policia pobres essa\n",
            " essa final tio e mulher entre uma solução na\n",
            "\n",
            " na sul mas ainda ter um agradar aqui mas\n",
            " mas quem é mais bem fácil o governo pode\n",
            " pode ver um dois boa se aventurou e uma\n",
            " uma vontade de você não tem quando o mundo\n",
            "\n",
            " mundo aquela olhos quanto ele ia que um teste\n",
            " teste roubar ta quando sentido tá rimando que ele\n",
            " ele pega nada não ligou\n"
          ]
        }
      ],
      "source": [
        "generated_text = generate_text(\"Cotidiano na periferia e as dificuldades\", 204, model, max_sequence_len-1, rimas_encontradas)\n",
        "print(generated_text)"
      ]
    },
    {
      "cell_type": "code",
      "execution_count": null,
      "metadata": {
        "colab": {
          "base_uri": "https://localhost:8080/"
        },
        "id": "rP14nwUA_wRd",
        "outputId": "61718fe5-abac-43be-de62-0d32d633e21a"
      },
      "outputs": [
        {
          "name": "stdout",
          "output_type": "stream",
          "text": [
            "A vida é diferente, da ponte pra cá\n",
            " tem que ser tem que pá o mundo\n",
            " mundo sendo massacrado no gueto é muito 10 importado\n",
            " importado mesmo fica então com o amor pode ver\n",
            "\n",
            " ver um advogado pro salve igual o tempo por\n",
            " por final você diz que tem ruim ficou por\n",
            " vapor mil a vida nas próprias destruição aponta a\n",
            " a atualidade nada nem falei horas devagar gosto os\n",
            "\n",
            " os pique o nosso horizonte de suspeitos quebrado também\n",
            " também do tempo na mão como ainda é nego\n",
            " nego me vê eu digo por mim a banca\n",
            " banca e o movimento é quente não vai sair\n",
            "\n",
            " sair ele fora então vamos horas pagando para toda\n",
            " foda deixa meu notário notário notário notário notário notário\n",
            " otário enfim atrás da quebrada baralho disse quem vai\n",
            " vai aqui vai vocês tudo muito o quê cê\n",
            "\n",
            " cê é mais vale o que valor é o\n",
            " o inferno meu gente está na esquina deus tá\n",
            " tá ao cena tão eu também ouvir para o\n",
            " o cara de você viu pensa na minha cara\n",
            "\n",
            " cara um negócios periferia mano ouviu comigo fica a\n",
            " a raça que saber para de que tem la\n",
            " la em casa aqui se é isso no cara\n",
            " cara tá fazendo aqui é sempre antes e nem\n",
            "\n",
            " nem se mina têm um sonho meu pensar os\n",
            " os tempos mas você mesmo qualquer moleque na vida\n",
            " vida vamos os homem na\n"
          ]
        }
      ],
      "source": [
        "generated_text = generate_text(\"A vida é diferente, da ponte pra cá\", 204, model, max_sequence_len-1, rimas_encontradas)\n",
        "print(generated_text)"
      ]
    },
    {
      "cell_type": "markdown",
      "metadata": {
        "id": "RA_98u4fg3Xo"
      },
      "source": [
        "# Conclusões\n",
        "\n",
        "Os resultados iniciais são animadores e trazem ânsia de aplicar uma nova abordagem, talvez utilizar ambientes pagos para fazer a execução do treinamento e tentar inferir com um modelo mais fino. A inserção de modelos pré-treinados supracitados neste estudo é vista com entusiasmo para aproveitar o ambiente mais parrudo e apropriado para fazer as simulações. Sendo assim, outras técnicas de ajuste fino e regularização do modelo podem ser aplicadas, em busca de melhorar a acurácia das predições e, consequentemente, diminuir a perda durante as épocas de treinamento.\n",
        "\n",
        "O desenvolvimento de uma rede neural para geração de novas letras de RAP é um desafio que traz a tona a correlação entre tecnologia e arte, em busca de aproximar-se do pensamento humano e suas formas de expressão. Além de ser uma homenagem a um dos maiores grupos de RAP da história, que são referências para tantas pessoas."
      ]
    },
    {
      "cell_type": "markdown",
      "metadata": {
        "id": "KTSf8iDzPjyn"
      },
      "source": [
        "# Referências"
      ]
    },
    {
      "cell_type": "markdown",
      "metadata": {
        "id": "S3SnXnEuPlY3"
      },
      "source": [
        "* Satija, V. (2017). Rhymenet. https://github.com/vidursatija/rhymenet.\n",
        "[Acesso em 21 jun. 2024].\n",
        "* Souza, F., Nogueira, R., and Lotufo, R. (2020). BERTimbau: pretrained BERT models for Brazilian Portuguese. In 9th Brazilian Conference on Intelligent Systems, BRACIS, Rio Grande do Sul, Brazil, October 20-23 (to appear). [Acesso em 28 jun. 2024].\n",
        "* Anand, A., Anand, A., Maiyuran, J., and Shum, M. Rap lyric generation: A phoneme-based lstm approach. [Acesso em 21 jun. 2024].\n",
        "* Barrat, R. (2018). Rapping-neural-network. https://github.com/\n",
        "robbiebarrat/rapping-neural-network. [Acesso em 21 jun. 2024].\n",
        "* Draca, N. (2017). rddt. https://github.com/nikodraca/rddt. [Acesso em\n",
        "21 jun. 2024].\n",
        "* Guillou, P. (2020). Gportuguese-2 (portuguese gpt-2 small): a language model for portuguese text generation (and more nlp tasks...). [Acesso em 28 jun. 2024].\n",
        "* JotaChina. Computer intelligence. https://github.com/JotaChina/\n",
        "Computer-intelligence. [Acesso em 21 jun. 2024].\n",
        "* Juliani, J. d. S. (2019). Gerando letras musicais utilizado uma rede neural recorrente lstm-long short-term memory. [Acesso em 21 jun. 2024].\n",
        "* Leme, L. (2024). Finbert-pt-br. https://huggingface.co/lucas-leme/ FinBERT-PT-BR. [Acesso em: 25 jun. 2024].\n",
        "* Letras.mus.br. Racionais mc’s. https://www.letras.mus.br/racionais-mcs/. [Acesso em 21 jun. 2024].\n",
        "* Potash, P., Romanov, A., and Rumshisky, A. (2015). Ghostwriter: Using an lstm for automatic rap lyric generation. In Proceedings of the 2015 Conference on Empirical Methods in Natural Language Processing, pages 1919–1924. [Acesso em 21 jun. 2024].\n",
        "\n",
        "\n",
        "\n"
      ]
    }
  ],
  "metadata": {
    "accelerator": "GPU",
    "colab": {
      "collapsed_sections": [
        "WbqZBltGhVFR"
      ],
      "gpuType": "T4",
      "provenance": []
    },
    "kernelspec": {
      "display_name": "Python 3",
      "name": "python3"
    },
    "language_info": {
      "codemirror_mode": {
        "name": "ipython",
        "version": 3
      },
      "file_extension": ".py",
      "mimetype": "text/x-python",
      "name": "python",
      "nbconvert_exporter": "python",
      "pygments_lexer": "ipython3",
      "version": "3.11.9"
    },
    "widgets": {
      "application/vnd.jupyter.widget-state+json": {
        "01dc2669382a4258861cc0ab6195f53b": {
          "model_module": "@jupyter-widgets/controls",
          "model_module_version": "1.5.0",
          "model_name": "FloatProgressModel",
          "state": {
            "_dom_classes": [],
            "_model_module": "@jupyter-widgets/controls",
            "_model_module_version": "1.5.0",
            "_model_name": "FloatProgressModel",
            "_view_count": null,
            "_view_module": "@jupyter-widgets/controls",
            "_view_module_version": "1.5.0",
            "_view_name": "ProgressView",
            "bar_style": "success",
            "description": "",
            "description_tooltip": null,
            "layout": "IPY_MODEL_06d522266f364f3889b2a1de0c61676a",
            "max": 125,
            "min": 0,
            "orientation": "horizontal",
            "style": "IPY_MODEL_97c8969cda0447ab94f67e608e9f671e",
            "value": 125
          }
        },
        "038538d284f74a37a483fc2f89383e3b": {
          "model_module": "@jupyter-widgets/base",
          "model_module_version": "1.2.0",
          "model_name": "LayoutModel",
          "state": {
            "_model_module": "@jupyter-widgets/base",
            "_model_module_version": "1.2.0",
            "_model_name": "LayoutModel",
            "_view_count": null,
            "_view_module": "@jupyter-widgets/base",
            "_view_module_version": "1.2.0",
            "_view_name": "LayoutView",
            "align_content": null,
            "align_items": null,
            "align_self": null,
            "border": null,
            "bottom": null,
            "display": null,
            "flex": null,
            "flex_flow": null,
            "grid_area": null,
            "grid_auto_columns": null,
            "grid_auto_flow": null,
            "grid_auto_rows": null,
            "grid_column": null,
            "grid_gap": null,
            "grid_row": null,
            "grid_template_areas": null,
            "grid_template_columns": null,
            "grid_template_rows": null,
            "height": null,
            "justify_content": null,
            "justify_items": null,
            "left": null,
            "margin": null,
            "max_height": null,
            "max_width": null,
            "min_height": null,
            "min_width": null,
            "object_fit": null,
            "object_position": null,
            "order": null,
            "overflow": null,
            "overflow_x": null,
            "overflow_y": null,
            "padding": null,
            "right": null,
            "top": null,
            "visibility": null,
            "width": null
          }
        },
        "03d1ac1eb029428b91c1b22a3b15c5d1": {
          "model_module": "@jupyter-widgets/controls",
          "model_module_version": "1.5.0",
          "model_name": "HTMLModel",
          "state": {
            "_dom_classes": [],
            "_model_module": "@jupyter-widgets/controls",
            "_model_module_version": "1.5.0",
            "_model_name": "HTMLModel",
            "_view_count": null,
            "_view_module": "@jupyter-widgets/controls",
            "_view_module_version": "1.5.0",
            "_view_name": "HTMLView",
            "description": "",
            "description_tooltip": null,
            "layout": "IPY_MODEL_321f8f4370214418b4b9db8048cd56b2",
            "placeholder": "​",
            "style": "IPY_MODEL_cacf10d8e33344e3ba4ced13b82d0aed",
            "value": "config.json: 100%"
          }
        },
        "05945af5a3d245eebc9474759f36cf84": {
          "model_module": "@jupyter-widgets/controls",
          "model_module_version": "1.5.0",
          "model_name": "FloatProgressModel",
          "state": {
            "_dom_classes": [],
            "_model_module": "@jupyter-widgets/controls",
            "_model_module_version": "1.5.0",
            "_model_name": "FloatProgressModel",
            "_view_count": null,
            "_view_module": "@jupyter-widgets/controls",
            "_view_module_version": "1.5.0",
            "_view_name": "ProgressView",
            "bar_style": "success",
            "description": "",
            "description_tooltip": null,
            "layout": "IPY_MODEL_c6afd162d4a041dd898b0d19c432fc16",
            "max": 120,
            "min": 0,
            "orientation": "horizontal",
            "style": "IPY_MODEL_7b516854c6974a24ac1cba0ee2261d68",
            "value": 120
          }
        },
        "06d522266f364f3889b2a1de0c61676a": {
          "model_module": "@jupyter-widgets/base",
          "model_module_version": "1.2.0",
          "model_name": "LayoutModel",
          "state": {
            "_model_module": "@jupyter-widgets/base",
            "_model_module_version": "1.2.0",
            "_model_name": "LayoutModel",
            "_view_count": null,
            "_view_module": "@jupyter-widgets/base",
            "_view_module_version": "1.2.0",
            "_view_name": "LayoutView",
            "align_content": null,
            "align_items": null,
            "align_self": null,
            "border": null,
            "bottom": null,
            "display": null,
            "flex": null,
            "flex_flow": null,
            "grid_area": null,
            "grid_auto_columns": null,
            "grid_auto_flow": null,
            "grid_auto_rows": null,
            "grid_column": null,
            "grid_gap": null,
            "grid_row": null,
            "grid_template_areas": null,
            "grid_template_columns": null,
            "grid_template_rows": null,
            "height": null,
            "justify_content": null,
            "justify_items": null,
            "left": null,
            "margin": null,
            "max_height": null,
            "max_width": null,
            "min_height": null,
            "min_width": null,
            "object_fit": null,
            "object_position": null,
            "order": null,
            "overflow": null,
            "overflow_x": null,
            "overflow_y": null,
            "padding": null,
            "right": null,
            "top": null,
            "visibility": null,
            "width": null
          }
        },
        "06ee4e3c012843d5bed34ab6fdaf2a40": {
          "model_module": "@jupyter-widgets/controls",
          "model_module_version": "1.5.0",
          "model_name": "DescriptionStyleModel",
          "state": {
            "_model_module": "@jupyter-widgets/controls",
            "_model_module_version": "1.5.0",
            "_model_name": "DescriptionStyleModel",
            "_view_count": null,
            "_view_module": "@jupyter-widgets/base",
            "_view_module_version": "1.2.0",
            "_view_name": "StyleView",
            "description_width": ""
          }
        },
        "16537092f1694887aaf0795753903a16": {
          "model_module": "@jupyter-widgets/controls",
          "model_module_version": "1.5.0",
          "model_name": "HBoxModel",
          "state": {
            "_dom_classes": [],
            "_model_module": "@jupyter-widgets/controls",
            "_model_module_version": "1.5.0",
            "_model_name": "HBoxModel",
            "_view_count": null,
            "_view_module": "@jupyter-widgets/controls",
            "_view_module_version": "1.5.0",
            "_view_name": "HBoxView",
            "box_style": "",
            "children": [
              "IPY_MODEL_7cea8f5aaf2e41c5948e6b910f9e3fb6",
              "IPY_MODEL_c9fcf01831c54fe4bba70e94f3a267d2",
              "IPY_MODEL_892bff3db23d4db782a734a19eb0f098"
            ],
            "layout": "IPY_MODEL_2786a795ba30467cae1e098eba96d13e"
          }
        },
        "16ff3ea75c0449818f062db6c25dc4af": {
          "model_module": "@jupyter-widgets/controls",
          "model_module_version": "1.5.0",
          "model_name": "DescriptionStyleModel",
          "state": {
            "_model_module": "@jupyter-widgets/controls",
            "_model_module_version": "1.5.0",
            "_model_name": "DescriptionStyleModel",
            "_view_count": null,
            "_view_module": "@jupyter-widgets/base",
            "_view_module_version": "1.2.0",
            "_view_name": "StyleView",
            "description_width": ""
          }
        },
        "17d2344a220c45eabd2ef2762856bc95": {
          "model_module": "@jupyter-widgets/base",
          "model_module_version": "1.2.0",
          "model_name": "LayoutModel",
          "state": {
            "_model_module": "@jupyter-widgets/base",
            "_model_module_version": "1.2.0",
            "_model_name": "LayoutModel",
            "_view_count": null,
            "_view_module": "@jupyter-widgets/base",
            "_view_module_version": "1.2.0",
            "_view_name": "LayoutView",
            "align_content": null,
            "align_items": null,
            "align_self": null,
            "border": null,
            "bottom": null,
            "display": null,
            "flex": null,
            "flex_flow": null,
            "grid_area": null,
            "grid_auto_columns": null,
            "grid_auto_flow": null,
            "grid_auto_rows": null,
            "grid_column": null,
            "grid_gap": null,
            "grid_row": null,
            "grid_template_areas": null,
            "grid_template_columns": null,
            "grid_template_rows": null,
            "height": null,
            "justify_content": null,
            "justify_items": null,
            "left": null,
            "margin": null,
            "max_height": null,
            "max_width": null,
            "min_height": null,
            "min_width": null,
            "object_fit": null,
            "object_position": null,
            "order": null,
            "overflow": null,
            "overflow_x": null,
            "overflow_y": null,
            "padding": null,
            "right": null,
            "top": null,
            "visibility": null,
            "width": null
          }
        },
        "1dd632218e3740f98cf37fec0d0dd83a": {
          "model_module": "@jupyter-widgets/controls",
          "model_module_version": "1.5.0",
          "model_name": "HBoxModel",
          "state": {
            "_dom_classes": [],
            "_model_module": "@jupyter-widgets/controls",
            "_model_module_version": "1.5.0",
            "_model_name": "HBoxModel",
            "_view_count": null,
            "_view_module": "@jupyter-widgets/controls",
            "_view_module_version": "1.5.0",
            "_view_name": "HBoxView",
            "box_style": "",
            "children": [
              "IPY_MODEL_5e3fb8604c7a440ab2cc6999d6da7301",
              "IPY_MODEL_de5dca2bdda84221a20e45d201e11332",
              "IPY_MODEL_c8a2cd7435874738ae3ed61088b95282"
            ],
            "layout": "IPY_MODEL_d41f72e041484fcf90acf6156834150a"
          }
        },
        "1e68d34306f345a988a06e1ba8f46e95": {
          "model_module": "@jupyter-widgets/base",
          "model_module_version": "1.2.0",
          "model_name": "LayoutModel",
          "state": {
            "_model_module": "@jupyter-widgets/base",
            "_model_module_version": "1.2.0",
            "_model_name": "LayoutModel",
            "_view_count": null,
            "_view_module": "@jupyter-widgets/base",
            "_view_module_version": "1.2.0",
            "_view_name": "LayoutView",
            "align_content": null,
            "align_items": null,
            "align_self": null,
            "border": null,
            "bottom": null,
            "display": null,
            "flex": null,
            "flex_flow": null,
            "grid_area": null,
            "grid_auto_columns": null,
            "grid_auto_flow": null,
            "grid_auto_rows": null,
            "grid_column": null,
            "grid_gap": null,
            "grid_row": null,
            "grid_template_areas": null,
            "grid_template_columns": null,
            "grid_template_rows": null,
            "height": null,
            "justify_content": null,
            "justify_items": null,
            "left": null,
            "margin": null,
            "max_height": null,
            "max_width": null,
            "min_height": null,
            "min_width": null,
            "object_fit": null,
            "object_position": null,
            "order": null,
            "overflow": null,
            "overflow_x": null,
            "overflow_y": null,
            "padding": null,
            "right": null,
            "top": null,
            "visibility": null,
            "width": null
          }
        },
        "1ecc4368d9394a8fb5ac8dd20abc2e6a": {
          "model_module": "@jupyter-widgets/controls",
          "model_module_version": "1.5.0",
          "model_name": "HTMLModel",
          "state": {
            "_dom_classes": [],
            "_model_module": "@jupyter-widgets/controls",
            "_model_module_version": "1.5.0",
            "_model_name": "HTMLModel",
            "_view_count": null,
            "_view_module": "@jupyter-widgets/controls",
            "_view_module_version": "1.5.0",
            "_view_name": "HTMLView",
            "description": "",
            "description_tooltip": null,
            "layout": "IPY_MODEL_c5f51fe59e374d65b43ee3900348c1c0",
            "placeholder": "​",
            "style": "IPY_MODEL_84f8d0b412ce410aa5f1413658414322",
            "value": "pytorch_model.bin: 100%"
          }
        },
        "1f28f500ee704cf08c206c6d199c9c0c": {
          "model_module": "@jupyter-widgets/controls",
          "model_module_version": "1.5.0",
          "model_name": "DescriptionStyleModel",
          "state": {
            "_model_module": "@jupyter-widgets/controls",
            "_model_module_version": "1.5.0",
            "_model_name": "DescriptionStyleModel",
            "_view_count": null,
            "_view_module": "@jupyter-widgets/base",
            "_view_module_version": "1.2.0",
            "_view_name": "StyleView",
            "description_width": ""
          }
        },
        "1f59a78f5b714a86b5c877dd212ebfca": {
          "model_module": "@jupyter-widgets/base",
          "model_module_version": "1.2.0",
          "model_name": "LayoutModel",
          "state": {
            "_model_module": "@jupyter-widgets/base",
            "_model_module_version": "1.2.0",
            "_model_name": "LayoutModel",
            "_view_count": null,
            "_view_module": "@jupyter-widgets/base",
            "_view_module_version": "1.2.0",
            "_view_name": "LayoutView",
            "align_content": null,
            "align_items": null,
            "align_self": null,
            "border": null,
            "bottom": null,
            "display": null,
            "flex": null,
            "flex_flow": null,
            "grid_area": null,
            "grid_auto_columns": null,
            "grid_auto_flow": null,
            "grid_auto_rows": null,
            "grid_column": null,
            "grid_gap": null,
            "grid_row": null,
            "grid_template_areas": null,
            "grid_template_columns": null,
            "grid_template_rows": null,
            "height": null,
            "justify_content": null,
            "justify_items": null,
            "left": null,
            "margin": null,
            "max_height": null,
            "max_width": null,
            "min_height": null,
            "min_width": null,
            "object_fit": null,
            "object_position": null,
            "order": null,
            "overflow": null,
            "overflow_x": null,
            "overflow_y": null,
            "padding": null,
            "right": null,
            "top": null,
            "visibility": null,
            "width": null
          }
        },
        "20706a96163e448abb5ba5d7b4438630": {
          "model_module": "@jupyter-widgets/base",
          "model_module_version": "1.2.0",
          "model_name": "LayoutModel",
          "state": {
            "_model_module": "@jupyter-widgets/base",
            "_model_module_version": "1.2.0",
            "_model_name": "LayoutModel",
            "_view_count": null,
            "_view_module": "@jupyter-widgets/base",
            "_view_module_version": "1.2.0",
            "_view_name": "LayoutView",
            "align_content": null,
            "align_items": null,
            "align_self": null,
            "border": null,
            "bottom": null,
            "display": null,
            "flex": null,
            "flex_flow": null,
            "grid_area": null,
            "grid_auto_columns": null,
            "grid_auto_flow": null,
            "grid_auto_rows": null,
            "grid_column": null,
            "grid_gap": null,
            "grid_row": null,
            "grid_template_areas": null,
            "grid_template_columns": null,
            "grid_template_rows": null,
            "height": null,
            "justify_content": null,
            "justify_items": null,
            "left": null,
            "margin": null,
            "max_height": null,
            "max_width": null,
            "min_height": null,
            "min_width": null,
            "object_fit": null,
            "object_position": null,
            "order": null,
            "overflow": null,
            "overflow_x": null,
            "overflow_y": null,
            "padding": null,
            "right": null,
            "top": null,
            "visibility": null,
            "width": null
          }
        },
        "21ff816ea6924c7ca54fe275c5a98f28": {
          "model_module": "@jupyter-widgets/base",
          "model_module_version": "1.2.0",
          "model_name": "LayoutModel",
          "state": {
            "_model_module": "@jupyter-widgets/base",
            "_model_module_version": "1.2.0",
            "_model_name": "LayoutModel",
            "_view_count": null,
            "_view_module": "@jupyter-widgets/base",
            "_view_module_version": "1.2.0",
            "_view_name": "LayoutView",
            "align_content": null,
            "align_items": null,
            "align_self": null,
            "border": null,
            "bottom": null,
            "display": null,
            "flex": null,
            "flex_flow": null,
            "grid_area": null,
            "grid_auto_columns": null,
            "grid_auto_flow": null,
            "grid_auto_rows": null,
            "grid_column": null,
            "grid_gap": null,
            "grid_row": null,
            "grid_template_areas": null,
            "grid_template_columns": null,
            "grid_template_rows": null,
            "height": null,
            "justify_content": null,
            "justify_items": null,
            "left": null,
            "margin": null,
            "max_height": null,
            "max_width": null,
            "min_height": null,
            "min_width": null,
            "object_fit": null,
            "object_position": null,
            "order": null,
            "overflow": null,
            "overflow_x": null,
            "overflow_y": null,
            "padding": null,
            "right": null,
            "top": null,
            "visibility": null,
            "width": null
          }
        },
        "22e15ed9768b46e1875e6711b89e3082": {
          "model_module": "@jupyter-widgets/base",
          "model_module_version": "1.2.0",
          "model_name": "LayoutModel",
          "state": {
            "_model_module": "@jupyter-widgets/base",
            "_model_module_version": "1.2.0",
            "_model_name": "LayoutModel",
            "_view_count": null,
            "_view_module": "@jupyter-widgets/base",
            "_view_module_version": "1.2.0",
            "_view_name": "LayoutView",
            "align_content": null,
            "align_items": null,
            "align_self": null,
            "border": null,
            "bottom": null,
            "display": null,
            "flex": null,
            "flex_flow": null,
            "grid_area": null,
            "grid_auto_columns": null,
            "grid_auto_flow": null,
            "grid_auto_rows": null,
            "grid_column": null,
            "grid_gap": null,
            "grid_row": null,
            "grid_template_areas": null,
            "grid_template_columns": null,
            "grid_template_rows": null,
            "height": null,
            "justify_content": null,
            "justify_items": null,
            "left": null,
            "margin": null,
            "max_height": null,
            "max_width": null,
            "min_height": null,
            "min_width": null,
            "object_fit": null,
            "object_position": null,
            "order": null,
            "overflow": null,
            "overflow_x": null,
            "overflow_y": null,
            "padding": null,
            "right": null,
            "top": null,
            "visibility": null,
            "width": null
          }
        },
        "2786a795ba30467cae1e098eba96d13e": {
          "model_module": "@jupyter-widgets/base",
          "model_module_version": "1.2.0",
          "model_name": "LayoutModel",
          "state": {
            "_model_module": "@jupyter-widgets/base",
            "_model_module_version": "1.2.0",
            "_model_name": "LayoutModel",
            "_view_count": null,
            "_view_module": "@jupyter-widgets/base",
            "_view_module_version": "1.2.0",
            "_view_name": "LayoutView",
            "align_content": null,
            "align_items": null,
            "align_self": null,
            "border": null,
            "bottom": null,
            "display": null,
            "flex": null,
            "flex_flow": null,
            "grid_area": null,
            "grid_auto_columns": null,
            "grid_auto_flow": null,
            "grid_auto_rows": null,
            "grid_column": null,
            "grid_gap": null,
            "grid_row": null,
            "grid_template_areas": null,
            "grid_template_columns": null,
            "grid_template_rows": null,
            "height": null,
            "justify_content": null,
            "justify_items": null,
            "left": null,
            "margin": null,
            "max_height": null,
            "max_width": null,
            "min_height": null,
            "min_width": null,
            "object_fit": null,
            "object_position": null,
            "order": null,
            "overflow": null,
            "overflow_x": null,
            "overflow_y": null,
            "padding": null,
            "right": null,
            "top": null,
            "visibility": null,
            "width": null
          }
        },
        "28735aaaaabf4a17ba226c7ecdf2d37a": {
          "model_module": "@jupyter-widgets/base",
          "model_module_version": "1.2.0",
          "model_name": "LayoutModel",
          "state": {
            "_model_module": "@jupyter-widgets/base",
            "_model_module_version": "1.2.0",
            "_model_name": "LayoutModel",
            "_view_count": null,
            "_view_module": "@jupyter-widgets/base",
            "_view_module_version": "1.2.0",
            "_view_name": "LayoutView",
            "align_content": null,
            "align_items": null,
            "align_self": null,
            "border": null,
            "bottom": null,
            "display": null,
            "flex": null,
            "flex_flow": null,
            "grid_area": null,
            "grid_auto_columns": null,
            "grid_auto_flow": null,
            "grid_auto_rows": null,
            "grid_column": null,
            "grid_gap": null,
            "grid_row": null,
            "grid_template_areas": null,
            "grid_template_columns": null,
            "grid_template_rows": null,
            "height": null,
            "justify_content": null,
            "justify_items": null,
            "left": null,
            "margin": null,
            "max_height": null,
            "max_width": null,
            "min_height": null,
            "min_width": null,
            "object_fit": null,
            "object_position": null,
            "order": null,
            "overflow": null,
            "overflow_x": null,
            "overflow_y": null,
            "padding": null,
            "right": null,
            "top": null,
            "visibility": null,
            "width": null
          }
        },
        "294cc19274d14d56aaa2e1883ff14e84": {
          "model_module": "@jupyter-widgets/base",
          "model_module_version": "1.2.0",
          "model_name": "LayoutModel",
          "state": {
            "_model_module": "@jupyter-widgets/base",
            "_model_module_version": "1.2.0",
            "_model_name": "LayoutModel",
            "_view_count": null,
            "_view_module": "@jupyter-widgets/base",
            "_view_module_version": "1.2.0",
            "_view_name": "LayoutView",
            "align_content": null,
            "align_items": null,
            "align_self": null,
            "border": null,
            "bottom": null,
            "display": null,
            "flex": null,
            "flex_flow": null,
            "grid_area": null,
            "grid_auto_columns": null,
            "grid_auto_flow": null,
            "grid_auto_rows": null,
            "grid_column": null,
            "grid_gap": null,
            "grid_row": null,
            "grid_template_areas": null,
            "grid_template_columns": null,
            "grid_template_rows": null,
            "height": null,
            "justify_content": null,
            "justify_items": null,
            "left": null,
            "margin": null,
            "max_height": null,
            "max_width": null,
            "min_height": null,
            "min_width": null,
            "object_fit": null,
            "object_position": null,
            "order": null,
            "overflow": null,
            "overflow_x": null,
            "overflow_y": null,
            "padding": null,
            "right": null,
            "top": null,
            "visibility": null,
            "width": null
          }
        },
        "2a3c8e748751441f88e83c8774388e0f": {
          "model_module": "@jupyter-widgets/controls",
          "model_module_version": "1.5.0",
          "model_name": "HTMLModel",
          "state": {
            "_dom_classes": [],
            "_model_module": "@jupyter-widgets/controls",
            "_model_module_version": "1.5.0",
            "_model_name": "HTMLModel",
            "_view_count": null,
            "_view_module": "@jupyter-widgets/controls",
            "_view_module_version": "1.5.0",
            "_view_name": "HTMLView",
            "description": "",
            "description_tooltip": null,
            "layout": "IPY_MODEL_038538d284f74a37a483fc2f89383e3b",
            "placeholder": "​",
            "style": "IPY_MODEL_86416b45431248c3860f7f3ebc3d9969",
            "value": " 92.0/92.0 [00:00&lt;00:00, 1.15kB/s]"
          }
        },
        "2b3d7f3d4c02411cb50b0d01340e30ee": {
          "model_module": "@jupyter-widgets/controls",
          "model_module_version": "1.5.0",
          "model_name": "HBoxModel",
          "state": {
            "_dom_classes": [],
            "_model_module": "@jupyter-widgets/controls",
            "_model_module_version": "1.5.0",
            "_model_name": "HBoxModel",
            "_view_count": null,
            "_view_module": "@jupyter-widgets/controls",
            "_view_module_version": "1.5.0",
            "_view_name": "HBoxView",
            "box_style": "",
            "children": [
              "IPY_MODEL_1ecc4368d9394a8fb5ac8dd20abc2e6a",
              "IPY_MODEL_ed07f257a84c4c92a8bc3af1d1e9d1e1",
              "IPY_MODEL_c6354fe39eaa4c9697aa47fdf9a1f3b3"
            ],
            "layout": "IPY_MODEL_8b8e6353931f4bd1ac794a868f72af69"
          }
        },
        "2d0fe8bbd190490a8e27a309dbe81616": {
          "model_module": "@jupyter-widgets/controls",
          "model_module_version": "1.5.0",
          "model_name": "HTMLModel",
          "state": {
            "_dom_classes": [],
            "_model_module": "@jupyter-widgets/controls",
            "_model_module_version": "1.5.0",
            "_model_name": "HTMLModel",
            "_view_count": null,
            "_view_module": "@jupyter-widgets/controls",
            "_view_module_version": "1.5.0",
            "_view_name": "HTMLView",
            "description": "",
            "description_tooltip": null,
            "layout": "IPY_MODEL_36376a583cb34d1ab65d9b09844014d2",
            "placeholder": "​",
            "style": "IPY_MODEL_4bcf94f8853f473cba631153c5a10add",
            "value": "vocab.json: 100%"
          }
        },
        "2e2ef931a09043378ae51d29f7fa6b36": {
          "model_module": "@jupyter-widgets/base",
          "model_module_version": "1.2.0",
          "model_name": "LayoutModel",
          "state": {
            "_model_module": "@jupyter-widgets/base",
            "_model_module_version": "1.2.0",
            "_model_name": "LayoutModel",
            "_view_count": null,
            "_view_module": "@jupyter-widgets/base",
            "_view_module_version": "1.2.0",
            "_view_name": "LayoutView",
            "align_content": null,
            "align_items": null,
            "align_self": null,
            "border": null,
            "bottom": null,
            "display": null,
            "flex": null,
            "flex_flow": null,
            "grid_area": null,
            "grid_auto_columns": null,
            "grid_auto_flow": null,
            "grid_auto_rows": null,
            "grid_column": null,
            "grid_gap": null,
            "grid_row": null,
            "grid_template_areas": null,
            "grid_template_columns": null,
            "grid_template_rows": null,
            "height": null,
            "justify_content": null,
            "justify_items": null,
            "left": null,
            "margin": null,
            "max_height": null,
            "max_width": null,
            "min_height": null,
            "min_width": null,
            "object_fit": null,
            "object_position": null,
            "order": null,
            "overflow": null,
            "overflow_x": null,
            "overflow_y": null,
            "padding": null,
            "right": null,
            "top": null,
            "visibility": null,
            "width": null
          }
        },
        "2f828516bf7e4cdeaeb5b9168ac7065a": {
          "model_module": "@jupyter-widgets/base",
          "model_module_version": "1.2.0",
          "model_name": "LayoutModel",
          "state": {
            "_model_module": "@jupyter-widgets/base",
            "_model_module_version": "1.2.0",
            "_model_name": "LayoutModel",
            "_view_count": null,
            "_view_module": "@jupyter-widgets/base",
            "_view_module_version": "1.2.0",
            "_view_name": "LayoutView",
            "align_content": null,
            "align_items": null,
            "align_self": null,
            "border": null,
            "bottom": null,
            "display": null,
            "flex": null,
            "flex_flow": null,
            "grid_area": null,
            "grid_auto_columns": null,
            "grid_auto_flow": null,
            "grid_auto_rows": null,
            "grid_column": null,
            "grid_gap": null,
            "grid_row": null,
            "grid_template_areas": null,
            "grid_template_columns": null,
            "grid_template_rows": null,
            "height": null,
            "justify_content": null,
            "justify_items": null,
            "left": null,
            "margin": null,
            "max_height": null,
            "max_width": null,
            "min_height": null,
            "min_width": null,
            "object_fit": null,
            "object_position": null,
            "order": null,
            "overflow": null,
            "overflow_x": null,
            "overflow_y": null,
            "padding": null,
            "right": null,
            "top": null,
            "visibility": null,
            "width": null
          }
        },
        "3008303031094883bdc0634ed4ed9838": {
          "model_module": "@jupyter-widgets/controls",
          "model_module_version": "1.5.0",
          "model_name": "DescriptionStyleModel",
          "state": {
            "_model_module": "@jupyter-widgets/controls",
            "_model_module_version": "1.5.0",
            "_model_name": "DescriptionStyleModel",
            "_view_count": null,
            "_view_module": "@jupyter-widgets/base",
            "_view_module_version": "1.2.0",
            "_view_name": "StyleView",
            "description_width": ""
          }
        },
        "321f8f4370214418b4b9db8048cd56b2": {
          "model_module": "@jupyter-widgets/base",
          "model_module_version": "1.2.0",
          "model_name": "LayoutModel",
          "state": {
            "_model_module": "@jupyter-widgets/base",
            "_model_module_version": "1.2.0",
            "_model_name": "LayoutModel",
            "_view_count": null,
            "_view_module": "@jupyter-widgets/base",
            "_view_module_version": "1.2.0",
            "_view_name": "LayoutView",
            "align_content": null,
            "align_items": null,
            "align_self": null,
            "border": null,
            "bottom": null,
            "display": null,
            "flex": null,
            "flex_flow": null,
            "grid_area": null,
            "grid_auto_columns": null,
            "grid_auto_flow": null,
            "grid_auto_rows": null,
            "grid_column": null,
            "grid_gap": null,
            "grid_row": null,
            "grid_template_areas": null,
            "grid_template_columns": null,
            "grid_template_rows": null,
            "height": null,
            "justify_content": null,
            "justify_items": null,
            "left": null,
            "margin": null,
            "max_height": null,
            "max_width": null,
            "min_height": null,
            "min_width": null,
            "object_fit": null,
            "object_position": null,
            "order": null,
            "overflow": null,
            "overflow_x": null,
            "overflow_y": null,
            "padding": null,
            "right": null,
            "top": null,
            "visibility": null,
            "width": null
          }
        },
        "33257da740c1431fa9e107fbeff1c728": {
          "model_module": "@jupyter-widgets/base",
          "model_module_version": "1.2.0",
          "model_name": "LayoutModel",
          "state": {
            "_model_module": "@jupyter-widgets/base",
            "_model_module_version": "1.2.0",
            "_model_name": "LayoutModel",
            "_view_count": null,
            "_view_module": "@jupyter-widgets/base",
            "_view_module_version": "1.2.0",
            "_view_name": "LayoutView",
            "align_content": null,
            "align_items": null,
            "align_self": null,
            "border": null,
            "bottom": null,
            "display": null,
            "flex": null,
            "flex_flow": null,
            "grid_area": null,
            "grid_auto_columns": null,
            "grid_auto_flow": null,
            "grid_auto_rows": null,
            "grid_column": null,
            "grid_gap": null,
            "grid_row": null,
            "grid_template_areas": null,
            "grid_template_columns": null,
            "grid_template_rows": null,
            "height": null,
            "justify_content": null,
            "justify_items": null,
            "left": null,
            "margin": null,
            "max_height": null,
            "max_width": null,
            "min_height": null,
            "min_width": null,
            "object_fit": null,
            "object_position": null,
            "order": null,
            "overflow": null,
            "overflow_x": null,
            "overflow_y": null,
            "padding": null,
            "right": null,
            "top": null,
            "visibility": null,
            "width": null
          }
        },
        "35dbddb40f9d47a5ac0c4ad8beb93d14": {
          "model_module": "@jupyter-widgets/controls",
          "model_module_version": "1.5.0",
          "model_name": "DescriptionStyleModel",
          "state": {
            "_model_module": "@jupyter-widgets/controls",
            "_model_module_version": "1.5.0",
            "_model_name": "DescriptionStyleModel",
            "_view_count": null,
            "_view_module": "@jupyter-widgets/base",
            "_view_module_version": "1.2.0",
            "_view_name": "StyleView",
            "description_width": ""
          }
        },
        "36376a583cb34d1ab65d9b09844014d2": {
          "model_module": "@jupyter-widgets/base",
          "model_module_version": "1.2.0",
          "model_name": "LayoutModel",
          "state": {
            "_model_module": "@jupyter-widgets/base",
            "_model_module_version": "1.2.0",
            "_model_name": "LayoutModel",
            "_view_count": null,
            "_view_module": "@jupyter-widgets/base",
            "_view_module_version": "1.2.0",
            "_view_name": "LayoutView",
            "align_content": null,
            "align_items": null,
            "align_self": null,
            "border": null,
            "bottom": null,
            "display": null,
            "flex": null,
            "flex_flow": null,
            "grid_area": null,
            "grid_auto_columns": null,
            "grid_auto_flow": null,
            "grid_auto_rows": null,
            "grid_column": null,
            "grid_gap": null,
            "grid_row": null,
            "grid_template_areas": null,
            "grid_template_columns": null,
            "grid_template_rows": null,
            "height": null,
            "justify_content": null,
            "justify_items": null,
            "left": null,
            "margin": null,
            "max_height": null,
            "max_width": null,
            "min_height": null,
            "min_width": null,
            "object_fit": null,
            "object_position": null,
            "order": null,
            "overflow": null,
            "overflow_x": null,
            "overflow_y": null,
            "padding": null,
            "right": null,
            "top": null,
            "visibility": null,
            "width": null
          }
        },
        "3b3c1b6184e04581aaa2eaf7292379c7": {
          "model_module": "@jupyter-widgets/controls",
          "model_module_version": "1.5.0",
          "model_name": "DescriptionStyleModel",
          "state": {
            "_model_module": "@jupyter-widgets/controls",
            "_model_module_version": "1.5.0",
            "_model_name": "DescriptionStyleModel",
            "_view_count": null,
            "_view_module": "@jupyter-widgets/base",
            "_view_module_version": "1.2.0",
            "_view_name": "StyleView",
            "description_width": ""
          }
        },
        "3c28978cd7eb46b7b2809925251ab4ed": {
          "model_module": "@jupyter-widgets/controls",
          "model_module_version": "1.5.0",
          "model_name": "HTMLModel",
          "state": {
            "_dom_classes": [],
            "_model_module": "@jupyter-widgets/controls",
            "_model_module_version": "1.5.0",
            "_model_name": "HTMLModel",
            "_view_count": null,
            "_view_module": "@jupyter-widgets/controls",
            "_view_module_version": "1.5.0",
            "_view_name": "HTMLView",
            "description": "",
            "description_tooltip": null,
            "layout": "IPY_MODEL_33257da740c1431fa9e107fbeff1c728",
            "placeholder": "​",
            "style": "IPY_MODEL_b491cd96f61245898c51e1fe4430219e",
            "value": "special_tokens_map.json: 100%"
          }
        },
        "438d9b1974334298a3faca8b02986371": {
          "model_module": "@jupyter-widgets/controls",
          "model_module_version": "1.5.0",
          "model_name": "ProgressStyleModel",
          "state": {
            "_model_module": "@jupyter-widgets/controls",
            "_model_module_version": "1.5.0",
            "_model_name": "ProgressStyleModel",
            "_view_count": null,
            "_view_module": "@jupyter-widgets/base",
            "_view_module_version": "1.2.0",
            "_view_name": "StyleView",
            "bar_color": null,
            "description_width": ""
          }
        },
        "45c22c357bbd4fb4915a130f6142e8bf": {
          "model_module": "@jupyter-widgets/controls",
          "model_module_version": "1.5.0",
          "model_name": "HBoxModel",
          "state": {
            "_dom_classes": [],
            "_model_module": "@jupyter-widgets/controls",
            "_model_module_version": "1.5.0",
            "_model_name": "HBoxModel",
            "_view_count": null,
            "_view_module": "@jupyter-widgets/controls",
            "_view_module_version": "1.5.0",
            "_view_name": "HBoxView",
            "box_style": "",
            "children": [
              "IPY_MODEL_2d0fe8bbd190490a8e27a309dbe81616",
              "IPY_MODEL_90ac4e1d6a53471db2c0082cd53b3063",
              "IPY_MODEL_b0a44806a2754b5a80b9deaf1ae50301"
            ],
            "layout": "IPY_MODEL_21ff816ea6924c7ca54fe275c5a98f28"
          }
        },
        "464cde4054d646d4994190ce0d2e5178": {
          "model_module": "@jupyter-widgets/base",
          "model_module_version": "1.2.0",
          "model_name": "LayoutModel",
          "state": {
            "_model_module": "@jupyter-widgets/base",
            "_model_module_version": "1.2.0",
            "_model_name": "LayoutModel",
            "_view_count": null,
            "_view_module": "@jupyter-widgets/base",
            "_view_module_version": "1.2.0",
            "_view_name": "LayoutView",
            "align_content": null,
            "align_items": null,
            "align_self": null,
            "border": null,
            "bottom": null,
            "display": null,
            "flex": null,
            "flex_flow": null,
            "grid_area": null,
            "grid_auto_columns": null,
            "grid_auto_flow": null,
            "grid_auto_rows": null,
            "grid_column": null,
            "grid_gap": null,
            "grid_row": null,
            "grid_template_areas": null,
            "grid_template_columns": null,
            "grid_template_rows": null,
            "height": null,
            "justify_content": null,
            "justify_items": null,
            "left": null,
            "margin": null,
            "max_height": null,
            "max_width": null,
            "min_height": null,
            "min_width": null,
            "object_fit": null,
            "object_position": null,
            "order": null,
            "overflow": null,
            "overflow_x": null,
            "overflow_y": null,
            "padding": null,
            "right": null,
            "top": null,
            "visibility": null,
            "width": null
          }
        },
        "4b908a2b9498422b95af889bba7a553c": {
          "model_module": "@jupyter-widgets/base",
          "model_module_version": "1.2.0",
          "model_name": "LayoutModel",
          "state": {
            "_model_module": "@jupyter-widgets/base",
            "_model_module_version": "1.2.0",
            "_model_name": "LayoutModel",
            "_view_count": null,
            "_view_module": "@jupyter-widgets/base",
            "_view_module_version": "1.2.0",
            "_view_name": "LayoutView",
            "align_content": null,
            "align_items": null,
            "align_self": null,
            "border": null,
            "bottom": null,
            "display": null,
            "flex": null,
            "flex_flow": null,
            "grid_area": null,
            "grid_auto_columns": null,
            "grid_auto_flow": null,
            "grid_auto_rows": null,
            "grid_column": null,
            "grid_gap": null,
            "grid_row": null,
            "grid_template_areas": null,
            "grid_template_columns": null,
            "grid_template_rows": null,
            "height": null,
            "justify_content": null,
            "justify_items": null,
            "left": null,
            "margin": null,
            "max_height": null,
            "max_width": null,
            "min_height": null,
            "min_width": null,
            "object_fit": null,
            "object_position": null,
            "order": null,
            "overflow": null,
            "overflow_x": null,
            "overflow_y": null,
            "padding": null,
            "right": null,
            "top": null,
            "visibility": null,
            "width": null
          }
        },
        "4bcf94f8853f473cba631153c5a10add": {
          "model_module": "@jupyter-widgets/controls",
          "model_module_version": "1.5.0",
          "model_name": "DescriptionStyleModel",
          "state": {
            "_model_module": "@jupyter-widgets/controls",
            "_model_module_version": "1.5.0",
            "_model_name": "DescriptionStyleModel",
            "_view_count": null,
            "_view_module": "@jupyter-widgets/base",
            "_view_module_version": "1.2.0",
            "_view_name": "StyleView",
            "description_width": ""
          }
        },
        "4beb4b103a5b4a41914342f0b11e6be7": {
          "model_module": "@jupyter-widgets/controls",
          "model_module_version": "1.5.0",
          "model_name": "DescriptionStyleModel",
          "state": {
            "_model_module": "@jupyter-widgets/controls",
            "_model_module_version": "1.5.0",
            "_model_name": "DescriptionStyleModel",
            "_view_count": null,
            "_view_module": "@jupyter-widgets/base",
            "_view_module_version": "1.2.0",
            "_view_name": "StyleView",
            "description_width": ""
          }
        },
        "4fcf3660c22e418ca71059f8e440baa0": {
          "model_module": "@jupyter-widgets/base",
          "model_module_version": "1.2.0",
          "model_name": "LayoutModel",
          "state": {
            "_model_module": "@jupyter-widgets/base",
            "_model_module_version": "1.2.0",
            "_model_name": "LayoutModel",
            "_view_count": null,
            "_view_module": "@jupyter-widgets/base",
            "_view_module_version": "1.2.0",
            "_view_name": "LayoutView",
            "align_content": null,
            "align_items": null,
            "align_self": null,
            "border": null,
            "bottom": null,
            "display": null,
            "flex": null,
            "flex_flow": null,
            "grid_area": null,
            "grid_auto_columns": null,
            "grid_auto_flow": null,
            "grid_auto_rows": null,
            "grid_column": null,
            "grid_gap": null,
            "grid_row": null,
            "grid_template_areas": null,
            "grid_template_columns": null,
            "grid_template_rows": null,
            "height": null,
            "justify_content": null,
            "justify_items": null,
            "left": null,
            "margin": null,
            "max_height": null,
            "max_width": null,
            "min_height": null,
            "min_width": null,
            "object_fit": null,
            "object_position": null,
            "order": null,
            "overflow": null,
            "overflow_x": null,
            "overflow_y": null,
            "padding": null,
            "right": null,
            "top": null,
            "visibility": null,
            "width": null
          }
        },
        "508757b51aad45149a88ce23fbd172b7": {
          "model_module": "@jupyter-widgets/controls",
          "model_module_version": "1.5.0",
          "model_name": "HBoxModel",
          "state": {
            "_dom_classes": [],
            "_model_module": "@jupyter-widgets/controls",
            "_model_module_version": "1.5.0",
            "_model_name": "HBoxModel",
            "_view_count": null,
            "_view_module": "@jupyter-widgets/controls",
            "_view_module_version": "1.5.0",
            "_view_name": "HBoxView",
            "box_style": "",
            "children": [
              "IPY_MODEL_5c75381fad894652b7cf77329d737e16",
              "IPY_MODEL_cf0096878fcf4bd0803db2b9707b6577",
              "IPY_MODEL_2a3c8e748751441f88e83c8774388e0f"
            ],
            "layout": "IPY_MODEL_28735aaaaabf4a17ba226c7ecdf2d37a"
          }
        },
        "539723ab190f4cdc9f52801dc89e620a": {
          "model_module": "@jupyter-widgets/base",
          "model_module_version": "1.2.0",
          "model_name": "LayoutModel",
          "state": {
            "_model_module": "@jupyter-widgets/base",
            "_model_module_version": "1.2.0",
            "_model_name": "LayoutModel",
            "_view_count": null,
            "_view_module": "@jupyter-widgets/base",
            "_view_module_version": "1.2.0",
            "_view_name": "LayoutView",
            "align_content": null,
            "align_items": null,
            "align_self": null,
            "border": null,
            "bottom": null,
            "display": null,
            "flex": null,
            "flex_flow": null,
            "grid_area": null,
            "grid_auto_columns": null,
            "grid_auto_flow": null,
            "grid_auto_rows": null,
            "grid_column": null,
            "grid_gap": null,
            "grid_row": null,
            "grid_template_areas": null,
            "grid_template_columns": null,
            "grid_template_rows": null,
            "height": null,
            "justify_content": null,
            "justify_items": null,
            "left": null,
            "margin": null,
            "max_height": null,
            "max_width": null,
            "min_height": null,
            "min_width": null,
            "object_fit": null,
            "object_position": null,
            "order": null,
            "overflow": null,
            "overflow_x": null,
            "overflow_y": null,
            "padding": null,
            "right": null,
            "top": null,
            "visibility": null,
            "width": null
          }
        },
        "58232b6e57bc4d66b93033464a6a90ba": {
          "model_module": "@jupyter-widgets/base",
          "model_module_version": "1.2.0",
          "model_name": "LayoutModel",
          "state": {
            "_model_module": "@jupyter-widgets/base",
            "_model_module_version": "1.2.0",
            "_model_name": "LayoutModel",
            "_view_count": null,
            "_view_module": "@jupyter-widgets/base",
            "_view_module_version": "1.2.0",
            "_view_name": "LayoutView",
            "align_content": null,
            "align_items": null,
            "align_self": null,
            "border": null,
            "bottom": null,
            "display": null,
            "flex": null,
            "flex_flow": null,
            "grid_area": null,
            "grid_auto_columns": null,
            "grid_auto_flow": null,
            "grid_auto_rows": null,
            "grid_column": null,
            "grid_gap": null,
            "grid_row": null,
            "grid_template_areas": null,
            "grid_template_columns": null,
            "grid_template_rows": null,
            "height": null,
            "justify_content": null,
            "justify_items": null,
            "left": null,
            "margin": null,
            "max_height": null,
            "max_width": null,
            "min_height": null,
            "min_width": null,
            "object_fit": null,
            "object_position": null,
            "order": null,
            "overflow": null,
            "overflow_x": null,
            "overflow_y": null,
            "padding": null,
            "right": null,
            "top": null,
            "visibility": null,
            "width": null
          }
        },
        "5af1651a05df425da14338be9bc60044": {
          "model_module": "@jupyter-widgets/controls",
          "model_module_version": "1.5.0",
          "model_name": "DescriptionStyleModel",
          "state": {
            "_model_module": "@jupyter-widgets/controls",
            "_model_module_version": "1.5.0",
            "_model_name": "DescriptionStyleModel",
            "_view_count": null,
            "_view_module": "@jupyter-widgets/base",
            "_view_module_version": "1.2.0",
            "_view_name": "StyleView",
            "description_width": ""
          }
        },
        "5c75381fad894652b7cf77329d737e16": {
          "model_module": "@jupyter-widgets/controls",
          "model_module_version": "1.5.0",
          "model_name": "HTMLModel",
          "state": {
            "_dom_classes": [],
            "_model_module": "@jupyter-widgets/controls",
            "_model_module_version": "1.5.0",
            "_model_name": "HTMLModel",
            "_view_count": null,
            "_view_module": "@jupyter-widgets/controls",
            "_view_module_version": "1.5.0",
            "_view_name": "HTMLView",
            "description": "",
            "description_tooltip": null,
            "layout": "IPY_MODEL_539723ab190f4cdc9f52801dc89e620a",
            "placeholder": "​",
            "style": "IPY_MODEL_abaedeeb017c498cb46bb4c67ff34f4e",
            "value": "tokenizer_config.json: 100%"
          }
        },
        "5e3fb8604c7a440ab2cc6999d6da7301": {
          "model_module": "@jupyter-widgets/controls",
          "model_module_version": "1.5.0",
          "model_name": "HTMLModel",
          "state": {
            "_dom_classes": [],
            "_model_module": "@jupyter-widgets/controls",
            "_model_module_version": "1.5.0",
            "_model_name": "HTMLModel",
            "_view_count": null,
            "_view_module": "@jupyter-widgets/controls",
            "_view_module_version": "1.5.0",
            "_view_name": "HTMLView",
            "description": "",
            "description_tooltip": null,
            "layout": "IPY_MODEL_294cc19274d14d56aaa2e1883ff14e84",
            "placeholder": "​",
            "style": "IPY_MODEL_1f28f500ee704cf08c206c6d199c9c0c",
            "value": "vocab.txt: 100%"
          }
        },
        "603f0b85a24344868e96b02df02dbd12": {
          "model_module": "@jupyter-widgets/controls",
          "model_module_version": "1.5.0",
          "model_name": "HTMLModel",
          "state": {
            "_dom_classes": [],
            "_model_module": "@jupyter-widgets/controls",
            "_model_module_version": "1.5.0",
            "_model_name": "HTMLModel",
            "_view_count": null,
            "_view_module": "@jupyter-widgets/controls",
            "_view_module_version": "1.5.0",
            "_view_name": "HTMLView",
            "description": "",
            "description_tooltip": null,
            "layout": "IPY_MODEL_17d2344a220c45eabd2ef2762856bc95",
            "placeholder": "​",
            "style": "IPY_MODEL_06ee4e3c012843d5bed34ab6fdaf2a40",
            "value": "special_tokens_map.json: 100%"
          }
        },
        "6085693745b8490da939aa3180770f96": {
          "model_module": "@jupyter-widgets/controls",
          "model_module_version": "1.5.0",
          "model_name": "ProgressStyleModel",
          "state": {
            "_model_module": "@jupyter-widgets/controls",
            "_model_module_version": "1.5.0",
            "_model_name": "ProgressStyleModel",
            "_view_count": null,
            "_view_module": "@jupyter-widgets/base",
            "_view_module_version": "1.2.0",
            "_view_name": "StyleView",
            "bar_color": null,
            "description_width": ""
          }
        },
        "608914d589a24f239639227f259b68f1": {
          "model_module": "@jupyter-widgets/base",
          "model_module_version": "1.2.0",
          "model_name": "LayoutModel",
          "state": {
            "_model_module": "@jupyter-widgets/base",
            "_model_module_version": "1.2.0",
            "_model_name": "LayoutModel",
            "_view_count": null,
            "_view_module": "@jupyter-widgets/base",
            "_view_module_version": "1.2.0",
            "_view_name": "LayoutView",
            "align_content": null,
            "align_items": null,
            "align_self": null,
            "border": null,
            "bottom": null,
            "display": null,
            "flex": null,
            "flex_flow": null,
            "grid_area": null,
            "grid_auto_columns": null,
            "grid_auto_flow": null,
            "grid_auto_rows": null,
            "grid_column": null,
            "grid_gap": null,
            "grid_row": null,
            "grid_template_areas": null,
            "grid_template_columns": null,
            "grid_template_rows": null,
            "height": null,
            "justify_content": null,
            "justify_items": null,
            "left": null,
            "margin": null,
            "max_height": null,
            "max_width": null,
            "min_height": null,
            "min_width": null,
            "object_fit": null,
            "object_position": null,
            "order": null,
            "overflow": null,
            "overflow_x": null,
            "overflow_y": null,
            "padding": null,
            "right": null,
            "top": null,
            "visibility": null,
            "width": null
          }
        },
        "6ab7c958591048448633dca50491d001": {
          "model_module": "@jupyter-widgets/controls",
          "model_module_version": "1.5.0",
          "model_name": "HTMLModel",
          "state": {
            "_dom_classes": [],
            "_model_module": "@jupyter-widgets/controls",
            "_model_module_version": "1.5.0",
            "_model_name": "HTMLModel",
            "_view_count": null,
            "_view_module": "@jupyter-widgets/controls",
            "_view_module_version": "1.5.0",
            "_view_name": "HTMLView",
            "description": "",
            "description_tooltip": null,
            "layout": "IPY_MODEL_1e68d34306f345a988a06e1ba8f46e95",
            "placeholder": "​",
            "style": "IPY_MODEL_5af1651a05df425da14338be9bc60044",
            "value": " 508k/508k [00:00&lt;00:00, 4.50MB/s]"
          }
        },
        "6c3384f6b68d40069a037e9415a0e6bd": {
          "model_module": "@jupyter-widgets/base",
          "model_module_version": "1.2.0",
          "model_name": "LayoutModel",
          "state": {
            "_model_module": "@jupyter-widgets/base",
            "_model_module_version": "1.2.0",
            "_model_name": "LayoutModel",
            "_view_count": null,
            "_view_module": "@jupyter-widgets/base",
            "_view_module_version": "1.2.0",
            "_view_name": "LayoutView",
            "align_content": null,
            "align_items": null,
            "align_self": null,
            "border": null,
            "bottom": null,
            "display": null,
            "flex": null,
            "flex_flow": null,
            "grid_area": null,
            "grid_auto_columns": null,
            "grid_auto_flow": null,
            "grid_auto_rows": null,
            "grid_column": null,
            "grid_gap": null,
            "grid_row": null,
            "grid_template_areas": null,
            "grid_template_columns": null,
            "grid_template_rows": null,
            "height": null,
            "justify_content": null,
            "justify_items": null,
            "left": null,
            "margin": null,
            "max_height": null,
            "max_width": null,
            "min_height": null,
            "min_width": null,
            "object_fit": null,
            "object_position": null,
            "order": null,
            "overflow": null,
            "overflow_x": null,
            "overflow_y": null,
            "padding": null,
            "right": null,
            "top": null,
            "visibility": null,
            "width": null
          }
        },
        "6d67a5a9d14d46f0b97bdfb17f4ebf9b": {
          "model_module": "@jupyter-widgets/controls",
          "model_module_version": "1.5.0",
          "model_name": "DescriptionStyleModel",
          "state": {
            "_model_module": "@jupyter-widgets/controls",
            "_model_module_version": "1.5.0",
            "_model_name": "DescriptionStyleModel",
            "_view_count": null,
            "_view_module": "@jupyter-widgets/base",
            "_view_module_version": "1.2.0",
            "_view_name": "StyleView",
            "description_width": ""
          }
        },
        "6f5f1f5105944ea9abcceae1989ef4a4": {
          "model_module": "@jupyter-widgets/base",
          "model_module_version": "1.2.0",
          "model_name": "LayoutModel",
          "state": {
            "_model_module": "@jupyter-widgets/base",
            "_model_module_version": "1.2.0",
            "_model_name": "LayoutModel",
            "_view_count": null,
            "_view_module": "@jupyter-widgets/base",
            "_view_module_version": "1.2.0",
            "_view_name": "LayoutView",
            "align_content": null,
            "align_items": null,
            "align_self": null,
            "border": null,
            "bottom": null,
            "display": null,
            "flex": null,
            "flex_flow": null,
            "grid_area": null,
            "grid_auto_columns": null,
            "grid_auto_flow": null,
            "grid_auto_rows": null,
            "grid_column": null,
            "grid_gap": null,
            "grid_row": null,
            "grid_template_areas": null,
            "grid_template_columns": null,
            "grid_template_rows": null,
            "height": null,
            "justify_content": null,
            "justify_items": null,
            "left": null,
            "margin": null,
            "max_height": null,
            "max_width": null,
            "min_height": null,
            "min_width": null,
            "object_fit": null,
            "object_position": null,
            "order": null,
            "overflow": null,
            "overflow_x": null,
            "overflow_y": null,
            "padding": null,
            "right": null,
            "top": null,
            "visibility": null,
            "width": null
          }
        },
        "6f813ff20458490d993cbbc918854559": {
          "model_module": "@jupyter-widgets/controls",
          "model_module_version": "1.5.0",
          "model_name": "ProgressStyleModel",
          "state": {
            "_model_module": "@jupyter-widgets/controls",
            "_model_module_version": "1.5.0",
            "_model_name": "ProgressStyleModel",
            "_view_count": null,
            "_view_module": "@jupyter-widgets/base",
            "_view_module_version": "1.2.0",
            "_view_name": "StyleView",
            "bar_color": null,
            "description_width": ""
          }
        },
        "71ade01521454180b709f6e320f45c28": {
          "model_module": "@jupyter-widgets/controls",
          "model_module_version": "1.5.0",
          "model_name": "DescriptionStyleModel",
          "state": {
            "_model_module": "@jupyter-widgets/controls",
            "_model_module_version": "1.5.0",
            "_model_name": "DescriptionStyleModel",
            "_view_count": null,
            "_view_module": "@jupyter-widgets/base",
            "_view_module_version": "1.2.0",
            "_view_name": "StyleView",
            "description_width": ""
          }
        },
        "79f217e070484dde9e61e19f65ec323a": {
          "model_module": "@jupyter-widgets/base",
          "model_module_version": "1.2.0",
          "model_name": "LayoutModel",
          "state": {
            "_model_module": "@jupyter-widgets/base",
            "_model_module_version": "1.2.0",
            "_model_name": "LayoutModel",
            "_view_count": null,
            "_view_module": "@jupyter-widgets/base",
            "_view_module_version": "1.2.0",
            "_view_name": "LayoutView",
            "align_content": null,
            "align_items": null,
            "align_self": null,
            "border": null,
            "bottom": null,
            "display": null,
            "flex": null,
            "flex_flow": null,
            "grid_area": null,
            "grid_auto_columns": null,
            "grid_auto_flow": null,
            "grid_auto_rows": null,
            "grid_column": null,
            "grid_gap": null,
            "grid_row": null,
            "grid_template_areas": null,
            "grid_template_columns": null,
            "grid_template_rows": null,
            "height": null,
            "justify_content": null,
            "justify_items": null,
            "left": null,
            "margin": null,
            "max_height": null,
            "max_width": null,
            "min_height": null,
            "min_width": null,
            "object_fit": null,
            "object_position": null,
            "order": null,
            "overflow": null,
            "overflow_x": null,
            "overflow_y": null,
            "padding": null,
            "right": null,
            "top": null,
            "visibility": null,
            "width": null
          }
        },
        "7b516854c6974a24ac1cba0ee2261d68": {
          "model_module": "@jupyter-widgets/controls",
          "model_module_version": "1.5.0",
          "model_name": "ProgressStyleModel",
          "state": {
            "_model_module": "@jupyter-widgets/controls",
            "_model_module_version": "1.5.0",
            "_model_name": "ProgressStyleModel",
            "_view_count": null,
            "_view_module": "@jupyter-widgets/base",
            "_view_module_version": "1.2.0",
            "_view_name": "StyleView",
            "bar_color": null,
            "description_width": ""
          }
        },
        "7c1990ebab2f42a4b9b78a4b05972145": {
          "model_module": "@jupyter-widgets/controls",
          "model_module_version": "1.5.0",
          "model_name": "FloatProgressModel",
          "state": {
            "_dom_classes": [],
            "_model_module": "@jupyter-widgets/controls",
            "_model_module_version": "1.5.0",
            "_model_name": "FloatProgressModel",
            "_view_count": null,
            "_view_module": "@jupyter-widgets/controls",
            "_view_module_version": "1.5.0",
            "_view_name": "ProgressView",
            "bar_style": "success",
            "description": "",
            "description_tooltip": null,
            "layout": "IPY_MODEL_ecf1c21c55ca4a589c9ffb5666cddabe",
            "max": 863,
            "min": 0,
            "orientation": "horizontal",
            "style": "IPY_MODEL_995fb1bdf25644338657fe89c9e4dfc2",
            "value": 863
          }
        },
        "7cea8f5aaf2e41c5948e6b910f9e3fb6": {
          "model_module": "@jupyter-widgets/controls",
          "model_module_version": "1.5.0",
          "model_name": "HTMLModel",
          "state": {
            "_dom_classes": [],
            "_model_module": "@jupyter-widgets/controls",
            "_model_module_version": "1.5.0",
            "_model_name": "HTMLModel",
            "_view_count": null,
            "_view_module": "@jupyter-widgets/controls",
            "_view_module_version": "1.5.0",
            "_view_name": "HTMLView",
            "description": "",
            "description_tooltip": null,
            "layout": "IPY_MODEL_464cde4054d646d4994190ce0d2e5178",
            "placeholder": "​",
            "style": "IPY_MODEL_3008303031094883bdc0634ed4ed9838",
            "value": "pytorch_model.bin: 100%"
          }
        },
        "7fd16c3531654d709cb8f7fb6370476c": {
          "model_module": "@jupyter-widgets/controls",
          "model_module_version": "1.5.0",
          "model_name": "HTMLModel",
          "state": {
            "_dom_classes": [],
            "_model_module": "@jupyter-widgets/controls",
            "_model_module_version": "1.5.0",
            "_model_name": "HTMLModel",
            "_view_count": null,
            "_view_module": "@jupyter-widgets/controls",
            "_view_module_version": "1.5.0",
            "_view_name": "HTMLView",
            "description": "",
            "description_tooltip": null,
            "layout": "IPY_MODEL_58232b6e57bc4d66b93033464a6a90ba",
            "placeholder": "​",
            "style": "IPY_MODEL_e6b13a46af9c4d97b59e108ab5669c03",
            "value": " 863/863 [00:00&lt;00:00, 5.41kB/s]"
          }
        },
        "806d3bbd5dcf4ace932972f139f985cd": {
          "model_module": "@jupyter-widgets/controls",
          "model_module_version": "1.5.0",
          "model_name": "FloatProgressModel",
          "state": {
            "_dom_classes": [],
            "_model_module": "@jupyter-widgets/controls",
            "_model_module_version": "1.5.0",
            "_model_name": "FloatProgressModel",
            "_view_count": null,
            "_view_module": "@jupyter-widgets/controls",
            "_view_module_version": "1.5.0",
            "_view_name": "ProgressView",
            "bar_style": "success",
            "description": "",
            "description_tooltip": null,
            "layout": "IPY_MODEL_fc1f75fe856f485d8d242a108c3e653a",
            "max": 666,
            "min": 0,
            "orientation": "horizontal",
            "style": "IPY_MODEL_438d9b1974334298a3faca8b02986371",
            "value": 666
          }
        },
        "8168da40f79e415c99d3523ab65ee453": {
          "model_module": "@jupyter-widgets/controls",
          "model_module_version": "1.5.0",
          "model_name": "HTMLModel",
          "state": {
            "_dom_classes": [],
            "_model_module": "@jupyter-widgets/controls",
            "_model_module_version": "1.5.0",
            "_model_name": "HTMLModel",
            "_view_count": null,
            "_view_module": "@jupyter-widgets/controls",
            "_view_module_version": "1.5.0",
            "_view_name": "HTMLView",
            "description": "",
            "description_tooltip": null,
            "layout": "IPY_MODEL_abd2fda162ff4d73ade9c6cd87dbcbae",
            "placeholder": "​",
            "style": "IPY_MODEL_35dbddb40f9d47a5ac0c4ad8beb93d14",
            "value": "config.json: 100%"
          }
        },
        "84f8d0b412ce410aa5f1413658414322": {
          "model_module": "@jupyter-widgets/controls",
          "model_module_version": "1.5.0",
          "model_name": "DescriptionStyleModel",
          "state": {
            "_model_module": "@jupyter-widgets/controls",
            "_model_module_version": "1.5.0",
            "_model_name": "DescriptionStyleModel",
            "_view_count": null,
            "_view_module": "@jupyter-widgets/base",
            "_view_module_version": "1.2.0",
            "_view_name": "StyleView",
            "description_width": ""
          }
        },
        "86416b45431248c3860f7f3ebc3d9969": {
          "model_module": "@jupyter-widgets/controls",
          "model_module_version": "1.5.0",
          "model_name": "DescriptionStyleModel",
          "state": {
            "_model_module": "@jupyter-widgets/controls",
            "_model_module_version": "1.5.0",
            "_model_name": "DescriptionStyleModel",
            "_view_count": null,
            "_view_module": "@jupyter-widgets/base",
            "_view_module_version": "1.2.0",
            "_view_name": "StyleView",
            "description_width": ""
          }
        },
        "873bcf0d9daa4616986f963eb4a08b55": {
          "model_module": "@jupyter-widgets/controls",
          "model_module_version": "1.5.0",
          "model_name": "DescriptionStyleModel",
          "state": {
            "_model_module": "@jupyter-widgets/controls",
            "_model_module_version": "1.5.0",
            "_model_name": "DescriptionStyleModel",
            "_view_count": null,
            "_view_module": "@jupyter-widgets/base",
            "_view_module_version": "1.2.0",
            "_view_name": "StyleView",
            "description_width": ""
          }
        },
        "892bff3db23d4db782a734a19eb0f098": {
          "model_module": "@jupyter-widgets/controls",
          "model_module_version": "1.5.0",
          "model_name": "HTMLModel",
          "state": {
            "_dom_classes": [],
            "_model_module": "@jupyter-widgets/controls",
            "_model_module_version": "1.5.0",
            "_model_name": "HTMLModel",
            "_view_count": null,
            "_view_module": "@jupyter-widgets/controls",
            "_view_module_version": "1.5.0",
            "_view_name": "HTMLView",
            "description": "",
            "description_tooltip": null,
            "layout": "IPY_MODEL_c8de7443853a431a8d28f6adb2a91c28",
            "placeholder": "​",
            "style": "IPY_MODEL_3b3c1b6184e04581aaa2eaf7292379c7",
            "value": " 436M/436M [00:11&lt;00:00, 35.1MB/s]"
          }
        },
        "8acd2364facf4a38803a09c439647165": {
          "model_module": "@jupyter-widgets/base",
          "model_module_version": "1.2.0",
          "model_name": "LayoutModel",
          "state": {
            "_model_module": "@jupyter-widgets/base",
            "_model_module_version": "1.2.0",
            "_model_name": "LayoutModel",
            "_view_count": null,
            "_view_module": "@jupyter-widgets/base",
            "_view_module_version": "1.2.0",
            "_view_name": "LayoutView",
            "align_content": null,
            "align_items": null,
            "align_self": null,
            "border": null,
            "bottom": null,
            "display": null,
            "flex": null,
            "flex_flow": null,
            "grid_area": null,
            "grid_auto_columns": null,
            "grid_auto_flow": null,
            "grid_auto_rows": null,
            "grid_column": null,
            "grid_gap": null,
            "grid_row": null,
            "grid_template_areas": null,
            "grid_template_columns": null,
            "grid_template_rows": null,
            "height": null,
            "justify_content": null,
            "justify_items": null,
            "left": null,
            "margin": null,
            "max_height": null,
            "max_width": null,
            "min_height": null,
            "min_width": null,
            "object_fit": null,
            "object_position": null,
            "order": null,
            "overflow": null,
            "overflow_x": null,
            "overflow_y": null,
            "padding": null,
            "right": null,
            "top": null,
            "visibility": null,
            "width": null
          }
        },
        "8b8e6353931f4bd1ac794a868f72af69": {
          "model_module": "@jupyter-widgets/base",
          "model_module_version": "1.2.0",
          "model_name": "LayoutModel",
          "state": {
            "_model_module": "@jupyter-widgets/base",
            "_model_module_version": "1.2.0",
            "_model_name": "LayoutModel",
            "_view_count": null,
            "_view_module": "@jupyter-widgets/base",
            "_view_module_version": "1.2.0",
            "_view_name": "LayoutView",
            "align_content": null,
            "align_items": null,
            "align_self": null,
            "border": null,
            "bottom": null,
            "display": null,
            "flex": null,
            "flex_flow": null,
            "grid_area": null,
            "grid_auto_columns": null,
            "grid_auto_flow": null,
            "grid_auto_rows": null,
            "grid_column": null,
            "grid_gap": null,
            "grid_row": null,
            "grid_template_areas": null,
            "grid_template_columns": null,
            "grid_template_rows": null,
            "height": null,
            "justify_content": null,
            "justify_items": null,
            "left": null,
            "margin": null,
            "max_height": null,
            "max_width": null,
            "min_height": null,
            "min_width": null,
            "object_fit": null,
            "object_position": null,
            "order": null,
            "overflow": null,
            "overflow_x": null,
            "overflow_y": null,
            "padding": null,
            "right": null,
            "top": null,
            "visibility": null,
            "width": null
          }
        },
        "8c84c397fd7144079966b507cfb61196": {
          "model_module": "@jupyter-widgets/base",
          "model_module_version": "1.2.0",
          "model_name": "LayoutModel",
          "state": {
            "_model_module": "@jupyter-widgets/base",
            "_model_module_version": "1.2.0",
            "_model_name": "LayoutModel",
            "_view_count": null,
            "_view_module": "@jupyter-widgets/base",
            "_view_module_version": "1.2.0",
            "_view_name": "LayoutView",
            "align_content": null,
            "align_items": null,
            "align_self": null,
            "border": null,
            "bottom": null,
            "display": null,
            "flex": null,
            "flex_flow": null,
            "grid_area": null,
            "grid_auto_columns": null,
            "grid_auto_flow": null,
            "grid_auto_rows": null,
            "grid_column": null,
            "grid_gap": null,
            "grid_row": null,
            "grid_template_areas": null,
            "grid_template_columns": null,
            "grid_template_rows": null,
            "height": null,
            "justify_content": null,
            "justify_items": null,
            "left": null,
            "margin": null,
            "max_height": null,
            "max_width": null,
            "min_height": null,
            "min_width": null,
            "object_fit": null,
            "object_position": null,
            "order": null,
            "overflow": null,
            "overflow_x": null,
            "overflow_y": null,
            "padding": null,
            "right": null,
            "top": null,
            "visibility": null,
            "width": null
          }
        },
        "8f611282afbb43e098ef24d1b26a17d5": {
          "model_module": "@jupyter-widgets/base",
          "model_module_version": "1.2.0",
          "model_name": "LayoutModel",
          "state": {
            "_model_module": "@jupyter-widgets/base",
            "_model_module_version": "1.2.0",
            "_model_name": "LayoutModel",
            "_view_count": null,
            "_view_module": "@jupyter-widgets/base",
            "_view_module_version": "1.2.0",
            "_view_name": "LayoutView",
            "align_content": null,
            "align_items": null,
            "align_self": null,
            "border": null,
            "bottom": null,
            "display": null,
            "flex": null,
            "flex_flow": null,
            "grid_area": null,
            "grid_auto_columns": null,
            "grid_auto_flow": null,
            "grid_auto_rows": null,
            "grid_column": null,
            "grid_gap": null,
            "grid_row": null,
            "grid_template_areas": null,
            "grid_template_columns": null,
            "grid_template_rows": null,
            "height": null,
            "justify_content": null,
            "justify_items": null,
            "left": null,
            "margin": null,
            "max_height": null,
            "max_width": null,
            "min_height": null,
            "min_width": null,
            "object_fit": null,
            "object_position": null,
            "order": null,
            "overflow": null,
            "overflow_x": null,
            "overflow_y": null,
            "padding": null,
            "right": null,
            "top": null,
            "visibility": null,
            "width": null
          }
        },
        "90ac4e1d6a53471db2c0082cd53b3063": {
          "model_module": "@jupyter-widgets/controls",
          "model_module_version": "1.5.0",
          "model_name": "FloatProgressModel",
          "state": {
            "_dom_classes": [],
            "_model_module": "@jupyter-widgets/controls",
            "_model_module_version": "1.5.0",
            "_model_name": "FloatProgressModel",
            "_view_count": null,
            "_view_module": "@jupyter-widgets/controls",
            "_view_module_version": "1.5.0",
            "_view_name": "ProgressView",
            "bar_style": "success",
            "description": "",
            "description_tooltip": null,
            "layout": "IPY_MODEL_20706a96163e448abb5ba5d7b4438630",
            "max": 849961,
            "min": 0,
            "orientation": "horizontal",
            "style": "IPY_MODEL_bcb3e0d816e34919beb9e97f681212c3",
            "value": 849961
          }
        },
        "97c8969cda0447ab94f67e608e9f671e": {
          "model_module": "@jupyter-widgets/controls",
          "model_module_version": "1.5.0",
          "model_name": "ProgressStyleModel",
          "state": {
            "_model_module": "@jupyter-widgets/controls",
            "_model_module_version": "1.5.0",
            "_model_name": "ProgressStyleModel",
            "_view_count": null,
            "_view_module": "@jupyter-widgets/base",
            "_view_module_version": "1.2.0",
            "_view_name": "StyleView",
            "bar_color": null,
            "description_width": ""
          }
        },
        "995fb1bdf25644338657fe89c9e4dfc2": {
          "model_module": "@jupyter-widgets/controls",
          "model_module_version": "1.5.0",
          "model_name": "ProgressStyleModel",
          "state": {
            "_model_module": "@jupyter-widgets/controls",
            "_model_module_version": "1.5.0",
            "_model_name": "ProgressStyleModel",
            "_view_count": null,
            "_view_module": "@jupyter-widgets/base",
            "_view_module_version": "1.2.0",
            "_view_name": "StyleView",
            "bar_color": null,
            "description_width": ""
          }
        },
        "9c5045fe40834c64856cf8526c05ee05": {
          "model_module": "@jupyter-widgets/controls",
          "model_module_version": "1.5.0",
          "model_name": "HBoxModel",
          "state": {
            "_dom_classes": [],
            "_model_module": "@jupyter-widgets/controls",
            "_model_module_version": "1.5.0",
            "_model_name": "HBoxModel",
            "_view_count": null,
            "_view_module": "@jupyter-widgets/controls",
            "_view_module_version": "1.5.0",
            "_view_name": "HBoxView",
            "box_style": "",
            "children": [
              "IPY_MODEL_8168da40f79e415c99d3523ab65ee453",
              "IPY_MODEL_7c1990ebab2f42a4b9b78a4b05972145",
              "IPY_MODEL_7fd16c3531654d709cb8f7fb6370476c"
            ],
            "layout": "IPY_MODEL_1f59a78f5b714a86b5c877dd212ebfca"
          }
        },
        "a18e7b04076e461f8d206ff8434ae2ce": {
          "model_module": "@jupyter-widgets/controls",
          "model_module_version": "1.5.0",
          "model_name": "ProgressStyleModel",
          "state": {
            "_model_module": "@jupyter-widgets/controls",
            "_model_module_version": "1.5.0",
            "_model_name": "ProgressStyleModel",
            "_view_count": null,
            "_view_module": "@jupyter-widgets/base",
            "_view_module_version": "1.2.0",
            "_view_name": "StyleView",
            "bar_color": null,
            "description_width": ""
          }
        },
        "a1c9ed66535648aa98de33b22513693d": {
          "model_module": "@jupyter-widgets/base",
          "model_module_version": "1.2.0",
          "model_name": "LayoutModel",
          "state": {
            "_model_module": "@jupyter-widgets/base",
            "_model_module_version": "1.2.0",
            "_model_name": "LayoutModel",
            "_view_count": null,
            "_view_module": "@jupyter-widgets/base",
            "_view_module_version": "1.2.0",
            "_view_name": "LayoutView",
            "align_content": null,
            "align_items": null,
            "align_self": null,
            "border": null,
            "bottom": null,
            "display": null,
            "flex": null,
            "flex_flow": null,
            "grid_area": null,
            "grid_auto_columns": null,
            "grid_auto_flow": null,
            "grid_auto_rows": null,
            "grid_column": null,
            "grid_gap": null,
            "grid_row": null,
            "grid_template_areas": null,
            "grid_template_columns": null,
            "grid_template_rows": null,
            "height": null,
            "justify_content": null,
            "justify_items": null,
            "left": null,
            "margin": null,
            "max_height": null,
            "max_width": null,
            "min_height": null,
            "min_width": null,
            "object_fit": null,
            "object_position": null,
            "order": null,
            "overflow": null,
            "overflow_x": null,
            "overflow_y": null,
            "padding": null,
            "right": null,
            "top": null,
            "visibility": null,
            "width": null
          }
        },
        "a90254f4ca9a4c5890156e216dec06f7": {
          "model_module": "@jupyter-widgets/controls",
          "model_module_version": "1.5.0",
          "model_name": "DescriptionStyleModel",
          "state": {
            "_model_module": "@jupyter-widgets/controls",
            "_model_module_version": "1.5.0",
            "_model_name": "DescriptionStyleModel",
            "_view_count": null,
            "_view_module": "@jupyter-widgets/base",
            "_view_module_version": "1.2.0",
            "_view_name": "StyleView",
            "description_width": ""
          }
        },
        "abaedeeb017c498cb46bb4c67ff34f4e": {
          "model_module": "@jupyter-widgets/controls",
          "model_module_version": "1.5.0",
          "model_name": "DescriptionStyleModel",
          "state": {
            "_model_module": "@jupyter-widgets/controls",
            "_model_module_version": "1.5.0",
            "_model_name": "DescriptionStyleModel",
            "_view_count": null,
            "_view_module": "@jupyter-widgets/base",
            "_view_module_version": "1.2.0",
            "_view_name": "StyleView",
            "description_width": ""
          }
        },
        "abd2fda162ff4d73ade9c6cd87dbcbae": {
          "model_module": "@jupyter-widgets/base",
          "model_module_version": "1.2.0",
          "model_name": "LayoutModel",
          "state": {
            "_model_module": "@jupyter-widgets/base",
            "_model_module_version": "1.2.0",
            "_model_name": "LayoutModel",
            "_view_count": null,
            "_view_module": "@jupyter-widgets/base",
            "_view_module_version": "1.2.0",
            "_view_name": "LayoutView",
            "align_content": null,
            "align_items": null,
            "align_self": null,
            "border": null,
            "bottom": null,
            "display": null,
            "flex": null,
            "flex_flow": null,
            "grid_area": null,
            "grid_auto_columns": null,
            "grid_auto_flow": null,
            "grid_auto_rows": null,
            "grid_column": null,
            "grid_gap": null,
            "grid_row": null,
            "grid_template_areas": null,
            "grid_template_columns": null,
            "grid_template_rows": null,
            "height": null,
            "justify_content": null,
            "justify_items": null,
            "left": null,
            "margin": null,
            "max_height": null,
            "max_width": null,
            "min_height": null,
            "min_width": null,
            "object_fit": null,
            "object_position": null,
            "order": null,
            "overflow": null,
            "overflow_x": null,
            "overflow_y": null,
            "padding": null,
            "right": null,
            "top": null,
            "visibility": null,
            "width": null
          }
        },
        "ac32cabb31ab410bb0c2b7840347ebdc": {
          "model_module": "@jupyter-widgets/controls",
          "model_module_version": "1.5.0",
          "model_name": "HTMLModel",
          "state": {
            "_dom_classes": [],
            "_model_module": "@jupyter-widgets/controls",
            "_model_module_version": "1.5.0",
            "_model_name": "HTMLModel",
            "_view_count": null,
            "_view_module": "@jupyter-widgets/controls",
            "_view_module_version": "1.5.0",
            "_view_name": "HTMLView",
            "description": "",
            "description_tooltip": null,
            "layout": "IPY_MODEL_8c84c397fd7144079966b507cfb61196",
            "placeholder": "​",
            "style": "IPY_MODEL_16ff3ea75c0449818f062db6c25dc4af",
            "value": " 567/567 [00:00&lt;00:00, 6.02kB/s]"
          }
        },
        "adc43c57488547238b17f96c51d94efa": {
          "model_module": "@jupyter-widgets/controls",
          "model_module_version": "1.5.0",
          "model_name": "DescriptionStyleModel",
          "state": {
            "_model_module": "@jupyter-widgets/controls",
            "_model_module_version": "1.5.0",
            "_model_name": "DescriptionStyleModel",
            "_view_count": null,
            "_view_module": "@jupyter-widgets/base",
            "_view_module_version": "1.2.0",
            "_view_name": "StyleView",
            "description_width": ""
          }
        },
        "b0a44806a2754b5a80b9deaf1ae50301": {
          "model_module": "@jupyter-widgets/controls",
          "model_module_version": "1.5.0",
          "model_name": "HTMLModel",
          "state": {
            "_dom_classes": [],
            "_model_module": "@jupyter-widgets/controls",
            "_model_module_version": "1.5.0",
            "_model_name": "HTMLModel",
            "_view_count": null,
            "_view_module": "@jupyter-widgets/controls",
            "_view_module_version": "1.5.0",
            "_view_name": "HTMLView",
            "description": "",
            "description_tooltip": null,
            "layout": "IPY_MODEL_608914d589a24f239639227f259b68f1",
            "placeholder": "​",
            "style": "IPY_MODEL_adc43c57488547238b17f96c51d94efa",
            "value": " 850k/850k [00:00&lt;00:00, 6.91MB/s]"
          }
        },
        "b30111161cfc4f9293ed9be7fc7f602e": {
          "model_module": "@jupyter-widgets/controls",
          "model_module_version": "1.5.0",
          "model_name": "HBoxModel",
          "state": {
            "_dom_classes": [],
            "_model_module": "@jupyter-widgets/controls",
            "_model_module_version": "1.5.0",
            "_model_name": "HBoxModel",
            "_view_count": null,
            "_view_module": "@jupyter-widgets/controls",
            "_view_module_version": "1.5.0",
            "_view_name": "HBoxView",
            "box_style": "",
            "children": [
              "IPY_MODEL_3c28978cd7eb46b7b2809925251ab4ed",
              "IPY_MODEL_05945af5a3d245eebc9474759f36cf84",
              "IPY_MODEL_d82a81a0bcc144cb9d908956711bb4e4"
            ],
            "layout": "IPY_MODEL_e8c0c4ced02f4d6184ffe4c1f56ea80e"
          }
        },
        "b491cd96f61245898c51e1fe4430219e": {
          "model_module": "@jupyter-widgets/controls",
          "model_module_version": "1.5.0",
          "model_name": "DescriptionStyleModel",
          "state": {
            "_model_module": "@jupyter-widgets/controls",
            "_model_module_version": "1.5.0",
            "_model_name": "DescriptionStyleModel",
            "_view_count": null,
            "_view_module": "@jupyter-widgets/base",
            "_view_module_version": "1.2.0",
            "_view_name": "StyleView",
            "description_width": ""
          }
        },
        "b67efc5629654c12b3f70b40b90efa34": {
          "model_module": "@jupyter-widgets/controls",
          "model_module_version": "1.5.0",
          "model_name": "ProgressStyleModel",
          "state": {
            "_model_module": "@jupyter-widgets/controls",
            "_model_module_version": "1.5.0",
            "_model_name": "ProgressStyleModel",
            "_view_count": null,
            "_view_module": "@jupyter-widgets/base",
            "_view_module_version": "1.2.0",
            "_view_name": "StyleView",
            "bar_color": null,
            "description_width": ""
          }
        },
        "b7752a995dcf4b61be71a0a2cd35669c": {
          "model_module": "@jupyter-widgets/base",
          "model_module_version": "1.2.0",
          "model_name": "LayoutModel",
          "state": {
            "_model_module": "@jupyter-widgets/base",
            "_model_module_version": "1.2.0",
            "_model_name": "LayoutModel",
            "_view_count": null,
            "_view_module": "@jupyter-widgets/base",
            "_view_module_version": "1.2.0",
            "_view_name": "LayoutView",
            "align_content": null,
            "align_items": null,
            "align_self": null,
            "border": null,
            "bottom": null,
            "display": null,
            "flex": null,
            "flex_flow": null,
            "grid_area": null,
            "grid_auto_columns": null,
            "grid_auto_flow": null,
            "grid_auto_rows": null,
            "grid_column": null,
            "grid_gap": null,
            "grid_row": null,
            "grid_template_areas": null,
            "grid_template_columns": null,
            "grid_template_rows": null,
            "height": null,
            "justify_content": null,
            "justify_items": null,
            "left": null,
            "margin": null,
            "max_height": null,
            "max_width": null,
            "min_height": null,
            "min_width": null,
            "object_fit": null,
            "object_position": null,
            "order": null,
            "overflow": null,
            "overflow_x": null,
            "overflow_y": null,
            "padding": null,
            "right": null,
            "top": null,
            "visibility": null,
            "width": null
          }
        },
        "b924f373ef5a452c9bb5ad7ea5d51c9b": {
          "model_module": "@jupyter-widgets/base",
          "model_module_version": "1.2.0",
          "model_name": "LayoutModel",
          "state": {
            "_model_module": "@jupyter-widgets/base",
            "_model_module_version": "1.2.0",
            "_model_name": "LayoutModel",
            "_view_count": null,
            "_view_module": "@jupyter-widgets/base",
            "_view_module_version": "1.2.0",
            "_view_name": "LayoutView",
            "align_content": null,
            "align_items": null,
            "align_self": null,
            "border": null,
            "bottom": null,
            "display": null,
            "flex": null,
            "flex_flow": null,
            "grid_area": null,
            "grid_auto_columns": null,
            "grid_auto_flow": null,
            "grid_auto_rows": null,
            "grid_column": null,
            "grid_gap": null,
            "grid_row": null,
            "grid_template_areas": null,
            "grid_template_columns": null,
            "grid_template_rows": null,
            "height": null,
            "justify_content": null,
            "justify_items": null,
            "left": null,
            "margin": null,
            "max_height": null,
            "max_width": null,
            "min_height": null,
            "min_width": null,
            "object_fit": null,
            "object_position": null,
            "order": null,
            "overflow": null,
            "overflow_x": null,
            "overflow_y": null,
            "padding": null,
            "right": null,
            "top": null,
            "visibility": null,
            "width": null
          }
        },
        "bcb3e0d816e34919beb9e97f681212c3": {
          "model_module": "@jupyter-widgets/controls",
          "model_module_version": "1.5.0",
          "model_name": "ProgressStyleModel",
          "state": {
            "_model_module": "@jupyter-widgets/controls",
            "_model_module_version": "1.5.0",
            "_model_name": "ProgressStyleModel",
            "_view_count": null,
            "_view_module": "@jupyter-widgets/base",
            "_view_module_version": "1.2.0",
            "_view_name": "StyleView",
            "bar_color": null,
            "description_width": ""
          }
        },
        "c11f87d7cf8b4132b085497c7829376f": {
          "model_module": "@jupyter-widgets/controls",
          "model_module_version": "1.5.0",
          "model_name": "HTMLModel",
          "state": {
            "_dom_classes": [],
            "_model_module": "@jupyter-widgets/controls",
            "_model_module_version": "1.5.0",
            "_model_name": "HTMLModel",
            "_view_count": null,
            "_view_module": "@jupyter-widgets/controls",
            "_view_module_version": "1.5.0",
            "_view_name": "HTMLView",
            "description": "",
            "description_tooltip": null,
            "layout": "IPY_MODEL_79f217e070484dde9e61e19f65ec323a",
            "placeholder": "​",
            "style": "IPY_MODEL_71ade01521454180b709f6e320f45c28",
            "value": "merges.txt: 100%"
          }
        },
        "c1ba0e4a96854e3e9a3e1af6b378b2e4": {
          "model_module": "@jupyter-widgets/base",
          "model_module_version": "1.2.0",
          "model_name": "LayoutModel",
          "state": {
            "_model_module": "@jupyter-widgets/base",
            "_model_module_version": "1.2.0",
            "_model_name": "LayoutModel",
            "_view_count": null,
            "_view_module": "@jupyter-widgets/base",
            "_view_module_version": "1.2.0",
            "_view_name": "LayoutView",
            "align_content": null,
            "align_items": null,
            "align_self": null,
            "border": null,
            "bottom": null,
            "display": null,
            "flex": null,
            "flex_flow": null,
            "grid_area": null,
            "grid_auto_columns": null,
            "grid_auto_flow": null,
            "grid_auto_rows": null,
            "grid_column": null,
            "grid_gap": null,
            "grid_row": null,
            "grid_template_areas": null,
            "grid_template_columns": null,
            "grid_template_rows": null,
            "height": null,
            "justify_content": null,
            "justify_items": null,
            "left": null,
            "margin": null,
            "max_height": null,
            "max_width": null,
            "min_height": null,
            "min_width": null,
            "object_fit": null,
            "object_position": null,
            "order": null,
            "overflow": null,
            "overflow_x": null,
            "overflow_y": null,
            "padding": null,
            "right": null,
            "top": null,
            "visibility": null,
            "width": null
          }
        },
        "c5f51fe59e374d65b43ee3900348c1c0": {
          "model_module": "@jupyter-widgets/base",
          "model_module_version": "1.2.0",
          "model_name": "LayoutModel",
          "state": {
            "_model_module": "@jupyter-widgets/base",
            "_model_module_version": "1.2.0",
            "_model_name": "LayoutModel",
            "_view_count": null,
            "_view_module": "@jupyter-widgets/base",
            "_view_module_version": "1.2.0",
            "_view_name": "LayoutView",
            "align_content": null,
            "align_items": null,
            "align_self": null,
            "border": null,
            "bottom": null,
            "display": null,
            "flex": null,
            "flex_flow": null,
            "grid_area": null,
            "grid_auto_columns": null,
            "grid_auto_flow": null,
            "grid_auto_rows": null,
            "grid_column": null,
            "grid_gap": null,
            "grid_row": null,
            "grid_template_areas": null,
            "grid_template_columns": null,
            "grid_template_rows": null,
            "height": null,
            "justify_content": null,
            "justify_items": null,
            "left": null,
            "margin": null,
            "max_height": null,
            "max_width": null,
            "min_height": null,
            "min_width": null,
            "object_fit": null,
            "object_position": null,
            "order": null,
            "overflow": null,
            "overflow_x": null,
            "overflow_y": null,
            "padding": null,
            "right": null,
            "top": null,
            "visibility": null,
            "width": null
          }
        },
        "c6354fe39eaa4c9697aa47fdf9a1f3b3": {
          "model_module": "@jupyter-widgets/controls",
          "model_module_version": "1.5.0",
          "model_name": "HTMLModel",
          "state": {
            "_dom_classes": [],
            "_model_module": "@jupyter-widgets/controls",
            "_model_module_version": "1.5.0",
            "_model_name": "HTMLModel",
            "_view_count": null,
            "_view_module": "@jupyter-widgets/controls",
            "_view_module_version": "1.5.0",
            "_view_name": "HTMLView",
            "description": "",
            "description_tooltip": null,
            "layout": "IPY_MODEL_a1c9ed66535648aa98de33b22513693d",
            "placeholder": "​",
            "style": "IPY_MODEL_a90254f4ca9a4c5890156e216dec06f7",
            "value": " 510M/510M [00:31&lt;00:00, 19.6MB/s]"
          }
        },
        "c6afd162d4a041dd898b0d19c432fc16": {
          "model_module": "@jupyter-widgets/base",
          "model_module_version": "1.2.0",
          "model_name": "LayoutModel",
          "state": {
            "_model_module": "@jupyter-widgets/base",
            "_model_module_version": "1.2.0",
            "_model_name": "LayoutModel",
            "_view_count": null,
            "_view_module": "@jupyter-widgets/base",
            "_view_module_version": "1.2.0",
            "_view_name": "LayoutView",
            "align_content": null,
            "align_items": null,
            "align_self": null,
            "border": null,
            "bottom": null,
            "display": null,
            "flex": null,
            "flex_flow": null,
            "grid_area": null,
            "grid_auto_columns": null,
            "grid_auto_flow": null,
            "grid_auto_rows": null,
            "grid_column": null,
            "grid_gap": null,
            "grid_row": null,
            "grid_template_areas": null,
            "grid_template_columns": null,
            "grid_template_rows": null,
            "height": null,
            "justify_content": null,
            "justify_items": null,
            "left": null,
            "margin": null,
            "max_height": null,
            "max_width": null,
            "min_height": null,
            "min_width": null,
            "object_fit": null,
            "object_position": null,
            "order": null,
            "overflow": null,
            "overflow_x": null,
            "overflow_y": null,
            "padding": null,
            "right": null,
            "top": null,
            "visibility": null,
            "width": null
          }
        },
        "c8a2cd7435874738ae3ed61088b95282": {
          "model_module": "@jupyter-widgets/controls",
          "model_module_version": "1.5.0",
          "model_name": "HTMLModel",
          "state": {
            "_dom_classes": [],
            "_model_module": "@jupyter-widgets/controls",
            "_model_module_version": "1.5.0",
            "_model_name": "HTMLModel",
            "_view_count": null,
            "_view_module": "@jupyter-widgets/controls",
            "_view_module_version": "1.5.0",
            "_view_name": "HTMLView",
            "description": "",
            "description_tooltip": null,
            "layout": "IPY_MODEL_8f611282afbb43e098ef24d1b26a17d5",
            "placeholder": "​",
            "style": "IPY_MODEL_6d67a5a9d14d46f0b97bdfb17f4ebf9b",
            "value": " 210k/210k [00:00&lt;00:00, 1.86MB/s]"
          }
        },
        "c8de7443853a431a8d28f6adb2a91c28": {
          "model_module": "@jupyter-widgets/base",
          "model_module_version": "1.2.0",
          "model_name": "LayoutModel",
          "state": {
            "_model_module": "@jupyter-widgets/base",
            "_model_module_version": "1.2.0",
            "_model_name": "LayoutModel",
            "_view_count": null,
            "_view_module": "@jupyter-widgets/base",
            "_view_module_version": "1.2.0",
            "_view_name": "LayoutView",
            "align_content": null,
            "align_items": null,
            "align_self": null,
            "border": null,
            "bottom": null,
            "display": null,
            "flex": null,
            "flex_flow": null,
            "grid_area": null,
            "grid_auto_columns": null,
            "grid_auto_flow": null,
            "grid_auto_rows": null,
            "grid_column": null,
            "grid_gap": null,
            "grid_row": null,
            "grid_template_areas": null,
            "grid_template_columns": null,
            "grid_template_rows": null,
            "height": null,
            "justify_content": null,
            "justify_items": null,
            "left": null,
            "margin": null,
            "max_height": null,
            "max_width": null,
            "min_height": null,
            "min_width": null,
            "object_fit": null,
            "object_position": null,
            "order": null,
            "overflow": null,
            "overflow_x": null,
            "overflow_y": null,
            "padding": null,
            "right": null,
            "top": null,
            "visibility": null,
            "width": null
          }
        },
        "c9fcf01831c54fe4bba70e94f3a267d2": {
          "model_module": "@jupyter-widgets/controls",
          "model_module_version": "1.5.0",
          "model_name": "FloatProgressModel",
          "state": {
            "_dom_classes": [],
            "_model_module": "@jupyter-widgets/controls",
            "_model_module_version": "1.5.0",
            "_model_name": "FloatProgressModel",
            "_view_count": null,
            "_view_module": "@jupyter-widgets/controls",
            "_view_module_version": "1.5.0",
            "_view_name": "ProgressView",
            "bar_style": "success",
            "description": "",
            "description_tooltip": null,
            "layout": "IPY_MODEL_4b908a2b9498422b95af889bba7a553c",
            "max": 435889515,
            "min": 0,
            "orientation": "horizontal",
            "style": "IPY_MODEL_d13eac2aaf3e4100bedb5579406894c0",
            "value": 435889515
          }
        },
        "cacf10d8e33344e3ba4ced13b82d0aed": {
          "model_module": "@jupyter-widgets/controls",
          "model_module_version": "1.5.0",
          "model_name": "DescriptionStyleModel",
          "state": {
            "_model_module": "@jupyter-widgets/controls",
            "_model_module_version": "1.5.0",
            "_model_name": "DescriptionStyleModel",
            "_view_count": null,
            "_view_module": "@jupyter-widgets/base",
            "_view_module_version": "1.2.0",
            "_view_name": "StyleView",
            "description_width": ""
          }
        },
        "cf0096878fcf4bd0803db2b9707b6577": {
          "model_module": "@jupyter-widgets/controls",
          "model_module_version": "1.5.0",
          "model_name": "FloatProgressModel",
          "state": {
            "_dom_classes": [],
            "_model_module": "@jupyter-widgets/controls",
            "_model_module_version": "1.5.0",
            "_model_name": "FloatProgressModel",
            "_view_count": null,
            "_view_module": "@jupyter-widgets/controls",
            "_view_module_version": "1.5.0",
            "_view_name": "ProgressView",
            "bar_style": "success",
            "description": "",
            "description_tooltip": null,
            "layout": "IPY_MODEL_8acd2364facf4a38803a09c439647165",
            "max": 92,
            "min": 0,
            "orientation": "horizontal",
            "style": "IPY_MODEL_b67efc5629654c12b3f70b40b90efa34",
            "value": 92
          }
        },
        "d13eac2aaf3e4100bedb5579406894c0": {
          "model_module": "@jupyter-widgets/controls",
          "model_module_version": "1.5.0",
          "model_name": "ProgressStyleModel",
          "state": {
            "_model_module": "@jupyter-widgets/controls",
            "_model_module_version": "1.5.0",
            "_model_name": "ProgressStyleModel",
            "_view_count": null,
            "_view_module": "@jupyter-widgets/base",
            "_view_module_version": "1.2.0",
            "_view_name": "StyleView",
            "bar_color": null,
            "description_width": ""
          }
        },
        "d41f72e041484fcf90acf6156834150a": {
          "model_module": "@jupyter-widgets/base",
          "model_module_version": "1.2.0",
          "model_name": "LayoutModel",
          "state": {
            "_model_module": "@jupyter-widgets/base",
            "_model_module_version": "1.2.0",
            "_model_name": "LayoutModel",
            "_view_count": null,
            "_view_module": "@jupyter-widgets/base",
            "_view_module_version": "1.2.0",
            "_view_name": "LayoutView",
            "align_content": null,
            "align_items": null,
            "align_self": null,
            "border": null,
            "bottom": null,
            "display": null,
            "flex": null,
            "flex_flow": null,
            "grid_area": null,
            "grid_auto_columns": null,
            "grid_auto_flow": null,
            "grid_auto_rows": null,
            "grid_column": null,
            "grid_gap": null,
            "grid_row": null,
            "grid_template_areas": null,
            "grid_template_columns": null,
            "grid_template_rows": null,
            "height": null,
            "justify_content": null,
            "justify_items": null,
            "left": null,
            "margin": null,
            "max_height": null,
            "max_width": null,
            "min_height": null,
            "min_width": null,
            "object_fit": null,
            "object_position": null,
            "order": null,
            "overflow": null,
            "overflow_x": null,
            "overflow_y": null,
            "padding": null,
            "right": null,
            "top": null,
            "visibility": null,
            "width": null
          }
        },
        "d6297e4451944e07af1a380b399551dc": {
          "model_module": "@jupyter-widgets/controls",
          "model_module_version": "1.5.0",
          "model_name": "HBoxModel",
          "state": {
            "_dom_classes": [],
            "_model_module": "@jupyter-widgets/controls",
            "_model_module_version": "1.5.0",
            "_model_name": "HBoxModel",
            "_view_count": null,
            "_view_module": "@jupyter-widgets/controls",
            "_view_module_version": "1.5.0",
            "_view_name": "HBoxView",
            "box_style": "",
            "children": [
              "IPY_MODEL_03d1ac1eb029428b91c1b22a3b15c5d1",
              "IPY_MODEL_806d3bbd5dcf4ace932972f139f985cd",
              "IPY_MODEL_fafa5753809c4d05b423bc1462d1ebdd"
            ],
            "layout": "IPY_MODEL_f5f712a18fd646d2ba1411f0cbac8fa1"
          }
        },
        "d82a81a0bcc144cb9d908956711bb4e4": {
          "model_module": "@jupyter-widgets/controls",
          "model_module_version": "1.5.0",
          "model_name": "HTMLModel",
          "state": {
            "_dom_classes": [],
            "_model_module": "@jupyter-widgets/controls",
            "_model_module_version": "1.5.0",
            "_model_name": "HTMLModel",
            "_view_count": null,
            "_view_module": "@jupyter-widgets/controls",
            "_view_module_version": "1.5.0",
            "_view_name": "HTMLView",
            "description": "",
            "description_tooltip": null,
            "layout": "IPY_MODEL_b7752a995dcf4b61be71a0a2cd35669c",
            "placeholder": "​",
            "style": "IPY_MODEL_873bcf0d9daa4616986f963eb4a08b55",
            "value": " 120/120 [00:00&lt;00:00, 1.54kB/s]"
          }
        },
        "d8f047c8cf29492485949f319d608d28": {
          "model_module": "@jupyter-widgets/controls",
          "model_module_version": "1.5.0",
          "model_name": "FloatProgressModel",
          "state": {
            "_dom_classes": [],
            "_model_module": "@jupyter-widgets/controls",
            "_model_module_version": "1.5.0",
            "_model_name": "FloatProgressModel",
            "_view_count": null,
            "_view_module": "@jupyter-widgets/controls",
            "_view_module_version": "1.5.0",
            "_view_name": "ProgressView",
            "bar_style": "success",
            "description": "",
            "description_tooltip": null,
            "layout": "IPY_MODEL_2f828516bf7e4cdeaeb5b9168ac7065a",
            "max": 508261,
            "min": 0,
            "orientation": "horizontal",
            "style": "IPY_MODEL_a18e7b04076e461f8d206ff8434ae2ce",
            "value": 508261
          }
        },
        "de5dca2bdda84221a20e45d201e11332": {
          "model_module": "@jupyter-widgets/controls",
          "model_module_version": "1.5.0",
          "model_name": "FloatProgressModel",
          "state": {
            "_dom_classes": [],
            "_model_module": "@jupyter-widgets/controls",
            "_model_module_version": "1.5.0",
            "_model_name": "FloatProgressModel",
            "_view_count": null,
            "_view_module": "@jupyter-widgets/controls",
            "_view_module_version": "1.5.0",
            "_view_name": "ProgressView",
            "bar_style": "success",
            "description": "",
            "description_tooltip": null,
            "layout": "IPY_MODEL_eac6eb00920b44b1abd36e31c8c9c96c",
            "max": 209528,
            "min": 0,
            "orientation": "horizontal",
            "style": "IPY_MODEL_6f813ff20458490d993cbbc918854559",
            "value": 209528
          }
        },
        "e5f759be30ad4b0d9565bf3ca6b6bfbf": {
          "model_module": "@jupyter-widgets/controls",
          "model_module_version": "1.5.0",
          "model_name": "FloatProgressModel",
          "state": {
            "_dom_classes": [],
            "_model_module": "@jupyter-widgets/controls",
            "_model_module_version": "1.5.0",
            "_model_name": "FloatProgressModel",
            "_view_count": null,
            "_view_module": "@jupyter-widgets/controls",
            "_view_module_version": "1.5.0",
            "_view_name": "ProgressView",
            "bar_style": "success",
            "description": "",
            "description_tooltip": null,
            "layout": "IPY_MODEL_4fcf3660c22e418ca71059f8e440baa0",
            "max": 567,
            "min": 0,
            "orientation": "horizontal",
            "style": "IPY_MODEL_6085693745b8490da939aa3180770f96",
            "value": 567
          }
        },
        "e6b13a46af9c4d97b59e108ab5669c03": {
          "model_module": "@jupyter-widgets/controls",
          "model_module_version": "1.5.0",
          "model_name": "DescriptionStyleModel",
          "state": {
            "_model_module": "@jupyter-widgets/controls",
            "_model_module_version": "1.5.0",
            "_model_name": "DescriptionStyleModel",
            "_view_count": null,
            "_view_module": "@jupyter-widgets/base",
            "_view_module_version": "1.2.0",
            "_view_name": "StyleView",
            "description_width": ""
          }
        },
        "e7d03a4de8ef49d78298df4fc1630060": {
          "model_module": "@jupyter-widgets/controls",
          "model_module_version": "1.5.0",
          "model_name": "HBoxModel",
          "state": {
            "_dom_classes": [],
            "_model_module": "@jupyter-widgets/controls",
            "_model_module_version": "1.5.0",
            "_model_name": "HBoxModel",
            "_view_count": null,
            "_view_module": "@jupyter-widgets/controls",
            "_view_module_version": "1.5.0",
            "_view_name": "HBoxView",
            "box_style": "",
            "children": [
              "IPY_MODEL_603f0b85a24344868e96b02df02dbd12",
              "IPY_MODEL_01dc2669382a4258861cc0ab6195f53b",
              "IPY_MODEL_f16f7b2562a046ad95c785492add64b6"
            ],
            "layout": "IPY_MODEL_b924f373ef5a452c9bb5ad7ea5d51c9b"
          }
        },
        "e8c0c4ced02f4d6184ffe4c1f56ea80e": {
          "model_module": "@jupyter-widgets/base",
          "model_module_version": "1.2.0",
          "model_name": "LayoutModel",
          "state": {
            "_model_module": "@jupyter-widgets/base",
            "_model_module_version": "1.2.0",
            "_model_name": "LayoutModel",
            "_view_count": null,
            "_view_module": "@jupyter-widgets/base",
            "_view_module_version": "1.2.0",
            "_view_name": "LayoutView",
            "align_content": null,
            "align_items": null,
            "align_self": null,
            "border": null,
            "bottom": null,
            "display": null,
            "flex": null,
            "flex_flow": null,
            "grid_area": null,
            "grid_auto_columns": null,
            "grid_auto_flow": null,
            "grid_auto_rows": null,
            "grid_column": null,
            "grid_gap": null,
            "grid_row": null,
            "grid_template_areas": null,
            "grid_template_columns": null,
            "grid_template_rows": null,
            "height": null,
            "justify_content": null,
            "justify_items": null,
            "left": null,
            "margin": null,
            "max_height": null,
            "max_width": null,
            "min_height": null,
            "min_width": null,
            "object_fit": null,
            "object_position": null,
            "order": null,
            "overflow": null,
            "overflow_x": null,
            "overflow_y": null,
            "padding": null,
            "right": null,
            "top": null,
            "visibility": null,
            "width": null
          }
        },
        "eac6eb00920b44b1abd36e31c8c9c96c": {
          "model_module": "@jupyter-widgets/base",
          "model_module_version": "1.2.0",
          "model_name": "LayoutModel",
          "state": {
            "_model_module": "@jupyter-widgets/base",
            "_model_module_version": "1.2.0",
            "_model_name": "LayoutModel",
            "_view_count": null,
            "_view_module": "@jupyter-widgets/base",
            "_view_module_version": "1.2.0",
            "_view_name": "LayoutView",
            "align_content": null,
            "align_items": null,
            "align_self": null,
            "border": null,
            "bottom": null,
            "display": null,
            "flex": null,
            "flex_flow": null,
            "grid_area": null,
            "grid_auto_columns": null,
            "grid_auto_flow": null,
            "grid_auto_rows": null,
            "grid_column": null,
            "grid_gap": null,
            "grid_row": null,
            "grid_template_areas": null,
            "grid_template_columns": null,
            "grid_template_rows": null,
            "height": null,
            "justify_content": null,
            "justify_items": null,
            "left": null,
            "margin": null,
            "max_height": null,
            "max_width": null,
            "min_height": null,
            "min_width": null,
            "object_fit": null,
            "object_position": null,
            "order": null,
            "overflow": null,
            "overflow_x": null,
            "overflow_y": null,
            "padding": null,
            "right": null,
            "top": null,
            "visibility": null,
            "width": null
          }
        },
        "ecf1c21c55ca4a589c9ffb5666cddabe": {
          "model_module": "@jupyter-widgets/base",
          "model_module_version": "1.2.0",
          "model_name": "LayoutModel",
          "state": {
            "_model_module": "@jupyter-widgets/base",
            "_model_module_version": "1.2.0",
            "_model_name": "LayoutModel",
            "_view_count": null,
            "_view_module": "@jupyter-widgets/base",
            "_view_module_version": "1.2.0",
            "_view_name": "LayoutView",
            "align_content": null,
            "align_items": null,
            "align_self": null,
            "border": null,
            "bottom": null,
            "display": null,
            "flex": null,
            "flex_flow": null,
            "grid_area": null,
            "grid_auto_columns": null,
            "grid_auto_flow": null,
            "grid_auto_rows": null,
            "grid_column": null,
            "grid_gap": null,
            "grid_row": null,
            "grid_template_areas": null,
            "grid_template_columns": null,
            "grid_template_rows": null,
            "height": null,
            "justify_content": null,
            "justify_items": null,
            "left": null,
            "margin": null,
            "max_height": null,
            "max_width": null,
            "min_height": null,
            "min_width": null,
            "object_fit": null,
            "object_position": null,
            "order": null,
            "overflow": null,
            "overflow_x": null,
            "overflow_y": null,
            "padding": null,
            "right": null,
            "top": null,
            "visibility": null,
            "width": null
          }
        },
        "ed07f257a84c4c92a8bc3af1d1e9d1e1": {
          "model_module": "@jupyter-widgets/controls",
          "model_module_version": "1.5.0",
          "model_name": "FloatProgressModel",
          "state": {
            "_dom_classes": [],
            "_model_module": "@jupyter-widgets/controls",
            "_model_module_version": "1.5.0",
            "_model_name": "FloatProgressModel",
            "_view_count": null,
            "_view_module": "@jupyter-widgets/controls",
            "_view_module_version": "1.5.0",
            "_view_name": "ProgressView",
            "bar_style": "success",
            "description": "",
            "description_tooltip": null,
            "layout": "IPY_MODEL_6f5f1f5105944ea9abcceae1989ef4a4",
            "max": 510378682,
            "min": 0,
            "orientation": "horizontal",
            "style": "IPY_MODEL_ffe077cf91f24e2587bf1d3088a44bad",
            "value": 510378682
          }
        },
        "ef7496ef33a742de8c9f4a0d0b5064a0": {
          "model_module": "@jupyter-widgets/controls",
          "model_module_version": "1.5.0",
          "model_name": "DescriptionStyleModel",
          "state": {
            "_model_module": "@jupyter-widgets/controls",
            "_model_module_version": "1.5.0",
            "_model_name": "DescriptionStyleModel",
            "_view_count": null,
            "_view_module": "@jupyter-widgets/base",
            "_view_module_version": "1.2.0",
            "_view_name": "StyleView",
            "description_width": ""
          }
        },
        "f0d43e65a4d84b49a50036c1dc07a436": {
          "model_module": "@jupyter-widgets/controls",
          "model_module_version": "1.5.0",
          "model_name": "HBoxModel",
          "state": {
            "_dom_classes": [],
            "_model_module": "@jupyter-widgets/controls",
            "_model_module_version": "1.5.0",
            "_model_name": "HBoxModel",
            "_view_count": null,
            "_view_module": "@jupyter-widgets/controls",
            "_view_module_version": "1.5.0",
            "_view_name": "HBoxView",
            "box_style": "",
            "children": [
              "IPY_MODEL_c11f87d7cf8b4132b085497c7829376f",
              "IPY_MODEL_d8f047c8cf29492485949f319d608d28",
              "IPY_MODEL_6ab7c958591048448633dca50491d001"
            ],
            "layout": "IPY_MODEL_f259eb1a7ad44ca7805c6b3b1eadcf4b"
          }
        },
        "f16f7b2562a046ad95c785492add64b6": {
          "model_module": "@jupyter-widgets/controls",
          "model_module_version": "1.5.0",
          "model_name": "HTMLModel",
          "state": {
            "_dom_classes": [],
            "_model_module": "@jupyter-widgets/controls",
            "_model_module_version": "1.5.0",
            "_model_name": "HTMLModel",
            "_view_count": null,
            "_view_module": "@jupyter-widgets/controls",
            "_view_module_version": "1.5.0",
            "_view_name": "HTMLView",
            "description": "",
            "description_tooltip": null,
            "layout": "IPY_MODEL_6c3384f6b68d40069a037e9415a0e6bd",
            "placeholder": "​",
            "style": "IPY_MODEL_ef7496ef33a742de8c9f4a0d0b5064a0",
            "value": " 125/125 [00:00&lt;00:00, 1.36kB/s]"
          }
        },
        "f259eb1a7ad44ca7805c6b3b1eadcf4b": {
          "model_module": "@jupyter-widgets/base",
          "model_module_version": "1.2.0",
          "model_name": "LayoutModel",
          "state": {
            "_model_module": "@jupyter-widgets/base",
            "_model_module_version": "1.2.0",
            "_model_name": "LayoutModel",
            "_view_count": null,
            "_view_module": "@jupyter-widgets/base",
            "_view_module_version": "1.2.0",
            "_view_name": "LayoutView",
            "align_content": null,
            "align_items": null,
            "align_self": null,
            "border": null,
            "bottom": null,
            "display": null,
            "flex": null,
            "flex_flow": null,
            "grid_area": null,
            "grid_auto_columns": null,
            "grid_auto_flow": null,
            "grid_auto_rows": null,
            "grid_column": null,
            "grid_gap": null,
            "grid_row": null,
            "grid_template_areas": null,
            "grid_template_columns": null,
            "grid_template_rows": null,
            "height": null,
            "justify_content": null,
            "justify_items": null,
            "left": null,
            "margin": null,
            "max_height": null,
            "max_width": null,
            "min_height": null,
            "min_width": null,
            "object_fit": null,
            "object_position": null,
            "order": null,
            "overflow": null,
            "overflow_x": null,
            "overflow_y": null,
            "padding": null,
            "right": null,
            "top": null,
            "visibility": null,
            "width": null
          }
        },
        "f306edaa2f36433a838dad261830c0b8": {
          "model_module": "@jupyter-widgets/controls",
          "model_module_version": "1.5.0",
          "model_name": "HBoxModel",
          "state": {
            "_dom_classes": [],
            "_model_module": "@jupyter-widgets/controls",
            "_model_module_version": "1.5.0",
            "_model_name": "HBoxModel",
            "_view_count": null,
            "_view_module": "@jupyter-widgets/controls",
            "_view_module_version": "1.5.0",
            "_view_name": "HBoxView",
            "box_style": "",
            "children": [
              "IPY_MODEL_fdfb1d779897479fabea29c54ab76d45",
              "IPY_MODEL_e5f759be30ad4b0d9565bf3ca6b6bfbf",
              "IPY_MODEL_ac32cabb31ab410bb0c2b7840347ebdc"
            ],
            "layout": "IPY_MODEL_c1ba0e4a96854e3e9a3e1af6b378b2e4"
          }
        },
        "f5f712a18fd646d2ba1411f0cbac8fa1": {
          "model_module": "@jupyter-widgets/base",
          "model_module_version": "1.2.0",
          "model_name": "LayoutModel",
          "state": {
            "_model_module": "@jupyter-widgets/base",
            "_model_module_version": "1.2.0",
            "_model_name": "LayoutModel",
            "_view_count": null,
            "_view_module": "@jupyter-widgets/base",
            "_view_module_version": "1.2.0",
            "_view_name": "LayoutView",
            "align_content": null,
            "align_items": null,
            "align_self": null,
            "border": null,
            "bottom": null,
            "display": null,
            "flex": null,
            "flex_flow": null,
            "grid_area": null,
            "grid_auto_columns": null,
            "grid_auto_flow": null,
            "grid_auto_rows": null,
            "grid_column": null,
            "grid_gap": null,
            "grid_row": null,
            "grid_template_areas": null,
            "grid_template_columns": null,
            "grid_template_rows": null,
            "height": null,
            "justify_content": null,
            "justify_items": null,
            "left": null,
            "margin": null,
            "max_height": null,
            "max_width": null,
            "min_height": null,
            "min_width": null,
            "object_fit": null,
            "object_position": null,
            "order": null,
            "overflow": null,
            "overflow_x": null,
            "overflow_y": null,
            "padding": null,
            "right": null,
            "top": null,
            "visibility": null,
            "width": null
          }
        },
        "f6c21273e22943828af385bd82f7e3d8": {
          "model_module": "@jupyter-widgets/controls",
          "model_module_version": "1.5.0",
          "model_name": "DescriptionStyleModel",
          "state": {
            "_model_module": "@jupyter-widgets/controls",
            "_model_module_version": "1.5.0",
            "_model_name": "DescriptionStyleModel",
            "_view_count": null,
            "_view_module": "@jupyter-widgets/base",
            "_view_module_version": "1.2.0",
            "_view_name": "StyleView",
            "description_width": ""
          }
        },
        "fafa5753809c4d05b423bc1462d1ebdd": {
          "model_module": "@jupyter-widgets/controls",
          "model_module_version": "1.5.0",
          "model_name": "HTMLModel",
          "state": {
            "_dom_classes": [],
            "_model_module": "@jupyter-widgets/controls",
            "_model_module_version": "1.5.0",
            "_model_name": "HTMLModel",
            "_view_count": null,
            "_view_module": "@jupyter-widgets/controls",
            "_view_module_version": "1.5.0",
            "_view_name": "HTMLView",
            "description": "",
            "description_tooltip": null,
            "layout": "IPY_MODEL_22e15ed9768b46e1875e6711b89e3082",
            "placeholder": "​",
            "style": "IPY_MODEL_f6c21273e22943828af385bd82f7e3d8",
            "value": " 666/666 [00:00&lt;00:00, 3.04kB/s]"
          }
        },
        "fc1f75fe856f485d8d242a108c3e653a": {
          "model_module": "@jupyter-widgets/base",
          "model_module_version": "1.2.0",
          "model_name": "LayoutModel",
          "state": {
            "_model_module": "@jupyter-widgets/base",
            "_model_module_version": "1.2.0",
            "_model_name": "LayoutModel",
            "_view_count": null,
            "_view_module": "@jupyter-widgets/base",
            "_view_module_version": "1.2.0",
            "_view_name": "LayoutView",
            "align_content": null,
            "align_items": null,
            "align_self": null,
            "border": null,
            "bottom": null,
            "display": null,
            "flex": null,
            "flex_flow": null,
            "grid_area": null,
            "grid_auto_columns": null,
            "grid_auto_flow": null,
            "grid_auto_rows": null,
            "grid_column": null,
            "grid_gap": null,
            "grid_row": null,
            "grid_template_areas": null,
            "grid_template_columns": null,
            "grid_template_rows": null,
            "height": null,
            "justify_content": null,
            "justify_items": null,
            "left": null,
            "margin": null,
            "max_height": null,
            "max_width": null,
            "min_height": null,
            "min_width": null,
            "object_fit": null,
            "object_position": null,
            "order": null,
            "overflow": null,
            "overflow_x": null,
            "overflow_y": null,
            "padding": null,
            "right": null,
            "top": null,
            "visibility": null,
            "width": null
          }
        },
        "fdfb1d779897479fabea29c54ab76d45": {
          "model_module": "@jupyter-widgets/controls",
          "model_module_version": "1.5.0",
          "model_name": "HTMLModel",
          "state": {
            "_dom_classes": [],
            "_model_module": "@jupyter-widgets/controls",
            "_model_module_version": "1.5.0",
            "_model_name": "HTMLModel",
            "_view_count": null,
            "_view_module": "@jupyter-widgets/controls",
            "_view_module_version": "1.5.0",
            "_view_name": "HTMLView",
            "description": "",
            "description_tooltip": null,
            "layout": "IPY_MODEL_2e2ef931a09043378ae51d29f7fa6b36",
            "placeholder": "​",
            "style": "IPY_MODEL_4beb4b103a5b4a41914342f0b11e6be7",
            "value": "tokenizer_config.json: 100%"
          }
        },
        "ffe077cf91f24e2587bf1d3088a44bad": {
          "model_module": "@jupyter-widgets/controls",
          "model_module_version": "1.5.0",
          "model_name": "ProgressStyleModel",
          "state": {
            "_model_module": "@jupyter-widgets/controls",
            "_model_module_version": "1.5.0",
            "_model_name": "ProgressStyleModel",
            "_view_count": null,
            "_view_module": "@jupyter-widgets/base",
            "_view_module_version": "1.2.0",
            "_view_name": "StyleView",
            "bar_color": null,
            "description_width": ""
          }
        }
      }
    }
  },
  "nbformat": 4,
  "nbformat_minor": 0
}
