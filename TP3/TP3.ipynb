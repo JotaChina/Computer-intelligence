{
  "nbformat": 4,
  "nbformat_minor": 0,
  "metadata": {
    "colab": {
      "provenance": [],
      "collapsed_sections": [
        "GnjXHwpnZQ2c",
        "8cRF4pbPZkwU",
        "2fyt8U7fZ2Vk",
        "BgzC6A_CZ-20",
        "Y_JfdQG9aU-7"
      ]
    },
    "kernelspec": {
      "name": "python3",
      "display_name": "Python 3"
    },
    "language_info": {
      "name": "python"
    }
  },
  "cells": [
    {
      "cell_type": "markdown",
      "source": [
        "# Discussão sucinta"
      ],
      "metadata": {
        "id": "GnjXHwpnZQ2c"
      }
    },
    {
      "cell_type": "markdown",
      "source": [
        "## Formalização do Problema\n"
      ],
      "metadata": {
        "id": "kKMG8wxrZUsr"
      }
    },
    {
      "cell_type": "markdown",
      "source": [
        "Nesta etapa será implementado o script com a utilização de algoritmos de machine/deep learning para geração de novas letras de RAP a partir de letras do Racionais. Será uma etapa importante para o resultado final, pois a rede será treinada com as letras do Racionais para tentativa de gerar novas letras. Serão utilizados ..... e o desempenho deles pode ser observado mais abaixo, neste mesmo estudo, onde veremos que ...... teve um melhor desempenho para a geração."
      ],
      "metadata": {
        "id": "s2nU-00FbYC9"
      }
    },
    {
      "cell_type": "markdown",
      "source": [
        "## Análise Exploratória dos Dados efetuada, detalhando as principais transformações executadas\n"
      ],
      "metadata": {
        "id": "_A7PPYfjZa0M"
      }
    },
    {
      "cell_type": "markdown",
      "source": [
        "Neste tópico, pode-se observar que foram necessárias algumas transformações para que o resultado do treinamento e execução do algoritmo sejam satisfatórios.\n",
        "Uma das principais transformações foi a tokenização do texto para que pudesse ser utilizado no treinamento da rede utilizando BERTimbau, foi utilizado um tokenizador BERT.\n",
        "Outra transformação essencial foi a ....."
      ],
      "metadata": {
        "id": "BovsS0gjb7nd"
      }
    },
    {
      "cell_type": "markdown",
      "source": [
        "## Detalhamento do(s) Algoritmo(s) (explicação básica do método)"
      ],
      "metadata": {
        "id": "vC0ZpAC5ZgI0"
      }
    },
    {
      "cell_type": "markdown",
      "source": [
        "A ideia do algoritmo é gerar novas letras de RAP a partir da base de dados treinada.\n",
        "Para garantir que o vies seja o universo RAP, foi necessário importar a base de dados contendo todas as músicas do Racionais disponíveis em https://www.letras.mus.br/racionais-mcs/.\n",
        "A próxima etapa é o treinamento da base, foi utilizada ......."
      ],
      "metadata": {
        "id": "yABUBPTvcalt"
      }
    },
    {
      "cell_type": "markdown",
      "source": [
        "## Motivos que justificam a escolha do(s) algoritmo(s) para seu problema"
      ],
      "metadata": {
        "id": "Uoj8_IJfZif0"
      }
    },
    {
      "cell_type": "markdown",
      "source": [
        "Partindo dos testes, que serão melhor descritos abaixo, pode-se concluir que o melhor algoritmo para este caso é ..... utilizando ....."
      ],
      "metadata": {
        "id": "tCvinPRwcy3N"
      }
    },
    {
      "cell_type": "markdown",
      "source": [
        "# Trabalhos Correlatos (Revisão da Literatura)"
      ],
      "metadata": {
        "id": "8cRF4pbPZkwU"
      }
    },
    {
      "cell_type": "markdown",
      "source": [
        "## Como esse algoritmo foi utilizado nesse problema (ou problemas semelhantes)"
      ],
      "metadata": {
        "id": "p9S9kwU6ZnVD"
      }
    },
    {
      "cell_type": "markdown",
      "source": [
        "Partindo dos estudos que já foram referenciados anteriormente (e encontram-se nas referências deste trabalho) podemos observar que a LSTM é a alternativa mais utilizada, portanto, foi testada a utilização dela e .........."
      ],
      "metadata": {
        "id": "X0J6wkzzdBsW"
      }
    },
    {
      "cell_type": "markdown",
      "source": [
        "## Como outros algoritmos foram utilizados nesse problema (ou problemas semelhantes)"
      ],
      "metadata": {
        "id": "6cAwpGDMZtmE"
      }
    },
    {
      "cell_type": "markdown",
      "source": [
        "Observando ... ... e .... temos esta outra abordagem, que utiliza .... para treinamento da rede e geração de novas letras, porém ....."
      ],
      "metadata": {
        "id": "C4uUHU29dMp-"
      }
    },
    {
      "cell_type": "markdown",
      "source": [
        "# Descrever a metodologia para execução das simulações computacionais"
      ],
      "metadata": {
        "id": "2fyt8U7fZ2Vk"
      }
    },
    {
      "cell_type": "markdown",
      "source": [
        "As simulações baseiam-se em treinamento da base e testes de predição de palavras, supracitados anteriormente, através de labels utilizando as métricas citadas abaixo.\n",
        "A segunda etapa baseia-se no treinamento da base de dados e, observando a geração do texto ....."
      ],
      "metadata": {
        "id": "DuTzh46bf_23"
      }
    },
    {
      "cell_type": "markdown",
      "source": [
        "## Métricas de avaliação utilizadas"
      ],
      "metadata": {
        "id": "cVzbKPgwZ5rt"
      }
    },
    {
      "cell_type": "markdown",
      "source": [
        "As métricas de avaliação utilizadas foram:\n",
        "* **Perplexidade**;\n",
        "* **Accuracy (Precisão)**; e\n",
        "* **Perda (Loss)**.\n",
        "\n",
        "Ao observá-las em ação, pode-se concluir que ... teve um melhor desempenho e um resultado satisfatório."
      ],
      "metadata": {
        "id": "oNT2e-jIdULN"
      }
    },
    {
      "cell_type": "markdown",
      "source": [
        "## Testes executados"
      ],
      "metadata": {
        "id": "YnhRgbRLZ97k"
      }
    },
    {
      "cell_type": "markdown",
      "source": [
        "Inicialmente é feito alguns testes de predição com a base de dados sem o treinamento para observar como é o comportamento desta a partir de alguns trechos de músicas do Racionais."
      ],
      "metadata": {
        "id": "Awy1iMh6diwe"
      }
    },
    {
      "cell_type": "markdown",
      "source": [
        "### Testes de predição"
      ],
      "metadata": {
        "id": "bFTGLjQ6duOC"
      }
    },
    {
      "cell_type": "code",
      "source": [
        "#testes de predição BERT"
      ],
      "metadata": {
        "id": "vhO4pE1veMA1"
      },
      "execution_count": null,
      "outputs": []
    },
    {
      "cell_type": "markdown",
      "source": [
        "Após isso, o modelo foi treinado, como visto a seguir"
      ],
      "metadata": {
        "id": "B1kQOPRPdv4m"
      }
    },
    {
      "cell_type": "code",
      "source": [
        "#Algoritmo de treinamento"
      ],
      "metadata": {
        "id": "4-GYdFXLeJ7p"
      },
      "execution_count": null,
      "outputs": []
    },
    {
      "cell_type": "markdown",
      "source": [
        "Após essa etapa, são feitos novos teste de predição.\n",
        "Sendo assim, é possível comparar o resultado das predições do modelo treinado (original) x modelo treinado com a base de dados contendo as letras de música.\n",
        "Podemos observar alguns gráficos no próximo tópico, que ilustrarão melhor o aprendizado do algoritmo."
      ],
      "metadata": {
        "id": "TERQvilbd5XG"
      }
    },
    {
      "cell_type": "markdown",
      "source": [
        "# Gráficos e tabelas"
      ],
      "metadata": {
        "id": "BgzC6A_CZ-20"
      }
    },
    {
      "cell_type": "markdown",
      "source": [
        "## Apresentar e discutir as curvas de aprendizado para seu(s) modelo(s)"
      ],
      "metadata": {
        "id": "d6SaraCXaEWr"
      }
    },
    {
      "cell_type": "markdown",
      "source": [
        "## Apresentar e discutir a escolha dos hiper parâmetros"
      ],
      "metadata": {
        "id": "i4nxXqNpaJwL"
      }
    },
    {
      "cell_type": "markdown",
      "source": [
        "## Apresentar e discutir os valores para as métricas de desempenho"
      ],
      "metadata": {
        "id": "J_X9YRLwaL-r"
      }
    },
    {
      "cell_type": "markdown",
      "source": [
        "### Dados de Treinamento"
      ],
      "metadata": {
        "id": "R2wSe7zBaPvL"
      }
    },
    {
      "cell_type": "markdown",
      "source": [
        "### Dados de Validação"
      ],
      "metadata": {
        "id": "TTtSkRaBaTg8"
      }
    },
    {
      "cell_type": "markdown",
      "source": [
        "# Resultados"
      ],
      "metadata": {
        "id": "Y_JfdQG9aU-7"
      }
    },
    {
      "cell_type": "markdown",
      "source": [
        "## Análise comparativa entre os algoritmos utilizados"
      ],
      "metadata": {
        "id": "WsB1gfJRaXcs"
      }
    },
    {
      "cell_type": "markdown",
      "source": [
        "Após este estudo, pode-se observar que o algoritmo .... teve um desempenho melhor neste desenvolvimento.\n",
        "Sendo assim, ......"
      ],
      "metadata": {
        "id": "_g7jm9lpefwu"
      }
    },
    {
      "cell_type": "markdown",
      "source": [
        "## Análise comparativa com um algoritmo de AutoML"
      ],
      "metadata": {
        "id": "q9l0TcZZaaY0"
      }
    },
    {
      "cell_type": "markdown",
      "source": [
        "### Algoritmo 1"
      ],
      "metadata": {
        "id": "9U7owxfJepcX"
      }
    },
    {
      "cell_type": "markdown",
      "source": [
        "### Algoritmo 2"
      ],
      "metadata": {
        "id": "tVxwiYeletEX"
      }
    },
    {
      "cell_type": "markdown",
      "source": [
        "### Gráfico de comparação entre eles"
      ],
      "metadata": {
        "id": "fmN_kPiAevH_"
      }
    },
    {
      "cell_type": "markdown",
      "source": [
        "## Comparar - de forma geral - os resultados obtidos com Trabalhos Correlatos."
      ],
      "metadata": {
        "id": "ji6IHFLdac9D"
      }
    },
    {
      "cell_type": "markdown",
      "source": [
        "Observando .... é possível verificar que há alguma semelhança entre as abordagens, porém as etapas de treinamento e decisão dos hiper parâmetros diferem-se em .... e em .... temos outra abordagem, porém a intenção é semelhante à deste trabalho.\n",
        "Contudo, em ..... têm-se um mix entre as abordagens e ...."
      ],
      "metadata": {
        "id": "BiRCC6-We2UP"
      }
    },
    {
      "cell_type": "markdown",
      "source": [
        "# Conclusões e Trabalhos Futuros"
      ],
      "metadata": {
        "id": "Xlmaq2TzafKk"
      }
    },
    {
      "cell_type": "markdown",
      "source": [
        "# Referências"
      ],
      "metadata": {
        "id": "L47AOuuBfaZn"
      }
    },
    {
      "cell_type": "markdown",
      "source": [
        "  * ANAND, Advaith et al. Rap Lyric Generation: A Phoneme-Based LSTM Approach.\n",
        "  https://michaelshum.github.io/files/rap-lyric-generation.pdf  POTASH, Peter;\n",
        "  \n",
        "  * JULIANI, Jeferson da Silva. Gerando letras musicais utilizado uma rede neural recorrente LSTM-Long Short-Term Memory. 2019.\n",
        "  https://repositorio.ufc.br/bitstream/riufc/49519/1/2019_tcc_jsjuliani.pdf\n",
        "\n",
        "  * POTASH, Peter; ROMANOV, Alexey; RUMSHISKY, Anna. Ghostwriter: Using an lstm for automatic rap lyric generation. In: Proceedings of the 2015 Conference on Empirical Methods in Natural Language Processing. 2015. p. 1919-1924.\n",
        "  https://aclanthology.org/D15-1221.pdf\n",
        "\n",
        "  * ROMANOV, Alexey; RUMSHISKY, Anna. Ghostwriter: Using an lstm for automatic rap lyric generation. In: Proceedings of the 2015 Conference on Empirical Methods in Natural Language Processing. 2015. p. 1919-1924.\n",
        "  https://arxiv.org/pdf/2107.01875"
      ],
      "metadata": {
        "id": "jHM2aUb4fcov"
      }
    }
  ]
}