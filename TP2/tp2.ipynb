{
 "cells": [
  {
   "cell_type": "markdown",
   "metadata": {},
   "source": [
    "# Discussão sucinta da Formalização do Problema e dos objetivos pretendidos.\n",
    "\n",
    "    Racionais MCs atravessam gerações e são donos de diversas descrições de contextos e acontecimentos pessoais de inúmeras pessoas, há até uma frase famosa que \"pra toda situação da sua vida, um verso do Racionais\", a motivação principal (além da homenagem a um dos maiores grupos de RAP da história) é conseguir obter novas linhas com o contexto do grupo. Obtendo rimas coesas e uma progressão de música embasada, será possível começar a tentativa de generalização para o contexto RAP. Algoritmos de treinamento são uma parte fundamental para obter o êxito, a escolha correta dos métodos de classificação e treinamento da base de dados. Portanto, os principais objetivos contam com a classificação das rimas, para que possa ter uma distribuição coesa e que faça sentido no aspecto lírico da criação. Treinamento com a base de dados BERTimbau no universo Racionais MCs, para que o contexto seja inserido na base, previamente treinada. Geração de novas letras de músicas.   "
   ]
  },
  {
   "cell_type": "markdown",
   "metadata": {},
   "source": [
    "\n",
    "# Análise Exploratória dos Dados, detalhando cada etapa realizada, justificando as escolhas e justificando as transformações efetuadas. Essa análise deve incluir, mas não se limitar a:"
   ]
  },
  {
   "cell_type": "markdown",
   "metadata": {},
   "source": [
    "## A base de dados é adequada?\n",
    "Inicialmente a ideia de utilizar letras do Racionais foi boa, pois os textos são grandes e dificilmente repetem-se. Porém, a necessidade do aprendizado do contexto das letras é um pouco mais complicado de ser compreendido pelo algoritmo. \n",
    "### Existem dados faltantes? Em caso afirmativo, como foram tratados?\n",
    "Nesta segunda etapa, a intenção é tentar generalizar o contexto, inserindo mais letras do Racionais e, também, algumas participações do grupo ou dos artistas individualmente. \n",
    "### Existem variáveis categóricas? Em caso afirmativo, quais transformações foram necessárias?\n",
    "Sim, as rimas. As transformações necessárias envolvem a predição de novas letras a partir das rimas que são sorteadas. Sendo assim, as rimas necessitam ser ordenadas em pares para que possam ser sorteadas. \n",
    "### Informações estatísticas e Visualização de algumas das features principais\n",
    "Plotar os gráficos de rimas, pares de rimas iguais, quantidade de rimas com algumas sílabas.\n",
    "### Principais Transformações\n",
    "A geração de novas letras se torna mais fácil a partir da utilização da base BERTimbau, pois já há uma geração de texto e predição de palavras. A maior dificuldade vem na criação de novas letras com uma qualidade lírica mais apurada, a análise das features e tratamento dos dados pode ser uma boa solução, portanto tentei com .... "
   ]
  },
  {
   "cell_type": "markdown",
   "metadata": {},
   "source": [
    "# Quais foram as principais decisões de projeto nessa etapa? \n",
    "* Quais os métodos que serão utilizados (?)\n",
    "* \n",
    "## Revisão da Literatura: discuta artigos e projetos semelhantes que você se baseou para suas escolhas.\n",
    "## Como pretende avaliar o impacto dessas decisões na etapa seguinte deste trabalho?"
   ]
  },
  {
   "cell_type": "markdown",
   "metadata": {},
   "source": [
    "# Descrever, sucintamente, a metodologia para execução das simulações computacionais da etapa seguinte. \n",
    "## Qual(is) Algoritmo(s) de Machine/Deep Learning pretende utilizar?\n",
    "## Breve descrição do(s) método(s) escolhido(s).\n",
    "## Qual(is) métrica(s) de desempenho pretende utilizar?\n",
    "## Pretende comparar seus resultados com qual(is) referência(s) (outros modelos; trabalhos relacionados)."
   ]
  }
 ],
 "metadata": {
  "language_info": {
   "name": "python"
  }
 },
 "nbformat": 4,
 "nbformat_minor": 2
}
